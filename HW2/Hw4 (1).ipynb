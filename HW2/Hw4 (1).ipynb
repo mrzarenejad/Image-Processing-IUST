{
 "cells": [
  {
   "cell_type": "code",
   "execution_count": 90,
   "id": "ca8ecaf4",
   "metadata": {},
   "outputs": [],
   "source": [
    "import numpy as np \n",
    "import cv2 "
   ]
  },
  {
   "cell_type": "code",
   "execution_count": 91,
   "id": "39c56491",
   "metadata": {},
   "outputs": [
    {
     "name": "stdout",
     "output_type": "stream",
     "text": [
      "(270, 439, 3)\n"
     ]
    }
   ],
   "source": [
    "import cv2\n",
    "input = cv2.imread('pic.jpg')\n",
    "print (input.shape)"
   ]
  },
  {
   "cell_type": "code",
   "execution_count": 92,
   "id": "260183dd",
   "metadata": {},
   "outputs": [],
   "source": [
    "cv2.imshow('Main picture',input)\n",
    "cv2.waitKey(0)\n",
    "cv2.destroyAllWindows()"
   ]
  },
  {
   "cell_type": "code",
   "execution_count": 93,
   "id": "3a2e8f62",
   "metadata": {},
   "outputs": [],
   "source": [
    "gray_image = cv2.cvtColor(input, cv2.COLOR_BGR2GRAY)/255\n",
    "cv2.imshow('Grayscale', gray_image)\n",
    "cv2.waitKey(0)\n",
    "cv2.destroyAllWindows()"
   ]
  },
  {
   "cell_type": "code",
   "execution_count": 94,
   "id": "ccd4a4bc",
   "metadata": {},
   "outputs": [],
   "source": [
    "noise = np.random.random(gray_image.shape)\n",
    "cv2.imshow('Noise',noise)\n",
    "cv2.waitKey(0)\n",
    "cv2.destroyAllWindows()"
   ]
  },
  {
   "cell_type": "code",
   "execution_count": 95,
   "id": "d0bd86ea",
   "metadata": {},
   "outputs": [],
   "source": [
    "noisy_image = gray_image + noise\n",
    "cv2.imshow('Noisy_Image',noisy_image)\n",
    "cv2.waitKey(0)\n",
    "cv2.destroyAllWindows()"
   ]
  },
  {
   "cell_type": "code",
   "execution_count": 96,
   "id": "0b15a574",
   "metadata": {},
   "outputs": [],
   "source": [
    "image_pad = np.pad(noisy_image,1)\n",
    "filter_image=np.zeros(image_pad.shape)\n",
    "for i in range(2,len(noisy_image[0:])-2):\n",
    "               for j in range(2,len(noisy_image[0])-2):\n",
    "                             filter_image[i][j]=np.sum(image_pad[i-1:i+1,j-1:j+1])/9\n",
    "cv2.imshow('Filter Image',filter_image)\n",
    "cv2.waitKey(0)\n",
    "cv2.destroyAllWindows()                              "
   ]
  }
 ],
 "metadata": {
  "kernelspec": {
   "display_name": "Python 3 (ipykernel)",
   "language": "python",
   "name": "python3"
  },
  "language_info": {
   "codemirror_mode": {
    "name": "ipython",
    "version": 3
   },
   "file_extension": ".py",
   "mimetype": "text/x-python",
   "name": "python",
   "nbconvert_exporter": "python",
   "pygments_lexer": "ipython3",
   "version": "3.9.7"
  }
 },
 "nbformat": 4,
 "nbformat_minor": 5
}
