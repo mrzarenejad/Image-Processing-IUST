{
  "cells": [
    {
      "cell_type": "markdown",
      "metadata": {
        "id": "r1Iql1Vefpr1"
      },
      "source": [
        "# 1. Creating formulas\n",
        "Write the following mathematical formula in Python:\n",
        "\n",
        "\\begin{align}\n",
        " result = 6a^3 - \\frac{8b^2 }{4c} + 11\n",
        "\\end{align}\n"
      ]
    },
    {
      "cell_type": "code",
      "execution_count": null,
      "metadata": {
        "editable": false,
        "id": "89aMVetYfpr6"
      },
      "outputs": [],
      "source": [
        "a = 2\n",
        "b = 3\n",
        "c = 2"
      ]
    },
    {
      "cell_type": "code",
      "execution_count": null,
      "metadata": {
        "colab": {
          "base_uri": "https://localhost:8080/"
        },
        "id": "cDSxK0Gqfpr8",
        "outputId": "db838cca-d158-4698-b17b-33c387695a13"
      },
      "outputs": [
        {
          "output_type": "stream",
          "name": "stdout",
          "text": [
            "50.0\n"
          ]
        }
      ],
      "source": [
        "# Your formula here:\n",
        "result =  (6* (a ** 3)) - ((8*(b**2)/(4*c)))+11\n",
        "print(result)"
      ]
    },
    {
      "cell_type": "code",
      "execution_count": null,
      "metadata": {
        "editable": false,
        "id": "ZxjYSTDwfpr8"
      },
      "outputs": [],
      "source": [
        "\n",
        "assert result == 50"
      ]
    },
    {
      "cell_type": "markdown",
      "metadata": {
        "id": "cOg-LS3zfpr9"
      },
      "source": [
        "# 2. Floating point pitfalls\n",
        "Show that `0.1 + 0.2 == 0.3`"
      ]
    },
    {
      "cell_type": "code",
      "source": [
        "from decimal import Decimal"
      ],
      "metadata": {
        "id": "5lsUlDJpmR-j"
      },
      "execution_count": null,
      "outputs": []
    },
    {
      "cell_type": "code",
      "execution_count": null,
      "metadata": {
        "colab": {
          "base_uri": "https://localhost:8080/"
        },
        "id": "cE8Zw38hfpr9",
        "outputId": "3fd0f876-51e6-4a48-c185-3c42706c7633"
      },
      "outputs": [
        {
          "output_type": "stream",
          "name": "stdout",
          "text": [
            "False\n"
          ]
        },
        {
          "output_type": "execute_result",
          "data": {
            "text/plain": [
              "True"
            ]
          },
          "metadata": {},
          "execution_count": 21
        }
      ],
      "source": [
        "# Your solution here\n",
        "a = 0.1 + 0.2\n",
        "b = 0.3\n",
        "print(a == b)\n",
        "# This won't work:\n",
        "# assert 0.1 + 0.2 == 0.3\n",
        "a = Decimal('0.1')\n",
        "b = Decimal('0.2')\n",
        "c = Decimal('0.3')\n",
        "c == a+b\n"
      ]
    }
  ],
  "metadata": {
    "kernelspec": {
      "display_name": "Python 3 (ipykernel)",
      "language": "python",
      "name": "python3"
    },
    "language_info": {
      "codemirror_mode": {
        "name": "ipython",
        "version": 3
      },
      "file_extension": ".py",
      "mimetype": "text/x-python",
      "name": "python",
      "nbconvert_exporter": "python",
      "pygments_lexer": "ipython3",
      "version": "3.8.11"
    },
    "colab": {
      "name": "numbers_exercise_zarenejad.ipynb",
      "provenance": [],
      "collapsed_sections": []
    }
  },
  "nbformat": 4,
  "nbformat_minor": 0
}