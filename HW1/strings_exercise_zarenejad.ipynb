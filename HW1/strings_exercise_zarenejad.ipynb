{
  "cells": [
    {
      "cell_type": "markdown",
      "metadata": {
        "id": "5tAfb0WRgXBE"
      },
      "source": [
        "# 1. Fill missing pieces\n",
        "Fill `____` pieces below to have correct values for `lower_cased`, `stripped` and `stripped_lower_case` variables."
      ]
    },
    {
      "cell_type": "code",
      "execution_count": null,
      "metadata": {
        "colab": {
          "base_uri": "https://localhost:8080/"
        },
        "id": "oVSNHDdAgXBS",
        "outputId": "25df3c7b-a4a9-47ee-a23c-6b86b422ae9a"
      },
      "outputs": [
        {
          "output_type": "stream",
          "name": "stdout",
          "text": [
            " python strings are cool! \n",
            "Python strings are COOL!\n",
            "python strings are cool!\n"
          ]
        }
      ],
      "source": [
        "original = ' Python strings are COOL! '\n",
        "lower_cased = original.lower()\n",
        "print(lower_cased)\n",
        "stripped = original.strip()\n",
        "print(stripped)\n",
        "stripped_lower_cased = original.lower().strip()\n",
        "print(stripped_lower_cased)"
      ]
    },
    {
      "cell_type": "markdown",
      "metadata": {
        "id": "A4iHXTwPgXBW"
      },
      "source": [
        "Let's verify that the implementation is correct by running the cell below. `assert` will raise `AssertionError` if the statement is not true.  "
      ]
    },
    {
      "cell_type": "code",
      "execution_count": null,
      "metadata": {
        "editable": false,
        "id": "OkHf2UEZgXBY"
      },
      "outputs": [],
      "source": [
        "assert lower_cased == ' python strings are cool! '\n",
        "assert stripped == 'Python strings are COOL!'\n",
        "assert stripped_lower_cased == 'python strings are cool!'"
      ]
    },
    {
      "cell_type": "markdown",
      "metadata": {
        "id": "rtqIpeKlgXBZ"
      },
      "source": [
        "# 2. Prettify ugly string\n",
        "Use `str` methods to convert `ugly` to wanted `pretty`."
      ]
    },
    {
      "cell_type": "code",
      "execution_count": 2,
      "metadata": {
        "editable": false,
        "id": "L-Mah6eUgXBb"
      },
      "outputs": [],
      "source": [
        "ugly = ' tiTle of MY new Book\\n\\n'"
      ]
    },
    {
      "cell_type": "code",
      "execution_count": 57,
      "metadata": {
        "colab": {
          "base_uri": "https://localhost:8080/"
        },
        "id": "uBKx14vOgXBc",
        "outputId": "22467a38-25b9-4229-dac2-ac04de97f939"
      },
      "outputs": [
        {
          "output_type": "stream",
          "name": "stdout",
          "text": [
            "Title Of My New Book\n"
          ]
        }
      ],
      "source": [
        "# Your implementation:\n",
        "pretty1 = ugly.lower().strip()\n",
        "sentence=pretty1.split(' ')\n",
        "pretty2=[]\n",
        "for i in sentence:\n",
        "      pretty2 += i.capitalize()+' '\n",
        "pretty =''.join(pretty2[:-1])\n",
        "print(pretty)"
      ]
    },
    {
      "cell_type": "markdown",
      "metadata": {
        "id": "QVdwBVKvgXBc"
      },
      "source": [
        "Let's make sure that it does what we want. `assert` raises [`AssertionError`](https://docs.python.org/3/library/exceptions.html#AssertionError) if the statement is not `True`."
      ]
    },
    {
      "cell_type": "code",
      "execution_count": 58,
      "metadata": {
        "editable": false,
        "id": "-dBkeeKzgXBe",
        "colab": {
          "base_uri": "https://localhost:8080/"
        },
        "outputId": "cf178d59-3dd5-444d-bb28-d310733206b8"
      },
      "outputs": [
        {
          "output_type": "stream",
          "name": "stdout",
          "text": [
            "pretty: Title Of My New Book\n"
          ]
        }
      ],
      "source": [
        "print('pretty: {}'.format(pretty))\n",
        "assert pretty == 'Title Of My New Book'"
      ]
    },
    {
      "cell_type": "markdown",
      "metadata": {
        "id": "guYd392WgXBf"
      },
      "source": [
        "# 3. Format string based on existing variables\n",
        "Create `sentence` by using `verb`, `language`, and `punctuation` and any other strings you may need."
      ]
    },
    {
      "cell_type": "code",
      "execution_count": 59,
      "metadata": {
        "editable": false,
        "id": "yhk8M-Z6gXBg"
      },
      "outputs": [],
      "source": [
        "verb = 'is'\n",
        "language = 'Python'\n",
        "punctuation = '!'"
      ]
    },
    {
      "cell_type": "code",
      "execution_count": 67,
      "metadata": {
        "id": "fnstgibrgXBh",
        "colab": {
          "base_uri": "https://localhost:8080/"
        },
        "outputId": "37e0f071-33be-4294-e960-feb4f617f6b2"
      },
      "outputs": [
        {
          "output_type": "stream",
          "name": "stdout",
          "text": [
            "Learning Python is fun!\n"
          ]
        }
      ],
      "source": [
        "# Your implementation:\n",
        "noun1 = 'Learning '\n",
        "noun2 = ' fun'\n",
        "sentence = noun1 + language +' '+ verb + noun2 + punctuation\n",
        "print(sentence)"
      ]
    },
    {
      "cell_type": "code",
      "execution_count": 68,
      "metadata": {
        "editable": false,
        "id": "U5sF2la7gXBi",
        "colab": {
          "base_uri": "https://localhost:8080/"
        },
        "outputId": "c4e311fd-b80a-4488-e36a-f5b5a82fed4a"
      },
      "outputs": [
        {
          "output_type": "stream",
          "name": "stdout",
          "text": [
            "sentence: Learning Python is fun!\n"
          ]
        }
      ],
      "source": [
        "print('sentence: {}'.format(sentence))\n",
        "assert sentence == 'Learning Python is fun!'"
      ]
    }
  ],
  "metadata": {
    "kernelspec": {
      "display_name": "Python 3 (ipykernel)",
      "language": "python",
      "name": "python3"
    },
    "language_info": {
      "codemirror_mode": {
        "name": "ipython",
        "version": 3
      },
      "file_extension": ".py",
      "mimetype": "text/x-python",
      "name": "python",
      "nbconvert_exporter": "python",
      "pygments_lexer": "ipython3",
      "version": "3.8.11"
    },
    "colab": {
      "name": "strings_exercise_zarenejad.ipynb",
      "provenance": []
    }
  },
  "nbformat": 4,
  "nbformat_minor": 0
}