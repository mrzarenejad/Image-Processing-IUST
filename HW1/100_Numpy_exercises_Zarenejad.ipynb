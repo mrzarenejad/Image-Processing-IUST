{
  "cells": [
    {
      "cell_type": "markdown",
      "id": "f44a2f2b",
      "metadata": {
        "id": "f44a2f2b"
      },
      "source": [
        "# 100 numpy exercises\n",
        "\n",
        "This is a collection of exercises that have been collected in the numpy mailing list, on stack overflow\n",
        "and in the numpy documentation. The goal of this collection is to offer a quick reference for both old\n",
        "and new users but also to provide a set of exercises for those who teach."
      ]
    },
    {
      "cell_type": "markdown",
      "id": "96443564",
      "metadata": {
        "id": "96443564"
      },
      "source": [
        "#### 1. Import the numpy package under the name `np` (★☆☆)"
      ]
    },
    {
      "cell_type": "code",
      "execution_count": 1,
      "id": "ffe1047e",
      "metadata": {
        "id": "ffe1047e"
      },
      "outputs": [],
      "source": [
        "import numpy as np"
      ]
    },
    {
      "cell_type": "markdown",
      "id": "c807bf1d",
      "metadata": {
        "id": "c807bf1d"
      },
      "source": [
        "#### 2. Print the numpy version and the configuration (★☆☆)"
      ]
    },
    {
      "cell_type": "code",
      "execution_count": null,
      "id": "f396b717",
      "metadata": {
        "colab": {
          "base_uri": "https://localhost:8080/"
        },
        "id": "f396b717",
        "outputId": "b6a456ad-4419-409b-fb01-6a775361cceb"
      },
      "outputs": [
        {
          "output_type": "stream",
          "name": "stdout",
          "text": [
            "<module 'numpy.version' from '/usr/local/lib/python3.7/dist-packages/numpy/version.py'>\n",
            "<function show at 0x7fd613058c20>\n"
          ]
        }
      ],
      "source": [
        "print(np.version)\n",
        "print(np.show_config)"
      ]
    },
    {
      "cell_type": "markdown",
      "id": "572c1bdb",
      "metadata": {
        "id": "572c1bdb"
      },
      "source": [
        "#### 3. Create a null vector of size 10 (★☆☆)"
      ]
    },
    {
      "cell_type": "code",
      "execution_count": null,
      "id": "31c9f6a5",
      "metadata": {
        "colab": {
          "base_uri": "https://localhost:8080/"
        },
        "id": "31c9f6a5",
        "outputId": "b8e89b98-8500-4603-97bc-687a64ecfb0a"
      },
      "outputs": [
        {
          "output_type": "stream",
          "name": "stdout",
          "text": [
            "[0. 0. 0. 0. 0. 0. 0. 0. 0. 0.]\n"
          ]
        }
      ],
      "source": [
        "print(np.zeros(10))"
      ]
    },
    {
      "cell_type": "markdown",
      "id": "337e6e36",
      "metadata": {
        "id": "337e6e36"
      },
      "source": [
        "#### 4. How to find the memory size of any array (★☆☆)"
      ]
    },
    {
      "cell_type": "code",
      "execution_count": null,
      "id": "31e8ec2e",
      "metadata": {
        "colab": {
          "base_uri": "https://localhost:8080/"
        },
        "id": "31e8ec2e",
        "outputId": "1757f7ea-c401-40fd-864c-242c6a8aabf4"
      },
      "outputs": [
        {
          "output_type": "stream",
          "name": "stdout",
          "text": [
            "3\n"
          ]
        }
      ],
      "source": [
        "x=[1,2,3]\n",
        "print(np.size(x))"
      ]
    },
    {
      "cell_type": "markdown",
      "id": "166079c8",
      "metadata": {
        "id": "166079c8"
      },
      "source": [
        "#### 5. How to get the documentation of the numpy add function from the command line? (★☆☆)"
      ]
    },
    {
      "cell_type": "code",
      "execution_count": null,
      "id": "593cd80f",
      "metadata": {
        "colab": {
          "base_uri": "https://localhost:8080/"
        },
        "id": "593cd80f",
        "outputId": "8a775a10-9f09-4bb3-ee9c-c0e4e00306d3"
      },
      "outputs": [
        {
          "output_type": "stream",
          "name": "stdout",
          "text": [
            "     *** Found in numpy.random ***\n",
            "shuffle(x)\n",
            "\n",
            "Modify a sequence in-place by shuffling its contents.\n",
            "\n",
            "This function only shuffles the array along the first axis of a\n",
            "multi-dimensional array. The order of sub-arrays is changed but\n",
            "their contents remains the same.\n",
            "\n",
            ".. note::\n",
            "    New code should use the ``shuffle`` method of a ``default_rng()``\n",
            "    instance instead; please see the :ref:`random-quick-start`.\n",
            "\n",
            "Parameters\n",
            "----------\n",
            "x : ndarray or MutableSequence\n",
            "    The array, list or mutable sequence to be shuffled.\n",
            "\n",
            "Returns\n",
            "-------\n",
            "None\n",
            "\n",
            "See Also\n",
            "--------\n",
            "Generator.shuffle: which should be used for new code.\n",
            "\n",
            "Examples\n",
            "--------\n",
            ">>> arr = np.arange(10)\n",
            ">>> np.random.shuffle(arr)\n",
            ">>> arr\n",
            "[1 7 5 2 9 4 3 6 0 8] # random\n",
            "\n",
            "Multi-dimensional arrays are only shuffled along the first axis:\n",
            "\n",
            ">>> arr = np.arange(9).reshape((3, 3))\n",
            ">>> np.random.shuffle(arr)\n",
            ">>> arr\n",
            "array([[3, 4, 5], # random\n",
            "       [6, 7, 8],\n",
            "       [0, 1, 2]])\n",
            "----------------------------------------------------------------------------\n",
            "\n",
            "     *** Repeat reference found in numpy.random.mtrand *** \n",
            "\n",
            "     *** Total of 2 references found. ***\n"
          ]
        }
      ],
      "source": [
        "np.info('shuffle')"
      ]
    },
    {
      "cell_type": "markdown",
      "id": "3add7101",
      "metadata": {
        "id": "3add7101"
      },
      "source": [
        "#### 6. Create a null vector of size 10 but the fifth value which is 1 (★☆☆)"
      ]
    },
    {
      "cell_type": "code",
      "execution_count": null,
      "id": "2edf3c42",
      "metadata": {
        "colab": {
          "base_uri": "https://localhost:8080/"
        },
        "id": "2edf3c42",
        "outputId": "79d5b2dc-3aa8-4290-bd3c-45074efbf494"
      },
      "outputs": [
        {
          "output_type": "stream",
          "name": "stdout",
          "text": [
            "[0. 0. 0. 0. 1. 0. 0. 0. 0. 0.]\n"
          ]
        }
      ],
      "source": [
        "x=np.zeros(10)\n",
        "x[4]=1\n",
        "print(x)"
      ]
    },
    {
      "cell_type": "markdown",
      "id": "cfc46304",
      "metadata": {
        "id": "cfc46304"
      },
      "source": [
        "#### 7. Create a vector with values ranging from 10 to 49 (★☆☆)"
      ]
    },
    {
      "cell_type": "code",
      "execution_count": null,
      "id": "d8b86640",
      "metadata": {
        "colab": {
          "base_uri": "https://localhost:8080/"
        },
        "id": "d8b86640",
        "outputId": "8cd87270-52df-4b14-dbde-6dee4f49504c"
      },
      "outputs": [
        {
          "output_type": "execute_result",
          "data": {
            "text/plain": [
              "array([10, 11, 12, 13, 14, 15, 16, 17, 18, 19, 20, 21, 22, 23, 24, 25, 26,\n",
              "       27, 28, 29, 30, 31, 32, 33, 34, 35, 36, 37, 38, 39, 40, 41, 42, 43,\n",
              "       44, 45, 46, 47, 48, 49])"
            ]
          },
          "metadata": {},
          "execution_count": 18
        }
      ],
      "source": [
        "np.arange(10,50)"
      ]
    },
    {
      "cell_type": "markdown",
      "id": "0cc200be",
      "metadata": {
        "id": "0cc200be"
      },
      "source": [
        "#### 8. Reverse a vector (first element becomes last) (★☆☆)"
      ]
    },
    {
      "cell_type": "code",
      "execution_count": null,
      "id": "ec044bb5",
      "metadata": {
        "colab": {
          "base_uri": "https://localhost:8080/"
        },
        "id": "ec044bb5",
        "outputId": "575ce98f-abf5-4cbe-8a38-62e07d62b399"
      },
      "outputs": [
        {
          "output_type": "stream",
          "name": "stdout",
          "text": [
            "[5, 4, 3, 2, 1]\n"
          ]
        }
      ],
      "source": [
        "x=[1,2,3,4,5]\n",
        "print(x[::-1])"
      ]
    },
    {
      "cell_type": "markdown",
      "id": "29d9ede4",
      "metadata": {
        "id": "29d9ede4"
      },
      "source": [
        "#### 9. Create a 3x3 matrix with values ranging from 0 to 8 (★☆☆)"
      ]
    },
    {
      "cell_type": "code",
      "execution_count": null,
      "id": "d9e39043",
      "metadata": {
        "colab": {
          "base_uri": "https://localhost:8080/"
        },
        "id": "d9e39043",
        "outputId": "d5a72527-25fc-429f-8ff7-4b5bf0c49bac"
      },
      "outputs": [
        {
          "output_type": "execute_result",
          "data": {
            "text/plain": [
              "array([[0, 1, 2],\n",
              "       [3, 4, 5],\n",
              "       [6, 7, 8]])"
            ]
          },
          "metadata": {},
          "execution_count": 31
        }
      ],
      "source": [
        "np.reshape(np.arange(0,9),(3,3))"
      ]
    },
    {
      "cell_type": "markdown",
      "id": "88905ceb",
      "metadata": {
        "id": "88905ceb"
      },
      "source": [
        "#### 10. Find indices of non-zero elements from [1,2,0,0,4,0] (★☆☆)"
      ]
    },
    {
      "cell_type": "code",
      "execution_count": null,
      "id": "b2f3c90a",
      "metadata": {
        "colab": {
          "base_uri": "https://localhost:8080/"
        },
        "id": "b2f3c90a",
        "outputId": "0c2e060c-cb7a-4a8d-b779-ef33f64dc104"
      },
      "outputs": [
        {
          "output_type": "execute_result",
          "data": {
            "text/plain": [
              "(array([0, 1, 4]),)"
            ]
          },
          "metadata": {},
          "execution_count": 34
        }
      ],
      "source": [
        "np.nonzero([1,2,0,0,4,0])"
      ]
    },
    {
      "cell_type": "markdown",
      "id": "49603e91",
      "metadata": {
        "id": "49603e91"
      },
      "source": [
        "#### 11. Create a 3x3 identity matrix (★☆☆)"
      ]
    },
    {
      "cell_type": "code",
      "execution_count": null,
      "id": "5b607b5c",
      "metadata": {
        "colab": {
          "base_uri": "https://localhost:8080/"
        },
        "id": "5b607b5c",
        "outputId": "f72fe2a1-34a6-4767-8d0b-2e2e75e6a0a7"
      },
      "outputs": [
        {
          "output_type": "execute_result",
          "data": {
            "text/plain": [
              "array([[1., 0., 0.],\n",
              "       [0., 1., 0.],\n",
              "       [0., 0., 1.]])"
            ]
          },
          "metadata": {},
          "execution_count": 35
        }
      ],
      "source": [
        "np.eye(3)"
      ]
    },
    {
      "cell_type": "markdown",
      "id": "e15c249a",
      "metadata": {
        "id": "e15c249a"
      },
      "source": [
        "#### 12. Create a 3x3x3 array with random values (★☆☆)"
      ]
    },
    {
      "cell_type": "code",
      "execution_count": null,
      "id": "ab21ed50",
      "metadata": {
        "colab": {
          "base_uri": "https://localhost:8080/"
        },
        "id": "ab21ed50",
        "outputId": "744fe2d9-aec7-4283-bc7c-f3f4b86cfdbc"
      },
      "outputs": [
        {
          "output_type": "execute_result",
          "data": {
            "text/plain": [
              "array([[[0.81058749, 0.76538449, 0.1167534 ],\n",
              "        [0.37877207, 0.28892411, 0.4322007 ],\n",
              "        [0.17507816, 0.69305514, 0.68861986]],\n",
              "\n",
              "       [[0.94675002, 0.18815769, 0.3261888 ],\n",
              "        [0.6637617 , 0.34055847, 0.10398007],\n",
              "        [0.78207349, 0.84626503, 0.7974868 ]],\n",
              "\n",
              "       [[0.18122728, 0.63627209, 0.84321847],\n",
              "        [0.44557832, 0.50039693, 0.51029463],\n",
              "        [0.80662713, 0.87727873, 0.11750643]]])"
            ]
          },
          "metadata": {},
          "execution_count": 48
        }
      ],
      "source": [
        "np.reshape(np.random.random(27),(3,3,3))"
      ]
    },
    {
      "cell_type": "markdown",
      "id": "157a129c",
      "metadata": {
        "id": "157a129c"
      },
      "source": [
        "#### 13. Create a 10x10 array with random values and find the minimum and maximum values (★☆☆)"
      ]
    },
    {
      "cell_type": "code",
      "execution_count": null,
      "id": "c0066de5",
      "metadata": {
        "colab": {
          "base_uri": "https://localhost:8080/"
        },
        "id": "c0066de5",
        "outputId": "b6580658-c41f-4460-aaaf-a65228577732"
      },
      "outputs": [
        {
          "output_type": "stream",
          "name": "stdout",
          "text": [
            "0.0004740288137955462\n",
            "0.9792549684760774\n"
          ]
        }
      ],
      "source": [
        "x=np.reshape(np.random.random(100),(10,10))\n",
        "print(np.min(x))\n",
        "print(np.max(x))"
      ]
    },
    {
      "cell_type": "markdown",
      "id": "d92d7b32",
      "metadata": {
        "id": "d92d7b32"
      },
      "source": [
        "#### 14. Create a random vector of size 30 and find the mean value (★☆☆)"
      ]
    },
    {
      "cell_type": "code",
      "execution_count": null,
      "id": "9672d023",
      "metadata": {
        "colab": {
          "base_uri": "https://localhost:8080/"
        },
        "id": "9672d023",
        "outputId": "4ac7ff3e-e982-4028-897e-d0f47fd932c1"
      },
      "outputs": [
        {
          "output_type": "execute_result",
          "data": {
            "text/plain": [
              "0.5194850165321648"
            ]
          },
          "metadata": {},
          "execution_count": 59
        }
      ],
      "source": [
        "np.mean(np.random.random(30))"
      ]
    },
    {
      "cell_type": "markdown",
      "id": "f361efc0",
      "metadata": {
        "id": "f361efc0"
      },
      "source": [
        "#### 15. Create a 2d array with 1 on the border and 0 inside (★☆☆)"
      ]
    },
    {
      "cell_type": "code",
      "execution_count": null,
      "id": "a55b6666",
      "metadata": {
        "colab": {
          "base_uri": "https://localhost:8080/"
        },
        "id": "a55b6666",
        "outputId": "7028ee8d-7404-4dfc-bb8b-5056312cc6a0"
      },
      "outputs": [
        {
          "output_type": "stream",
          "name": "stdout",
          "text": [
            "[[1. 1. 1. 1. 1.]\n",
            " [1. 0. 0. 0. 1.]\n",
            " [1. 0. 0. 0. 1.]\n",
            " [1. 0. 0. 0. 1.]\n",
            " [1. 1. 1. 1. 1.]]\n"
          ]
        }
      ],
      "source": [
        "x=np.reshape(np.ones(25),(5,5))\n",
        "x[1:-1,1:-1]=0\n",
        "print(x)"
      ]
    },
    {
      "cell_type": "markdown",
      "id": "475808cb",
      "metadata": {
        "id": "475808cb"
      },
      "source": [
        "#### 16. How to add a border (filled with 0's) around an existing array? (★☆☆)"
      ]
    },
    {
      "cell_type": "code",
      "execution_count": null,
      "id": "b2df3a8a",
      "metadata": {
        "colab": {
          "base_uri": "https://localhost:8080/"
        },
        "id": "b2df3a8a",
        "outputId": "696d125c-04f0-4bde-e9d1-f0c863706cc5"
      },
      "outputs": [
        {
          "output_type": "execute_result",
          "data": {
            "text/plain": [
              "array([[0, 0, 0, 0, 0],\n",
              "       [0, 1, 2, 3, 0],\n",
              "       [0, 4, 5, 6, 0],\n",
              "       [0, 0, 0, 0, 0]])"
            ]
          },
          "metadata": {},
          "execution_count": 75
        }
      ],
      "source": [
        "x=[[1,2,3],[4,5,6]]\n",
        "np.pad(x,1)"
      ]
    },
    {
      "cell_type": "markdown",
      "id": "1af07d85",
      "metadata": {
        "id": "1af07d85"
      },
      "source": [
        "#### 17. What is the result of the following expression? (★☆☆)\n",
        "```python\n",
        "0 * np.nan\n",
        "np.nan == np.nan\n",
        "np.inf > np.nan\n",
        "np.nan - np.nan\n",
        "np.nan in set([np.nan])\n",
        "0.3 == 3 * 0.1\n",
        "```"
      ]
    },
    {
      "cell_type": "code",
      "execution_count": null,
      "id": "109cf327",
      "metadata": {
        "id": "109cf327"
      },
      "outputs": [],
      "source": [
        "#results:\n",
        "         #nan\n",
        "         #false\n",
        "         #false\n",
        "         #nan\n",
        "         #true\n",
        "         #false"
      ]
    },
    {
      "cell_type": "markdown",
      "id": "6a235316",
      "metadata": {
        "id": "6a235316"
      },
      "source": [
        "#### 18. Create a 5x5 matrix with values 1,2,3,4 just below the diagonal (★☆☆)"
      ]
    },
    {
      "cell_type": "code",
      "execution_count": null,
      "id": "f2e6cfa6",
      "metadata": {
        "id": "f2e6cfa6"
      },
      "outputs": [],
      "source": [
        ""
      ]
    },
    {
      "cell_type": "markdown",
      "id": "25362e98",
      "metadata": {
        "id": "25362e98"
      },
      "source": [
        "#### 19. Create a 8x8 matrix and fill it with a checkerboard pattern (★☆☆)"
      ]
    },
    {
      "cell_type": "code",
      "execution_count": null,
      "id": "cabdf298",
      "metadata": {
        "colab": {
          "base_uri": "https://localhost:8080/"
        },
        "id": "cabdf298",
        "outputId": "7884482a-5b07-4a91-a2b8-c6f0676583c7"
      },
      "outputs": [
        {
          "output_type": "stream",
          "name": "stdout",
          "text": [
            "[[0. 1. 0. 1. 0. 1. 0. 1.]\n",
            " [1. 0. 1. 0. 1. 0. 1. 0.]\n",
            " [0. 1. 0. 1. 0. 1. 0. 1.]\n",
            " [1. 0. 1. 0. 1. 0. 1. 0.]\n",
            " [0. 1. 0. 1. 0. 1. 0. 1.]\n",
            " [1. 0. 1. 0. 1. 0. 1. 0.]\n",
            " [0. 1. 0. 1. 0. 1. 0. 1.]\n",
            " [1. 0. 1. 0. 1. 0. 1. 0.]]\n"
          ]
        }
      ],
      "source": [
        "x=np.zeros(64).reshape(8,8)\n",
        "x[1::2,::2]=1\n",
        "x[::2,1::2]=1\n",
        "print(x)"
      ]
    },
    {
      "cell_type": "markdown",
      "id": "6431e977",
      "metadata": {
        "id": "6431e977"
      },
      "source": [
        "#### 20. Consider a (6,7,8) shape array, what is the index (x,y,z) of the 100th element? (★☆☆)"
      ]
    },
    {
      "cell_type": "code",
      "execution_count": null,
      "id": "de8b0245",
      "metadata": {
        "colab": {
          "base_uri": "https://localhost:8080/"
        },
        "id": "de8b0245",
        "outputId": "5b1cbb8f-7e6d-47f3-8862-94281abfe6f4"
      },
      "outputs": [
        {
          "output_type": "execute_result",
          "data": {
            "text/plain": [
              "(1, 5, 4)"
            ]
          },
          "metadata": {},
          "execution_count": 117
        }
      ],
      "source": [
        "np.unravel_index(100,(6,7,8),)"
      ]
    },
    {
      "cell_type": "markdown",
      "id": "31abe6fe",
      "metadata": {
        "id": "31abe6fe"
      },
      "source": [
        "#### 21. Create a checkerboard 8x8 matrix using the tile function (★☆☆)"
      ]
    },
    {
      "cell_type": "code",
      "execution_count": null,
      "id": "6da26fd3",
      "metadata": {
        "colab": {
          "base_uri": "https://localhost:8080/"
        },
        "id": "6da26fd3",
        "outputId": "dc8e4f94-f65e-4724-9f03-34272a305495"
      },
      "outputs": [
        {
          "output_type": "execute_result",
          "data": {
            "text/plain": [
              "array([[0, 1, 0, 1, 0, 1, 0, 1],\n",
              "       [1, 0, 1, 0, 1, 0, 1, 0],\n",
              "       [0, 1, 0, 1, 0, 1, 0, 1],\n",
              "       [1, 0, 1, 0, 1, 0, 1, 0],\n",
              "       [0, 1, 0, 1, 0, 1, 0, 1],\n",
              "       [1, 0, 1, 0, 1, 0, 1, 0],\n",
              "       [0, 1, 0, 1, 0, 1, 0, 1],\n",
              "       [1, 0, 1, 0, 1, 0, 1, 0]])"
            ]
          },
          "metadata": {},
          "execution_count": 126
        }
      ],
      "source": [
        "np.tile([[0,1],[1,0]],(4,4))"
      ]
    },
    {
      "cell_type": "markdown",
      "id": "fd88b3f4",
      "metadata": {
        "id": "fd88b3f4"
      },
      "source": [
        "#### 22. Normalize a 5x5 random matrix (★☆☆)"
      ]
    },
    {
      "cell_type": "code",
      "execution_count": null,
      "id": "ee6ced60",
      "metadata": {
        "id": "ee6ced60",
        "colab": {
          "base_uri": "https://localhost:8080/"
        },
        "outputId": "135c4e27-073f-4385-d621-993bfe6268c2"
      },
      "outputs": [
        {
          "output_type": "stream",
          "name": "stdout",
          "text": [
            "[[0.94626497 0.11002635 0.09063077 0.80826037 0.85883774]\n",
            " [0.96185482 0.68641029 0.34397758 0.23724464 0.03387909]\n",
            " [0.50966668 0.41395842 0.75617096 0.48614359 0.05662834]\n",
            " [0.9884234  0.60556275 0.09648219 0.48873169 0.96366863]\n",
            " [0.66211046 0.85988975 0.67395103 0.85016461 0.79271653]]\n",
            "\n",
            "\n",
            "[[ 1.19394044 -1.46851941 -1.53027206  0.75455424  0.91558508]\n",
            " [ 1.24357621  0.36660164 -0.72365338 -1.06347522 -1.710961  ]\n",
            " [-0.19612382 -0.50084474  0.58870926 -0.27101786 -1.63853078]\n",
            " [ 1.32816663  0.10919504 -1.51164202 -0.26277775  1.24935109]\n",
            " [ 0.28923459  0.91893453  0.32693321  0.88797113  0.70506494]]\n"
          ]
        }
      ],
      "source": [
        "x=np.random.random(25).reshape(5,5)\n",
        "print(x)\n",
        "print('\\n')\n",
        "nor_x= (x - np.mean(x))/np.std(x)\n",
        "print(nor_x)"
      ]
    },
    {
      "cell_type": "markdown",
      "id": "464d8590",
      "metadata": {
        "id": "464d8590"
      },
      "source": [
        "#### 23. Create a custom dtype that describes a color as four unsigned bytes (RGBA) (★☆☆)"
      ]
    },
    {
      "cell_type": "code",
      "execution_count": null,
      "id": "e2f9cfc6",
      "metadata": {
        "id": "e2f9cfc6"
      },
      "outputs": [],
      "source": [
        ""
      ]
    },
    {
      "cell_type": "markdown",
      "id": "06c63bb3",
      "metadata": {
        "id": "06c63bb3"
      },
      "source": [
        "#### 24. Multiply a 5x3 matrix by a 3x2 matrix (real matrix product) (★☆☆)"
      ]
    },
    {
      "cell_type": "code",
      "execution_count": null,
      "id": "9fc0d553",
      "metadata": {
        "id": "9fc0d553",
        "colab": {
          "base_uri": "https://localhost:8080/"
        },
        "outputId": "d51dde6b-cb49-4c34-aaaa-43990cf0d3e3"
      },
      "outputs": [
        {
          "output_type": "execute_result",
          "data": {
            "text/plain": [
              "array([[ 10,  13],\n",
              "       [ 28,  40],\n",
              "       [ 46,  67],\n",
              "       [ 64,  94],\n",
              "       [ 82, 121]])"
            ]
          },
          "metadata": {},
          "execution_count": 11
        }
      ],
      "source": [
        "x = np.arange(15).reshape(5,3)\n",
        "y = np.arange(6).reshape(3,2)\n",
        "np.matmul(x,y)"
      ]
    },
    {
      "cell_type": "markdown",
      "id": "76fa6285",
      "metadata": {
        "id": "76fa6285"
      },
      "source": [
        "#### 25. Given a 1D array, negate all elements which are between 3 and 8, in place. (★☆☆)"
      ]
    },
    {
      "cell_type": "code",
      "execution_count": null,
      "id": "0e25eca7",
      "metadata": {
        "id": "0e25eca7",
        "colab": {
          "base_uri": "https://localhost:8080/"
        },
        "outputId": "b84af8ba-edd0-4159-ceb3-ac52517ade04"
      },
      "outputs": [
        {
          "output_type": "stream",
          "name": "stdout",
          "text": [
            "[8.51668808 3.60155607 8.11472159 7.91613313 1.12323453 9.43578\n",
            " 3.01030359 8.63133746 8.54592213 1.08008694 4.00703981 5.08873522\n",
            " 1.57185815 3.74480374 2.12231014 4.78847968 6.41395623 5.7002634\n",
            " 3.45841752 6.38987589]\n",
            "\n",
            "\n",
            "[ 8.51668808 -3.60155607  8.11472159 -7.91613313  1.12323453  9.43578\n",
            " -3.01030359  8.63133746  8.54592213  1.08008694 -4.00703981 -5.08873522\n",
            "  1.57185815 -3.74480374  2.12231014 -4.78847968 -6.41395623 -5.7002634\n",
            " -3.45841752 -6.38987589]\n"
          ]
        }
      ],
      "source": [
        "x= 10 * np.random.random(20)\n",
        "print(x)\n",
        "print('\\n')\n",
        "c=np.where((x>3) & (x<8) ,x*-1,x)\n",
        "print(c)"
      ]
    },
    {
      "cell_type": "markdown",
      "id": "930ed8bb",
      "metadata": {
        "id": "930ed8bb"
      },
      "source": [
        "#### 26. What is the output of the following script? (★☆☆)\n",
        "```python\n",
        "# Author: Jake VanderPlas\n",
        "\n",
        "print(sum(range(5),-1))\n",
        "from numpy import *\n",
        "print(sum(range(5),-1))\n",
        "```"
      ]
    },
    {
      "cell_type": "code",
      "execution_count": null,
      "id": "f02eedba",
      "metadata": {
        "id": "f02eedba"
      },
      "outputs": [],
      "source": [
        "#the results:\n",
        "#print(sum(range(5),-1)) =>9\n",
        "#from numpy import *\n",
        "print(sum(range(5),-1)) => 10"
      ]
    },
    {
      "cell_type": "markdown",
      "id": "177120e7",
      "metadata": {
        "id": "177120e7"
      },
      "source": [
        "#### 27. Consider an integer vector Z, which of these expressions are legal? (★☆☆)\n",
        "```python\n",
        "Z**Z\n",
        "2 << Z >> 2\n",
        "Z <- Z\n",
        "1j*Z\n",
        "Z/1/1\n",
        "Z<Z>Z\n",
        "```"
      ]
    },
    {
      "cell_type": "code",
      "execution_count": null,
      "id": "86d6cbef",
      "metadata": {
        "id": "86d6cbef"
      },
      "outputs": [],
      "source": [
        "Z= np.arange(11)\n",
        "# Z**Z => legal\n",
        "# 2 << Z >> 2 => legal\n",
        "# Z <- Z => legal\n",
        "# 1j*Z   => legal\n",
        "# Z/1/1  => legal\n",
        "# Z<Z>Z  => ilegal"
      ]
    },
    {
      "cell_type": "markdown",
      "id": "a6eaf0e8",
      "metadata": {
        "id": "a6eaf0e8"
      },
      "source": [
        "#### 28. What are the result of the following expressions? (★☆☆)\n",
        "```python\n",
        "np.array(0) / np.array(0)\n",
        "np.array(0) // np.array(0)\n",
        "np.array([np.nan]).astype(int).astype(float)\n",
        "```"
      ]
    },
    {
      "cell_type": "code",
      "execution_count": null,
      "id": "93684068",
      "metadata": {
        "id": "93684068"
      },
      "outputs": [],
      "source": [
        "# np.array(0) / np.array(0) => nan\n",
        "# np.array(0) // np.array(0) => 0\n",
        "# np.array([np.nan]).astype(int).astype(float) => array([-9.22337204e+18])"
      ]
    },
    {
      "cell_type": "markdown",
      "id": "524b65f8",
      "metadata": {
        "id": "524b65f8"
      },
      "source": [
        "#### 29. How to round away from zero a float array ? (★☆☆)"
      ]
    },
    {
      "cell_type": "code",
      "execution_count": null,
      "id": "61fbb78e",
      "metadata": {
        "id": "61fbb78e",
        "colab": {
          "base_uri": "https://localhost:8080/"
        },
        "outputId": "930423a1-0284-461d-f264-a02ef559a58c"
      },
      "outputs": [
        {
          "output_type": "stream",
          "name": "stdout",
          "text": [
            "[0.00888921 2.47679477 0.13698913 2.3410356  1.6810721  2.35080133\n",
            " 2.34503478 0.63168063 2.96964896 1.46872409 0.15620901 2.95633216\n",
            " 1.08661414 0.53915822 2.82218353 1.64116094 0.46732709 2.57334631\n",
            " 2.63367888 1.09435835]\n",
            "[1. 3. 1. 3. 2. 3. 3. 1. 3. 2. 1. 3. 2. 1. 3. 2. 1. 3. 3. 2.]\n"
          ]
        }
      ],
      "source": [
        "x=3*np.random.random(20)\n",
        "print(x)\n",
        "print(np.ceil(x))\n"
      ]
    },
    {
      "cell_type": "markdown",
      "id": "8dc40752",
      "metadata": {
        "id": "8dc40752"
      },
      "source": [
        "#### 30. How to find common values between two arrays? (★☆☆)"
      ]
    },
    {
      "cell_type": "code",
      "execution_count": null,
      "id": "54399cbe",
      "metadata": {
        "id": "54399cbe",
        "colab": {
          "base_uri": "https://localhost:8080/"
        },
        "outputId": "cd409f98-3bad-4766-8ce6-6b3a24b600f7"
      },
      "outputs": [
        {
          "output_type": "execute_result",
          "data": {
            "text/plain": [
              "array([10, 11, 12, 13, 14])"
            ]
          },
          "metadata": {},
          "execution_count": 46
        }
      ],
      "source": [
        "x= np.arange(5,15)\n",
        "y= np.arange(10,20)\n",
        "np.intersect1d(x,y)"
      ]
    },
    {
      "cell_type": "markdown",
      "id": "b7f38e21",
      "metadata": {
        "id": "b7f38e21"
      },
      "source": [
        "#### 31. How to ignore all numpy warnings (not recommended)? (★☆☆)"
      ]
    },
    {
      "cell_type": "code",
      "execution_count": null,
      "id": "2ca3289c",
      "metadata": {
        "id": "2ca3289c",
        "colab": {
          "base_uri": "https://localhost:8080/"
        },
        "outputId": "9f501122-2898-4f7d-8507-ae1ac1c11023"
      },
      "outputs": [
        {
          "output_type": "execute_result",
          "data": {
            "text/plain": [
              "<numpy.errstate at 0x7f3497070350>"
            ]
          },
          "metadata": {},
          "execution_count": 49
        }
      ],
      "source": [
        "np.errstate(all='warn')"
      ]
    },
    {
      "cell_type": "markdown",
      "id": "2d850aab",
      "metadata": {
        "id": "2d850aab"
      },
      "source": [
        "#### 32. Is the following expressions true? (★☆☆)\n",
        "```python\n",
        "np.sqrt(-1) == np.emath.sqrt(-1)\n",
        "```"
      ]
    },
    {
      "cell_type": "code",
      "execution_count": null,
      "id": "5c83ffce",
      "metadata": {
        "id": "5c83ffce"
      },
      "outputs": [],
      "source": [
        "#the result:\n",
        "#false"
      ]
    },
    {
      "cell_type": "markdown",
      "id": "5c4a556f",
      "metadata": {
        "id": "5c4a556f"
      },
      "source": [
        "#### 33. How to get the dates of yesterday, today and tomorrow? (★☆☆)"
      ]
    },
    {
      "cell_type": "code",
      "execution_count": null,
      "id": "c3b683a0",
      "metadata": {
        "id": "c3b683a0",
        "colab": {
          "base_uri": "https://localhost:8080/"
        },
        "outputId": "9b7e3147-49c0-4efe-8f3b-3661c866c40c"
      },
      "outputs": [
        {
          "output_type": "stream",
          "name": "stdout",
          "text": [
            "Today is : 2022-03-30\n",
            "Tomorrow is : 2022-03-31\n",
            "Yesteday is : 2022-03-29\n"
          ]
        }
      ],
      "source": [
        "print('Today is : {}'.format(np.datetime64('TODAY','D')))\n",
        "print('Tomorrow is : {}'.format(np.datetime64('Today','D')+ np.timedelta64(1, 'D')))\n",
        "print('Yesteday is : {}'.format(np.datetime64('Today','D')- np.timedelta64(1, 'D')))"
      ]
    },
    {
      "cell_type": "markdown",
      "id": "453cdd64",
      "metadata": {
        "id": "453cdd64"
      },
      "source": [
        "#### 34. How to get all the dates corresponding to the month of July 2016? (★★☆)"
      ]
    },
    {
      "cell_type": "code",
      "execution_count": null,
      "id": "4ba4d37c",
      "metadata": {
        "id": "4ba4d37c",
        "colab": {
          "base_uri": "https://localhost:8080/"
        },
        "outputId": "62178385-227a-4a6a-938e-f84d029066df"
      },
      "outputs": [
        {
          "output_type": "stream",
          "name": "stdout",
          "text": [
            "July, 2016\n",
            "['2016-07-01' '2016-07-02' '2016-07-03' '2016-07-04' '2016-07-05'\n",
            " '2016-07-06' '2016-07-07' '2016-07-08' '2016-07-09' '2016-07-10'\n",
            " '2016-07-11' '2016-07-12' '2016-07-13' '2016-07-14' '2016-07-15'\n",
            " '2016-07-16' '2016-07-17' '2016-07-18' '2016-07-19' '2016-07-20'\n",
            " '2016-07-21' '2016-07-22' '2016-07-23' '2016-07-24' '2016-07-25'\n",
            " '2016-07-26' '2016-07-27' '2016-07-28' '2016-07-29' '2016-07-30'\n",
            " '2016-07-31']\n"
          ]
        }
      ],
      "source": [
        "print('July, 2016')\n",
        "print(np.arange('2016-07', '2016-08', dtype='datetime64[D]'))"
      ]
    },
    {
      "cell_type": "markdown",
      "id": "52667b6e",
      "metadata": {
        "id": "52667b6e"
      },
      "source": [
        "#### 35. How to compute ((A+B)*(-A/2)) in place (without copy)? (★★☆)"
      ]
    },
    {
      "cell_type": "code",
      "execution_count": null,
      "id": "e6e7c030",
      "metadata": {
        "id": "e6e7c030",
        "colab": {
          "base_uri": "https://localhost:8080/"
        },
        "outputId": "c31f3ef0-f6e9-416d-eb5d-baa9ae0ff038"
      },
      "outputs": [
        {
          "output_type": "execute_result",
          "data": {
            "text/plain": [
              "-1500.0"
            ]
          },
          "metadata": {},
          "execution_count": 73
        }
      ],
      "source": [
        "A=50\n",
        "B=10\n",
        "x=np.add(A,B)\n",
        "Y=np.negative(A)\n",
        "z=np.multiply(x,Y)\n",
        "np.divide(z,2)"
      ]
    },
    {
      "cell_type": "markdown",
      "id": "9a8f3738",
      "metadata": {
        "id": "9a8f3738"
      },
      "source": [
        "#### 36. Extract the integer part of a random array of positive numbers using 4 different methods (★★☆)"
      ]
    },
    {
      "cell_type": "code",
      "execution_count": null,
      "id": "368a801a",
      "metadata": {
        "id": "368a801a",
        "colab": {
          "base_uri": "https://localhost:8080/"
        },
        "outputId": "942c7840-cb17-4fa2-af0a-5e584b17140c"
      },
      "outputs": [
        {
          "output_type": "stream",
          "name": "stdout",
          "text": [
            "[9.37790002 1.70104724 9.37316897 0.31634001 8.71270599 1.50574852\n",
            " 8.74168616 5.81957143 2.36344009 4.56626179]\n",
            "[9. 1. 9. 0. 8. 1. 8. 5. 2. 4.]\n",
            "[9. 1. 9. 0. 8. 1. 8. 5. 2. 4.]\n",
            "[9 1 9 0 8 1 8 5 2 4]\n",
            "[9. 1. 9. 0. 8. 1. 8. 5. 2. 4.]\n"
          ]
        }
      ],
      "source": [
        "x=10*np.random.random(10)\n",
        "print(x)\n",
        "print(np.floor(x))\n",
        "print(np.trunc(x))\n",
        "print(x.astype(int))\n",
        "print(x-x%1)"
      ]
    },
    {
      "cell_type": "markdown",
      "id": "cab1eed1",
      "metadata": {
        "id": "cab1eed1"
      },
      "source": [
        "#### 37. Create a 5x5 matrix with row values ranging from 0 to 4 (★★☆)"
      ]
    },
    {
      "cell_type": "code",
      "execution_count": null,
      "id": "f1b579ba",
      "metadata": {
        "id": "f1b579ba",
        "colab": {
          "base_uri": "https://localhost:8080/"
        },
        "outputId": "2bb8bf54-16a8-4122-f7f1-59a0d3e70f09"
      },
      "outputs": [
        {
          "output_type": "execute_result",
          "data": {
            "text/plain": [
              "array([[0, 1, 2, 3, 4],\n",
              "       [0, 1, 2, 3, 4],\n",
              "       [0, 1, 2, 3, 4],\n",
              "       [0, 1, 2, 3, 4],\n",
              "       [0, 1, 2, 3, 4]])"
            ]
          },
          "metadata": {},
          "execution_count": 12
        }
      ],
      "source": [
        "np.tile(np.arange(5),(5,1))"
      ]
    },
    {
      "cell_type": "markdown",
      "id": "cd0ce6b1",
      "metadata": {
        "id": "cd0ce6b1"
      },
      "source": [
        "#### 38. Consider a generator function that generates 10 integers and use it to build an array (★☆☆)"
      ]
    },
    {
      "cell_type": "code",
      "execution_count": 3,
      "id": "aab193a6",
      "metadata": {
        "id": "aab193a6",
        "colab": {
          "base_uri": "https://localhost:8080/"
        },
        "outputId": "78e9adc6-3bc3-477d-bcd3-24a39b923dd8"
      },
      "outputs": [
        {
          "output_type": "execute_result",
          "data": {
            "text/plain": [
              "array([ 0,  2,  4,  6,  8, 10, 12, 14, 16, 18], dtype=int16)"
            ]
          },
          "metadata": {},
          "execution_count": 3
        }
      ],
      "source": [
        "iter=(2*x for x in range(10))\n",
        "np.fromiter(iter,np.int16)"
      ]
    },
    {
      "cell_type": "markdown",
      "id": "c4c942d1",
      "metadata": {
        "id": "c4c942d1"
      },
      "source": [
        "#### 39. Create a vector of size 10 with values ranging from 0 to 1, both excluded (★★☆)"
      ]
    },
    {
      "cell_type": "code",
      "execution_count": 4,
      "id": "e42eaa4b",
      "metadata": {
        "id": "e42eaa4b",
        "colab": {
          "base_uri": "https://localhost:8080/"
        },
        "outputId": "52f72a27-078e-46f4-e891-1ab1680d77bf"
      },
      "outputs": [
        {
          "output_type": "execute_result",
          "data": {
            "text/plain": [
              "array([0.        , 0.11111111, 0.22222222, 0.33333333, 0.44444444,\n",
              "       0.55555556, 0.66666667, 0.77777778, 0.88888889, 1.        ])"
            ]
          },
          "metadata": {},
          "execution_count": 4
        }
      ],
      "source": [
        "np.linspace(0,1,10)"
      ]
    },
    {
      "cell_type": "markdown",
      "id": "9b3cb8d2",
      "metadata": {
        "id": "9b3cb8d2"
      },
      "source": [
        "#### 40. Create a random vector of size 10 and sort it (★★☆)"
      ]
    },
    {
      "cell_type": "code",
      "execution_count": 8,
      "id": "37d2b341",
      "metadata": {
        "id": "37d2b341",
        "colab": {
          "base_uri": "https://localhost:8080/"
        },
        "outputId": "71abb6a1-9a9a-4fee-9e98-b33fe3bdf78c"
      },
      "outputs": [
        {
          "output_type": "execute_result",
          "data": {
            "text/plain": [
              "array([0.00684211, 0.02132178, 0.27288959, 0.51227537, 0.56376067,\n",
              "       0.67036793, 0.68342181, 0.86852198, 0.91651038, 0.94805028])"
            ]
          },
          "metadata": {},
          "execution_count": 8
        }
      ],
      "source": [
        "x=np.random.random(10)\n",
        "np.sort(x)"
      ]
    },
    {
      "cell_type": "markdown",
      "id": "2facfddc",
      "metadata": {
        "id": "2facfddc"
      },
      "source": [
        "#### 41. How to sum a small array faster than np.sum? (★★☆)"
      ]
    },
    {
      "cell_type": "code",
      "execution_count": 18,
      "id": "4bb8864f",
      "metadata": {
        "id": "4bb8864f",
        "colab": {
          "base_uri": "https://localhost:8080/"
        },
        "outputId": "d79df52b-10bf-4199-fa47-5852a97f0d4f"
      },
      "outputs": [
        {
          "output_type": "stream",
          "name": "stdout",
          "text": [
            "10\n"
          ]
        }
      ],
      "source": [
        "x=np.arange(5)\n",
        "print(np.add.reduce(x))"
      ]
    },
    {
      "cell_type": "markdown",
      "id": "539cd2a5",
      "metadata": {
        "id": "539cd2a5"
      },
      "source": [
        "#### 42. Consider two random array A and B, check if they are equal (★★☆)"
      ]
    },
    {
      "cell_type": "code",
      "execution_count": 19,
      "id": "5246d7bf",
      "metadata": {
        "id": "5246d7bf",
        "colab": {
          "base_uri": "https://localhost:8080/"
        },
        "outputId": "d51b5ee3-aaaa-4831-c995-cba66f718502"
      },
      "outputs": [
        {
          "output_type": "execute_result",
          "data": {
            "text/plain": [
              "False"
            ]
          },
          "metadata": {},
          "execution_count": 19
        }
      ],
      "source": [
        "a=np.random.random(5)\n",
        "b=np.random.random(5)\n",
        "np.array_equal(a,b)"
      ]
    },
    {
      "cell_type": "markdown",
      "id": "448f8274",
      "metadata": {
        "id": "448f8274"
      },
      "source": [
        "#### 43. Make an array immutable (read-only) (★★☆)"
      ]
    },
    {
      "cell_type": "code",
      "execution_count": 21,
      "id": "7cf2b3dd",
      "metadata": {
        "id": "7cf2b3dd"
      },
      "outputs": [],
      "source": [
        "A=np.arange(10)\n",
        "A.flags.writeable = False"
      ]
    },
    {
      "cell_type": "markdown",
      "id": "d7b7aaf3",
      "metadata": {
        "id": "d7b7aaf3"
      },
      "source": [
        "#### 44. Consider a random 10x2 matrix representing cartesian coordinates, convert them to polar coordinates (★★☆)"
      ]
    },
    {
      "cell_type": "code",
      "execution_count": 28,
      "id": "e2337585",
      "metadata": {
        "id": "e2337585",
        "colab": {
          "base_uri": "https://localhost:8080/"
        },
        "outputId": "ac57d6dd-bf8f-4805-d91e-98222cf2213d"
      },
      "outputs": [
        {
          "output_type": "stream",
          "name": "stdout",
          "text": [
            "cartesian coordinates\n",
            "[[0.40843738 0.74915416]\n",
            " [0.48026618 0.93578045]\n",
            " [0.77663738 0.40560548]\n",
            " [0.19051674 0.71968832]\n",
            " [0.7974749  0.70050294]\n",
            " [0.25145527 0.71667409]\n",
            " [0.80461188 0.84575476]\n",
            " [0.68273255 0.1948052 ]\n",
            " [0.81036858 0.53051446]\n",
            " [0.05226554 0.64973574]]\n",
            "\n",
            "\n",
            "[[6.73542518e-01 6.34498340e-01]\n",
            " [4.48110179e-01 1.58844007e-01]\n",
            " [3.88334230e-01 6.44345221e-02]\n",
            " [4.66236573e-01 8.64459210e-01]\n",
            " [2.55955093e-01 9.80319286e-03]\n",
            " [3.49542860e-01 5.12307291e-02]\n",
            " [4.84043334e-01 2.05197607e-01]\n",
            " [2.65256360e-01 5.65172813e-01]\n",
            " [6.46903111e-01 8.38217453e-04]\n",
            " [5.13052654e-01 8.68875027e-01]]\n",
            "polar coordinates\n",
            "[[6.73542518e-01 6.34498340e-01]\n",
            " [4.48110179e-01 1.58844007e-01]\n",
            " [3.88334230e-01 6.44345221e-02]\n",
            " [4.66236573e-01 8.64459210e-01]\n",
            " [2.55955093e-01 9.80319286e-03]\n",
            " [3.49542860e-01 5.12307291e-02]\n",
            " [4.84043334e-01 2.05197607e-01]\n",
            " [2.65256360e-01 5.65172813e-01]\n",
            " [6.46903111e-01 8.38217453e-04]\n",
            " [5.13052654e-01 8.68875027e-01]]\n",
            "\n",
            "\n",
            "[[0.40843738 0.74915416]\n",
            " [0.48026618 0.93578045]\n",
            " [0.77663738 0.40560548]\n",
            " [0.19051674 0.71968832]\n",
            " [0.7974749  0.70050294]\n",
            " [0.25145527 0.71667409]\n",
            " [0.80461188 0.84575476]\n",
            " [0.68273255 0.1948052 ]\n",
            " [0.81036858 0.53051446]\n",
            " [0.05226554 0.64973574]]\n"
          ]
        }
      ],
      "source": [
        "x=np.random.random(20).reshape(10,2)\n",
        "y=np.random.random(20).reshape(10,2)\n",
        "print('cartesian coordinates')\n",
        "print(x)\n",
        "print('\\n')\n",
        "print(y)\n",
        "r=np.sqrt(x**2 + y**2)\n",
        "phi=np.arctan2(x,y)\n",
        "x=r * np.cos(phi)\n",
        "y=r * np.sin(phi)\n",
        "print('polar coordinates')\n",
        "print(x)\n",
        "print('\\n')\n",
        "print(y)"
      ]
    },
    {
      "cell_type": "markdown",
      "id": "a556027a",
      "metadata": {
        "id": "a556027a"
      },
      "source": [
        "#### 45. Create random vector of size 10 and replace the maximum value by 0 (★★☆)"
      ]
    },
    {
      "cell_type": "code",
      "execution_count": 31,
      "id": "9e07cb87",
      "metadata": {
        "id": "9e07cb87",
        "colab": {
          "base_uri": "https://localhost:8080/"
        },
        "outputId": "b4c0bbb8-0bae-4c63-ada6-a153c011c545"
      },
      "outputs": [
        {
          "output_type": "stream",
          "name": "stdout",
          "text": [
            "[0.79408199 0.84414041 0.51761727 0.3183769  0.74220409 0.66934143\n",
            " 0.         0.33333804 0.58537722 0.552793  ]\n"
          ]
        }
      ],
      "source": [
        "x=np.random.random(10)\n",
        "x[np.argmax(x)]=0\n",
        "print(x)"
      ]
    },
    {
      "cell_type": "markdown",
      "id": "004f3da1",
      "metadata": {
        "id": "004f3da1"
      },
      "source": [
        "#### 46. Create a structured array with `x` and `y` coordinates covering the [0,1]x[0,1] area (★★☆)"
      ]
    },
    {
      "cell_type": "code",
      "execution_count": 66,
      "id": "b3824741",
      "metadata": {
        "id": "b3824741",
        "colab": {
          "base_uri": "https://localhost:8080/"
        },
        "outputId": "d67c4015-d737-4ae9-b737-d6a54a0d7b58"
      },
      "outputs": [
        {
          "output_type": "stream",
          "name": "stdout",
          "text": [
            "[[(0.        , 0.        ) (0.11111111, 0.        )\n",
            "  (0.22222222, 0.        ) (0.33333333, 0.        )\n",
            "  (0.44444444, 0.        ) (0.55555556, 0.        )\n",
            "  (0.66666667, 0.        ) (0.77777778, 0.        )\n",
            "  (0.88888889, 0.        ) (1.        , 0.        )]\n",
            " [(0.        , 0.11111111) (0.11111111, 0.11111111)\n",
            "  (0.22222222, 0.11111111) (0.33333333, 0.11111111)\n",
            "  (0.44444444, 0.11111111) (0.55555556, 0.11111111)\n",
            "  (0.66666667, 0.11111111) (0.77777778, 0.11111111)\n",
            "  (0.88888889, 0.11111111) (1.        , 0.11111111)]\n",
            " [(0.        , 0.22222222) (0.11111111, 0.22222222)\n",
            "  (0.22222222, 0.22222222) (0.33333333, 0.22222222)\n",
            "  (0.44444444, 0.22222222) (0.55555556, 0.22222222)\n",
            "  (0.66666667, 0.22222222) (0.77777778, 0.22222222)\n",
            "  (0.88888889, 0.22222222) (1.        , 0.22222222)]\n",
            " [(0.        , 0.33333333) (0.11111111, 0.33333333)\n",
            "  (0.22222222, 0.33333333) (0.33333333, 0.33333333)\n",
            "  (0.44444444, 0.33333333) (0.55555556, 0.33333333)\n",
            "  (0.66666667, 0.33333333) (0.77777778, 0.33333333)\n",
            "  (0.88888889, 0.33333333) (1.        , 0.33333333)]\n",
            " [(0.        , 0.44444444) (0.11111111, 0.44444444)\n",
            "  (0.22222222, 0.44444444) (0.33333333, 0.44444444)\n",
            "  (0.44444444, 0.44444444) (0.55555556, 0.44444444)\n",
            "  (0.66666667, 0.44444444) (0.77777778, 0.44444444)\n",
            "  (0.88888889, 0.44444444) (1.        , 0.44444444)]\n",
            " [(0.        , 0.55555556) (0.11111111, 0.55555556)\n",
            "  (0.22222222, 0.55555556) (0.33333333, 0.55555556)\n",
            "  (0.44444444, 0.55555556) (0.55555556, 0.55555556)\n",
            "  (0.66666667, 0.55555556) (0.77777778, 0.55555556)\n",
            "  (0.88888889, 0.55555556) (1.        , 0.55555556)]\n",
            " [(0.        , 0.66666667) (0.11111111, 0.66666667)\n",
            "  (0.22222222, 0.66666667) (0.33333333, 0.66666667)\n",
            "  (0.44444444, 0.66666667) (0.55555556, 0.66666667)\n",
            "  (0.66666667, 0.66666667) (0.77777778, 0.66666667)\n",
            "  (0.88888889, 0.66666667) (1.        , 0.66666667)]\n",
            " [(0.        , 0.77777778) (0.11111111, 0.77777778)\n",
            "  (0.22222222, 0.77777778) (0.33333333, 0.77777778)\n",
            "  (0.44444444, 0.77777778) (0.55555556, 0.77777778)\n",
            "  (0.66666667, 0.77777778) (0.77777778, 0.77777778)\n",
            "  (0.88888889, 0.77777778) (1.        , 0.77777778)]\n",
            " [(0.        , 0.88888889) (0.11111111, 0.88888889)\n",
            "  (0.22222222, 0.88888889) (0.33333333, 0.88888889)\n",
            "  (0.44444444, 0.88888889) (0.55555556, 0.88888889)\n",
            "  (0.66666667, 0.88888889) (0.77777778, 0.88888889)\n",
            "  (0.88888889, 0.88888889) (1.        , 0.88888889)]\n",
            " [(0.        , 1.        ) (0.11111111, 1.        )\n",
            "  (0.22222222, 1.        ) (0.33333333, 1.        )\n",
            "  (0.44444444, 1.        ) (0.55555556, 1.        )\n",
            "  (0.66666667, 1.        ) (0.77777778, 1.        )\n",
            "  (0.88888889, 1.        ) (1.        , 1.        )]]\n"
          ]
        }
      ],
      "source": [
        "Z = np.zeros((10,10), [('x',float),('y',float)])\n",
        "Z['x'], Z['y'] = np.meshgrid(np.linspace(0,1,10),\n",
        "                             np.linspace(0,1,10))\n",
        "print(Z)"
      ]
    },
    {
      "cell_type": "markdown",
      "id": "1c0adc0d",
      "metadata": {
        "id": "1c0adc0d"
      },
      "source": [
        "#### 47. Given two arrays, X and Y, construct the Cauchy matrix C (Cij =1/(xi - yj)) (★★☆)"
      ]
    },
    {
      "cell_type": "code",
      "execution_count": 35,
      "id": "01b3bbb7",
      "metadata": {
        "id": "01b3bbb7",
        "colab": {
          "base_uri": "https://localhost:8080/"
        },
        "outputId": "a8b9c9ae-823a-430b-d53c-89e37f9b42ed"
      },
      "outputs": [
        {
          "output_type": "stream",
          "name": "stdout",
          "text": [
            "[[-0.13316168 -0.14897193 -0.18332875  2.41443666 -0.27883719]\n",
            " [-0.45915498 -0.72415498 -8.13486467  0.17403624  0.57292403]\n",
            " [-0.3358726  -0.45864715 -1.08420696  0.20216216  1.05705268]\n",
            " [-1.94800664  3.52548738  0.64865948  0.13494369  0.29325507]\n",
            " [-0.14538978 -0.16444479 -0.20733655  0.95622313 -0.33844195]]\n"
          ]
        }
      ],
      "source": [
        "x=10*np.random.random(5)\n",
        "y=10*np.random.random(5)\n",
        "c=1/(np.subtract.outer(x,y))\n",
        "print(c)"
      ]
    },
    {
      "cell_type": "markdown",
      "id": "c8a2f65a",
      "metadata": {
        "id": "c8a2f65a"
      },
      "source": [
        "#### 48. Print the minimum and maximum representable value for each numpy scalar type (★★☆)"
      ]
    },
    {
      "cell_type": "code",
      "execution_count": 43,
      "id": "35d844d6",
      "metadata": {
        "id": "35d844d6",
        "colab": {
          "base_uri": "https://localhost:8080/"
        },
        "outputId": "6eb64dcf-9910-4822-de6c-6538a9ec1aa2"
      },
      "outputs": [
        {
          "output_type": "stream",
          "name": "stdout",
          "text": [
            "-32768\n",
            "32767\n",
            "-2147483648\n",
            "2147483647\n"
          ]
        }
      ],
      "source": [
        "a=np.iinfo(np.int16)\n",
        "print(a.min)\n",
        "print(a.max)\n",
        "b=np.iinfo(np.int32)\n",
        "print(b.min)\n",
        "print(b.max)"
      ]
    },
    {
      "cell_type": "markdown",
      "id": "11727a69",
      "metadata": {
        "id": "11727a69"
      },
      "source": [
        "#### 49. How to print all the values of an array? (★★☆)"
      ]
    },
    {
      "cell_type": "code",
      "execution_count": 69,
      "id": "47e98473",
      "metadata": {
        "id": "47e98473",
        "colab": {
          "base_uri": "https://localhost:8080/"
        },
        "outputId": "777e57d8-7f95-4d5a-f5c1-08f7ff5030af"
      },
      "outputs": [
        {
          "output_type": "stream",
          "name": "stdout",
          "text": [
            "[[0. 0. 0. 0. 0. 0. 0. 0. 0. 0. 0. 0. 0. 0. 0. 0. 0. 0. 0. 0. 0. 0. 0. 0.\n",
            "  0.]\n",
            " [0. 0. 0. 0. 0. 0. 0. 0. 0. 0. 0. 0. 0. 0. 0. 0. 0. 0. 0. 0. 0. 0. 0. 0.\n",
            "  0.]\n",
            " [0. 0. 0. 0. 0. 0. 0. 0. 0. 0. 0. 0. 0. 0. 0. 0. 0. 0. 0. 0. 0. 0. 0. 0.\n",
            "  0.]\n",
            " [0. 0. 0. 0. 0. 0. 0. 0. 0. 0. 0. 0. 0. 0. 0. 0. 0. 0. 0. 0. 0. 0. 0. 0.\n",
            "  0.]\n",
            " [0. 0. 0. 0. 0. 0. 0. 0. 0. 0. 0. 0. 0. 0. 0. 0. 0. 0. 0. 0. 0. 0. 0. 0.\n",
            "  0.]\n",
            " [0. 0. 0. 0. 0. 0. 0. 0. 0. 0. 0. 0. 0. 0. 0. 0. 0. 0. 0. 0. 0. 0. 0. 0.\n",
            "  0.]\n",
            " [0. 0. 0. 0. 0. 0. 0. 0. 0. 0. 0. 0. 0. 0. 0. 0. 0. 0. 0. 0. 0. 0. 0. 0.\n",
            "  0.]\n",
            " [0. 0. 0. 0. 0. 0. 0. 0. 0. 0. 0. 0. 0. 0. 0. 0. 0. 0. 0. 0. 0. 0. 0. 0.\n",
            "  0.]\n",
            " [0. 0. 0. 0. 0. 0. 0. 0. 0. 0. 0. 0. 0. 0. 0. 0. 0. 0. 0. 0. 0. 0. 0. 0.\n",
            "  0.]\n",
            " [0. 0. 0. 0. 0. 0. 0. 0. 0. 0. 0. 0. 0. 0. 0. 0. 0. 0. 0. 0. 0. 0. 0. 0.\n",
            "  0.]\n",
            " [0. 0. 0. 0. 0. 0. 0. 0. 0. 0. 0. 0. 0. 0. 0. 0. 0. 0. 0. 0. 0. 0. 0. 0.\n",
            "  0.]\n",
            " [0. 0. 0. 0. 0. 0. 0. 0. 0. 0. 0. 0. 0. 0. 0. 0. 0. 0. 0. 0. 0. 0. 0. 0.\n",
            "  0.]\n",
            " [0. 0. 0. 0. 0. 0. 0. 0. 0. 0. 0. 0. 0. 0. 0. 0. 0. 0. 0. 0. 0. 0. 0. 0.\n",
            "  0.]\n",
            " [0. 0. 0. 0. 0. 0. 0. 0. 0. 0. 0. 0. 0. 0. 0. 0. 0. 0. 0. 0. 0. 0. 0. 0.\n",
            "  0.]\n",
            " [0. 0. 0. 0. 0. 0. 0. 0. 0. 0. 0. 0. 0. 0. 0. 0. 0. 0. 0. 0. 0. 0. 0. 0.\n",
            "  0.]\n",
            " [0. 0. 0. 0. 0. 0. 0. 0. 0. 0. 0. 0. 0. 0. 0. 0. 0. 0. 0. 0. 0. 0. 0. 0.\n",
            "  0.]\n",
            " [0. 0. 0. 0. 0. 0. 0. 0. 0. 0. 0. 0. 0. 0. 0. 0. 0. 0. 0. 0. 0. 0. 0. 0.\n",
            "  0.]\n",
            " [0. 0. 0. 0. 0. 0. 0. 0. 0. 0. 0. 0. 0. 0. 0. 0. 0. 0. 0. 0. 0. 0. 0. 0.\n",
            "  0.]\n",
            " [0. 0. 0. 0. 0. 0. 0. 0. 0. 0. 0. 0. 0. 0. 0. 0. 0. 0. 0. 0. 0. 0. 0. 0.\n",
            "  0.]\n",
            " [0. 0. 0. 0. 0. 0. 0. 0. 0. 0. 0. 0. 0. 0. 0. 0. 0. 0. 0. 0. 0. 0. 0. 0.\n",
            "  0.]\n",
            " [0. 0. 0. 0. 0. 0. 0. 0. 0. 0. 0. 0. 0. 0. 0. 0. 0. 0. 0. 0. 0. 0. 0. 0.\n",
            "  0.]\n",
            " [0. 0. 0. 0. 0. 0. 0. 0. 0. 0. 0. 0. 0. 0. 0. 0. 0. 0. 0. 0. 0. 0. 0. 0.\n",
            "  0.]\n",
            " [0. 0. 0. 0. 0. 0. 0. 0. 0. 0. 0. 0. 0. 0. 0. 0. 0. 0. 0. 0. 0. 0. 0. 0.\n",
            "  0.]\n",
            " [0. 0. 0. 0. 0. 0. 0. 0. 0. 0. 0. 0. 0. 0. 0. 0. 0. 0. 0. 0. 0. 0. 0. 0.\n",
            "  0.]\n",
            " [0. 0. 0. 0. 0. 0. 0. 0. 0. 0. 0. 0. 0. 0. 0. 0. 0. 0. 0. 0. 0. 0. 0. 0.\n",
            "  0.]]\n"
          ]
        }
      ],
      "source": [
        "np.set_printoptions(threshold=np.inf)\n",
        "Z = np.zeros((25,25))\n",
        "print(Z)"
      ]
    },
    {
      "cell_type": "markdown",
      "id": "e0e7d741",
      "metadata": {
        "id": "e0e7d741"
      },
      "source": [
        "#### 50. How to find the closest value (to a given scalar) in a vector? (★★☆)"
      ]
    },
    {
      "cell_type": "code",
      "execution_count": 62,
      "id": "62cabf6f",
      "metadata": {
        "id": "62cabf6f",
        "colab": {
          "base_uri": "https://localhost:8080/"
        },
        "outputId": "dfdcdf55-d9b3-439c-825a-66dba2b1d450"
      },
      "outputs": [
        {
          "output_type": "stream",
          "name": "stdout",
          "text": [
            "[0.50626327 7.85893828 5.18093502 1.40099845 8.83691387 0.37901631\n",
            " 2.10941519 0.45758519 0.66303157 1.01972194]\n",
            "5.180935022776144\n"
          ]
        }
      ],
      "source": [
        "x=5\n",
        "y=10* np.random.random(10)\n",
        "print(y)\n",
        "index = (np.abs(y-x)).argmin()\n",
        "print(y[index])"
      ]
    },
    {
      "cell_type": "markdown",
      "id": "c5611b9e",
      "metadata": {
        "id": "c5611b9e"
      },
      "source": [
        "#### 51. Create a structured array representing a position (x,y) and a color (r,g,b) (★★☆)"
      ]
    },
    {
      "cell_type": "code",
      "execution_count": 71,
      "id": "f622939d",
      "metadata": {
        "id": "f622939d",
        "colab": {
          "base_uri": "https://localhost:8080/"
        },
        "outputId": "1106df1b-e49b-43bc-ae55-3690bdec16ef"
      },
      "outputs": [
        {
          "output_type": "stream",
          "name": "stdout",
          "text": [
            "[((0., 0.), (0., 0., 0.)) ((0., 0.), (0., 0., 0.))\n",
            " ((0., 0.), (0., 0., 0.)) ((0., 0.), (0., 0., 0.))\n",
            " ((0., 0.), (0., 0., 0.)) ((0., 0.), (0., 0., 0.))\n",
            " ((0., 0.), (0., 0., 0.)) ((0., 0.), (0., 0., 0.))\n",
            " ((0., 0.), (0., 0., 0.)) ((0., 0.), (0., 0., 0.))]\n"
          ]
        },
        {
          "output_type": "stream",
          "name": "stderr",
          "text": [
            "/usr/local/lib/python3.7/dist-packages/ipykernel_launcher.py:5: FutureWarning: Passing (type, 1) or '1type' as a synonym of type is deprecated; in a future version of numpy, it will be understood as (type, (1,)) / '(1,)type'.\n",
            "  \"\"\"\n"
          ]
        }
      ],
      "source": [
        "y = np.zeros(10, [ ('position', [ ('x', float, 1),\n",
        "                                   ('y', float, 1)]),\n",
        "                    ('color',    [ ('r', float, 1),\n",
        "                                   ('g', float, 1),\n",
        "                                   ('b', float, 1)])])\n",
        "print(y)"
      ]
    },
    {
      "cell_type": "markdown",
      "id": "d22b8574",
      "metadata": {
        "id": "d22b8574"
      },
      "source": [
        "#### 52. Consider a random vector with shape (100,2) representing coordinates, find point by point distances (★★☆)"
      ]
    },
    {
      "cell_type": "code",
      "execution_count": 76,
      "id": "d5c9cdf8",
      "metadata": {
        "id": "d5c9cdf8",
        "colab": {
          "base_uri": "https://localhost:8080/"
        },
        "outputId": "519e4740-465a-4075-fbdf-857fcc48a81a"
      },
      "outputs": [
        {
          "output_type": "stream",
          "name": "stdout",
          "text": [
            "[[0.         0.23170992 0.8509342  0.16883409 0.19674803 0.6579716\n",
            "  0.19035643 0.37524688 0.82391708 0.37601089 0.65285989 0.83247196\n",
            "  0.12166756 0.27660681 0.17252937 0.87578324 0.49065973 0.36467156\n",
            "  0.42097871 0.30142178 0.12828168 0.93922731 0.21024649 0.69164165\n",
            "  0.92034806 0.42535805 0.25657358 0.4008252  0.66313202 0.78371636\n",
            "  0.45123798 0.12369058 0.89242448 0.79739903 0.82853894 0.90940922\n",
            "  0.89738379 0.27093694 0.19048188 0.51405437 0.32661619 0.26127988\n",
            "  0.32082634 0.74740933 0.49661147 0.54789986 0.89687114 0.42612514\n",
            "  0.71040549 0.17981583 0.86666981 0.72545618 0.30075283 0.56706292\n",
            "  0.63283675 0.53863693 0.58080913 0.6759704  0.55181894 0.74334667\n",
            "  0.05920328 0.45871332 0.49411147 0.69602116 0.2792211  0.89532561\n",
            "  0.3270226  0.67797905 0.4707635  0.46467861 0.3534373  0.87391591\n",
            "  0.89000353 0.40542793 0.69770003 0.56410506 0.85111593 0.2741866\n",
            "  0.58769332 0.7765766  0.54735533 0.33860832 0.42896671 0.67452559\n",
            "  0.07910289 0.3262173  0.58728391 0.58312679 0.43024387 0.87165976\n",
            "  0.9236383  0.7469149  0.61176119 0.18631275 0.69794336 0.77465554\n",
            "  0.63593047 0.5027879  0.35082605 0.92224161]\n",
            " [0.23170992 0.         0.61933578 0.21687163 0.19673522 0.55193475\n",
            "  0.13697966 0.22151884 0.60164634 0.21353302 0.44166954 0.60563891\n",
            "  0.17874044 0.1833223  0.06734129 0.7042693  0.34661004 0.21473746\n",
            "  0.48437073 0.21797421 0.10678902 0.75380942 0.33119884 0.48201799\n",
            "  0.78342878 0.1973336  0.0472475  0.47152032 0.61258502 0.66380279\n",
            "  0.3669592  0.29026068 0.74014709 0.57724512 0.65032721 0.68925166\n",
            "  0.67895328 0.38333675 0.25026754 0.60226176 0.32638996 0.25706389\n",
            "  0.08938479 0.53139708 0.26491415 0.34286535 0.66517713 0.3884144\n",
            "  0.47879624 0.15375656 0.63562247 0.57065393 0.35359773 0.33758114\n",
            "  0.41784156 0.37459948 0.54809687 0.51499677 0.58562323 0.51305834\n",
            "  0.28286678 0.38264379 0.55389534 0.46799617 0.04865838 0.66992329\n",
            "  0.40430014 0.49530676 0.264159   0.29451914 0.41076679 0.66752927\n",
            "  0.6611757  0.2788502  0.4664255  0.5551659  0.62004617 0.08822329\n",
            "  0.41423055 0.54712313 0.66144666 0.29375675 0.2729289  0.57959494\n",
            "  0.18426249 0.32296307 0.47475628 0.65015573 0.46583082 0.73094003\n",
            "  0.69217797 0.51525438 0.61575009 0.11478442 0.48637117 0.54942946\n",
            "  0.40737026 0.27944357 0.33808073 0.6907825 ]\n",
            " [0.8509342  0.61933578 0.         0.7939178  0.74734081 0.71603397\n",
            "  0.71003356 0.58333204 0.18341936 0.57046126 0.33842126 0.12614807\n",
            "  0.77495841 0.66166714 0.68035414 0.56812803 0.58237177 0.59175034\n",
            "  0.94654571 0.68446548 0.72388447 0.52853263 0.90609559 0.3364521\n",
            "  0.74046736 0.43470734 0.60103293 0.96544498 0.87038643 0.72904502\n",
            "  0.70279064 0.88884716 0.66195296 0.20570226 0.51667678 0.22545008\n",
            "  0.28276959 0.92645679 0.80737282 1.08418814 0.8042831  0.75946933\n",
            "  0.53010817 0.24750559 0.35501476 0.384285   0.05594568 0.76056292\n",
            "  0.14053975 0.72991722 0.03645411 0.58143262 0.87051776 0.2985791\n",
            "  0.29931837 0.50310699 0.86797814 0.5468434  0.99872709 0.11954243\n",
            "  0.89993641 0.72086843 1.01162247 0.20393061 0.57175882 0.20362082\n",
            "  0.90921942 0.46449601 0.42904442 0.5288772  0.91029201 0.37203113\n",
            "  0.14645071 0.62091172 0.15431396 0.91274904 0.03146525 0.59874404\n",
            "  0.49889404 0.13828652 1.16453284 0.72423945 0.54580366 0.75513342\n",
            "  0.79839251 0.78230207 0.6734687  1.09389705 0.9210998  0.69802907\n",
            "  0.07371366 0.10428401 0.97280781 0.6917496  0.28910649 0.15933019\n",
            "  0.22853019 0.36596846 0.7952484  0.07234798]\n",
            " [0.16883409 0.21687163 0.7939178  0.         0.31240775 0.49253378\n",
            "  0.08662498 0.24419871 0.80370633 0.25030043 0.543212   0.80050316\n",
            "  0.24349554 0.35810407 0.20190495 0.72847716 0.34224115 0.23322745\n",
            "  0.57784585 0.14893276 0.1779726  0.7991137  0.11669708 0.57861105\n",
            "  0.75907456 0.36038003 0.20789405 0.26642418 0.49487431 0.61959213\n",
            "  0.28585657 0.29114658 0.73636116 0.78192466 0.68579056 0.89279992\n",
            "  0.79057304 0.43487029 0.33237011 0.39385104 0.15960365 0.38522411\n",
            "  0.29192889 0.7400812  0.44567902 0.55833989 0.83310448 0.54649423\n",
            "  0.65619837 0.06670276 0.81566004 0.57305918 0.15111003 0.49624576\n",
            "  0.62855402 0.58830105 0.41376086 0.52758884 0.40231655 0.6995322\n",
            "  0.22225454 0.29181464 0.35588189 0.61473166 0.26002326 0.80180978\n",
            "  0.48477126 0.54191837 0.48004775 0.33246935 0.20920791 0.75232933\n",
            "  0.80649169 0.25611567 0.64814578 0.40103425 0.80017874 0.19738678\n",
            "  0.4493608  0.6979792  0.44714621 0.45095166 0.48264609 0.50729291\n",
            "  0.09708564 0.45618499 0.42431373 0.45071479 0.27833621 0.71193784\n",
            "  0.86761665 0.69059824 0.452764   0.25723188 0.69816093 0.74803266\n",
            "  0.60204716 0.48633121 0.18282631 0.86625642]\n",
            " [0.19674803 0.19673522 0.74734081 0.31240775 0.         0.74062937\n",
            "  0.27411329 0.41500485 0.6848847  0.40841792 0.62648537 0.70405317\n",
            "  0.07598189 0.09534382 0.14220593 0.90025116 0.5408404  0.40717353\n",
            "  0.28970127 0.38729951 0.13971905 0.94708374 0.39393543 0.66720309\n",
            "  0.97917534 0.37164155 0.24349549 0.57507918 0.78360571 0.85655742\n",
            "  0.54518568 0.15402754 0.93683289 0.65512116 0.84556886 0.76450257\n",
            "  0.85306066 0.19225512 0.06101628 0.69708006 0.46426929 0.07293675\n",
            "  0.25441654 0.59999758 0.41407576 0.39625731 0.79883831 0.23573317\n",
            "  0.61101863 0.27886217 0.75602646 0.76726958 0.46297878 0.49884931\n",
            "  0.48848628 0.35759955 0.71039696 0.71172009 0.71468437 0.63089469\n",
            "  0.20777925 0.55835541 0.66660157 0.62912925 0.21990648 0.8331215\n",
            "  0.20756503 0.69055137 0.32763849 0.49114282 0.52046647 0.85244512\n",
            "  0.81536671 0.46762969 0.59405676 0.70644641 0.74102237 0.28244276\n",
            "  0.61082227 0.70136051 0.7379838  0.14333425 0.25144639 0.76557063\n",
            "  0.22295054 0.14423974 0.66413418 0.76001019 0.59069941 0.92693721\n",
            "  0.81618311 0.6476569  0.7617182  0.08200294 0.54624795 0.64353295\n",
            "  0.52004855 0.38165707 0.48327748 0.81479636]\n",
            " [0.6579716  0.55193475 0.71603397 0.49253378 0.74062937 0.\n",
            "  0.47934981 0.33170978 0.83280088 0.34196031 0.37954452 0.79687595\n",
            "  0.69543035 0.73330115 0.59843179 0.30795189 0.21348214 0.3375371\n",
            "  1.02997222 0.36109862 0.60880882 0.40133607 0.5260886  0.3801653\n",
            "  0.2733324  0.47751216 0.50546338 0.4292851  0.16140343 0.12845426\n",
            "  0.20685135 0.77458301 0.27198173 0.82943888 0.29821206 0.91260996\n",
            "  0.53760416 0.90689144 0.78365245 0.48986526 0.35503669 0.80699776\n",
            "  0.54088826 0.82013058 0.5343492  0.73764404 0.72345426 0.93713369\n",
            "  0.63084549 0.48338021 0.75100543 0.16502481 0.42004124 0.49778496\n",
            "  0.74922801 0.8411584  0.19806545 0.17420987 0.36054254 0.69010252\n",
            "  0.71401029 0.20135947 0.41345929 0.51919812 0.55131723 0.59683939\n",
            "  0.9433407  0.25453463 0.68768678 0.2825795  0.41060841 0.44808318\n",
            "  0.63651878 0.27349871 0.63979155 0.25597188 0.73971589 0.46382185\n",
            "  0.22712159 0.57833043 0.57456122 0.84455616 0.7738928  0.03961898\n",
            "  0.57985975 0.87458019 0.07728256 0.45816609 0.35990449 0.23326754\n",
            "  0.77483655 0.64637129 0.29695759 0.66083118 0.80896201 0.7734884\n",
            "  0.65609184 0.63534919 0.32885105 0.77389796]\n",
            " [0.19035643 0.13697966 0.71003356 0.08662498 0.27411329 0.47934981\n",
            "  0.         0.18541134 0.7170848  0.18729569 0.47347667 0.71418907\n",
            "  0.21832619 0.29940873 0.14113163 0.68544207 0.30096095 0.1746955\n",
            "  0.55732681 0.11832666 0.13490454 0.74941049 0.20323086 0.51071186\n",
            "  0.73478299 0.27556383 0.12189309 0.33479155 0.50983911 0.60190624\n",
            "  0.27629956 0.29744684 0.70377207 0.69532579 0.63832418 0.80617537\n",
            "  0.72058171 0.42777381 0.30846573 0.46536494 0.1963513  0.34587103\n",
            "  0.20615164 0.6537564  0.35985379 0.47422076 0.75043233 0.49855524\n",
            "  0.57154763 0.02010213 0.73100032 0.53593623 0.21678204 0.41355308\n",
            "  0.54261337 0.51155828 0.43642927 0.48580943 0.45464815 0.61387028\n",
            "  0.24951663 0.28759478 0.41861127 0.53516709 0.17639099 0.72670034\n",
            "  0.46756525 0.48853874 0.3964444  0.27525148 0.27428168 0.68965309\n",
            "  0.72828479 0.21669509 0.56292061 0.43490578 0.71547854 0.11166111\n",
            "  0.39769017 0.61808578 0.52486689 0.40181316 0.40888359 0.50025504\n",
            "  0.11276906 0.41699684 0.40550131 0.51481199 0.33267918 0.6850286\n",
            "  0.78374517 0.60633687 0.49250623 0.20412842 0.61237319 0.66148568\n",
            "  0.51559475 0.40006263 0.21222723 0.78237681]\n",
            " [0.37524688 0.22151884 0.58333204 0.24419871 0.41500485 0.33170978\n",
            "  0.18541134 0.         0.63210093 0.01524524 0.3011787  0.61554519\n",
            "  0.3797944  0.40164985 0.27397436 0.50184421 0.12585601 0.01100547\n",
            "  0.70444371 0.105022   0.29295557 0.56405346 0.3392921  0.3352527\n",
            "  0.56482714 0.18867316 0.17451358 0.38405852 0.41063573 0.44235463\n",
            "  0.16713157 0.47522539 0.52651425 0.61725775 0.45340448 0.72105594\n",
            "  0.5477433  0.59260866 0.46324141 0.50789195 0.22128383 0.47831271\n",
            "  0.21399521 0.58839538 0.27238745 0.45096058 0.61529339 0.60547057\n",
            "  0.4547692  0.19899795 0.61007634 0.35696151 0.28774164 0.28914155\n",
            "  0.49119254 0.53262989 0.36108227 0.30414722 0.44499016 0.50684987\n",
            "  0.43444841 0.18614196 0.44038179 0.38906638 0.22004271 0.56397464\n",
            "  0.62138591 0.3031434  0.38604776 0.08999303 0.32738668 0.50836633\n",
            "  0.57432917 0.06485711 0.4523569  0.38423525 0.5952281  0.13340064\n",
            "  0.21244823 0.47168146 0.58483335 0.51293573 0.4522684  0.36127083\n",
            "  0.2981804  0.5444308  0.25443024 0.53059329 0.34701366 0.51308696\n",
            "  0.65570199 0.48501805 0.44833865 0.33356594 0.55972947 0.57210081\n",
            "  0.42888086 0.35384586 0.21449215 0.65441196]\n",
            " [0.82391708 0.60164634 0.18341936 0.80370633 0.6848847  0.83280088\n",
            "  0.7170848  0.63210093 0.         0.61740637 0.45777267 0.05751578\n",
            "  0.72850115 0.59140345 0.65213265 0.73087604 0.66582513 0.63813128\n",
            "  0.83760233 0.72181375 0.69623966 0.70161291 0.9201609  0.46939762\n",
            "  0.897861   0.45266939 0.59721867 1.01300422 0.97675021 0.86701378\n",
            "  0.77746742 0.8363185  0.82103994 0.03318257 0.67530572 0.08961909\n",
            "  0.46263631 0.845243   0.74081458 1.1394082  0.84913935 0.67983585\n",
            "  0.5153955  0.092275   0.36442805 0.28964139 0.22936846 0.64502571\n",
            "  0.20232767 0.73707311 0.15682836 0.71833295 0.90649363 0.35037785\n",
            "  0.19644938 0.37785575 0.9595822  0.67518567 1.07221807 0.14329503\n",
            "  0.86488625 0.79681946 1.07243812 0.31988179 0.55323871 0.38593673\n",
            "  0.81584371 0.59514821 0.35842972 0.60099473 0.95386856 0.54506665\n",
            "  0.32968427 0.6827852  0.1933244  0.99732834 0.15306401 0.60761967\n",
            "  0.60630688 0.29079677 1.21418923 0.6290049  0.44978964 0.87241446\n",
            "  0.78584933 0.68717656 0.77851077 1.16157655 0.97911457 0.85173043\n",
            "  0.20325646 0.19323592 1.06027883 0.64623307 0.14803749 0.06078883\n",
            "  0.20463471 0.32239823 0.84560901 0.20239145]\n",
            " [0.37601089 0.21353302 0.57046126 0.25030043 0.40841792 0.34196031\n",
            "  0.18729569 0.01524524 0.61740637 0.         0.29333054 0.60127226\n",
            "  0.37566577 0.39206001 0.26827215 0.5033001  0.13310328 0.02132397\n",
            "  0.69745014 0.11560142 0.28929159 0.56341625 0.34835764 0.32832024\n",
            "  0.57078784 0.17342796 0.1663131  0.39797315 0.42430779 0.45051029\n",
            "  0.18170283 0.47329616 0.53067263 0.60238523 0.45371001 0.70642776\n",
            "  0.54045535 0.58806647 0.45783189 0.52233408 0.23481648 0.47059349\n",
            "  0.20139775 0.57328836 0.25726906 0.43591727 0.60309003 0.59528134\n",
            "  0.44107999 0.20199369 0.59687162 0.36091932 0.30015524 0.27538646\n",
            "  0.47595047 0.51846096 0.3757717  0.30712588 0.46019603 0.49278007\n",
            "  0.43515321 0.20082672 0.45517662 0.37742236 0.20935752 0.55479575\n",
            "  0.61532959 0.30200421 0.37136688 0.08893569 0.34088039 0.50363447\n",
            "  0.56394605 0.07892426 0.43835271 0.39935044 0.58196403 0.12602303\n",
            "  0.21261843 0.46027122 0.59889978 0.50335993 0.43914451 0.37232506\n",
            "  0.29983213 0.53600285 0.26476268 0.54560347 0.36174202 0.51869717\n",
            "  0.64301482 0.47164491 0.46346625 0.32667893 0.54450291 0.55747648\n",
            "  0.41401722 0.33865114 0.22873432 0.64171784]\n",
            " [0.65285989 0.44166954 0.33842126 0.543212   0.62648537 0.37954452\n",
            "  0.47347667 0.3011787  0.45777267 0.29333054 0.         0.41859102\n",
            "  0.62037524 0.57143093 0.5087266  0.31726953 0.25677942 0.31183705\n",
            "  0.89359671 0.40528621 0.54363273 0.3345028  0.6402182  0.04072103\n",
            "  0.46083302 0.25590303 0.40297124 0.65712485 0.53205421 0.41051283\n",
            "  0.37900924 0.73108444 0.39078892 0.45808764 0.25640056 0.53453812\n",
            "  0.2474644  0.8185559  0.68534577 0.76619243 0.5057106  0.66954549\n",
            "  0.37211752 0.45801876 0.24639726 0.43322529 0.35234049 0.74394381\n",
            "  0.25576131 0.4905194  0.37262973 0.26276612 0.57867904 0.16746633\n",
            "  0.41129897 0.56021153 0.53149185 0.21742687 0.6692346  0.31449144\n",
            "  0.71044302 0.39537855 0.69054632 0.13988721 0.40780771 0.26565405\n",
            "  0.82738515 0.13858382 0.41487825 0.22148702 0.60800622 0.22623451\n",
            "  0.28506225 0.31581574 0.26791911 0.57852422 0.3608198  0.37897615\n",
            "  0.16107125 0.20310826 0.84971462 0.67100776 0.53391956 0.41899395\n",
            "  0.58222093 0.71975782 0.33512611 0.76678946 0.6043876  0.41003996\n",
            "  0.40142276 0.26774992 0.63703907 0.54920916 0.45876242 0.40025376\n",
            "  0.3040429  0.3419569  0.49096015 0.40036541]\n",
            " [0.83247196 0.60563891 0.12614807 0.80050316 0.70405317 0.79687595\n",
            "  0.71418907 0.61554519 0.05751578 0.60127226 0.41859102 0.\n",
            "  0.74275345 0.61245844 0.65996388 0.68078998 0.63904107 0.62236189\n",
            "  0.87258846 0.70949223 0.70422229 0.64826623 0.9161945  0.42661663\n",
            "  0.84970152 0.44329552 0.59673186 0.99895198 0.9444471  0.82476776\n",
            "  0.75404016 0.85309494 0.77223651 0.08369097 0.62634338 0.11595416\n",
            "  0.40684632 0.87129395 0.76164693 1.12335772 0.83524679 0.70459297\n",
            "  0.51743412 0.13588351 0.35571279 0.31474418 0.17209381 0.68145224\n",
            "  0.16822681 0.73428372 0.09953929 0.67595803 0.89562564 0.32812658\n",
            "  0.22136434 0.41572684 0.9317534  0.63515332 1.05031313 0.11041231\n",
            "  0.87619984 0.77310688 1.0544613  0.27891544 0.55698067 0.32924105\n",
            "  0.84571773 0.5540057  0.37649977 0.5770705  0.94083568 0.49150807\n",
            "  0.27256249 0.66264774 0.16489724 0.97177817 0.09558182 0.60322034\n",
            "  0.57198027 0.24049626 1.2000595  0.65860775 0.47817361 0.83646734\n",
            "  0.78959335 0.71706481 0.74590122 1.14170933 0.96170087 0.80464117\n",
            "  0.14912784 0.1508472  1.03401944 0.65961154 0.18734833 0.0609702\n",
            "  0.19902273 0.3300582  0.8299969  0.14814624]\n",
            " [0.12166756 0.17874044 0.77495841 0.24349554 0.07598189 0.69543035\n",
            "  0.21832619 0.3797944  0.72850115 0.37566577 0.62037524 0.74275345\n",
            "  0.         0.15730536 0.11219976 0.87673582 0.50459884 0.37076254\n",
            "  0.3395453  0.33587839 0.08725637 0.93007002 0.3188968  0.66074987\n",
            "  0.94358177 0.37235761 0.22028174 0.50238041 0.72647208 0.81544346\n",
            "  0.49437133 0.11490712 0.90620093 0.7001636  0.82450128 0.8112189\n",
            "  0.85606632 0.21305234 0.09066672 0.62277824 0.39965498 0.14526275\n",
            "  0.25620377 0.64728704 0.42872579 0.44434908 0.82426578 0.31027939\n",
            "  0.63583347 0.21908443 0.78684537 0.73651131 0.39237205 0.50857426\n",
            "  0.53359779 0.42175006 0.65011178 0.68269565 0.64513062 0.661794\n",
            "  0.14136212 0.50591755 0.59455092 0.6398579  0.21594257 0.84338833\n",
            "  0.24923917 0.66992897 0.37043126 0.46255602 0.44914736 0.84626968\n",
            "  0.83077054 0.42590131 0.62065402 0.64243368 0.77151673 0.25332743\n",
            "  0.58535801 0.71627154 0.6623728  0.21920255 0.31287209 0.71775364\n",
            "  0.15016399 0.21459024 0.62024674 0.68712023 0.5212881  0.89235486\n",
            "  0.84586099 0.67270211 0.69578687 0.08347978 0.59540047 0.68319503\n",
            "  0.55163105 0.41404817 0.42028621 0.84446359]\n",
            " [0.27660681 0.1833223  0.66166714 0.35810407 0.09534382 0.73330115\n",
            "  0.29940873 0.40164985 0.59140345 0.39206001 0.57143093 0.61245844\n",
            "  0.15730536 0.         0.15884707 0.86169866 0.52446261 0.39582538\n",
            "  0.32247765 0.39866777 0.18153423 0.90047968 0.45522367 0.61189194\n",
            "  0.95552186 0.31636496 0.22838007 0.62449045 0.79534536 0.84178682\n",
            "  0.55019601 0.24936014 0.90691331 0.56123448 0.80458379 0.67003447\n",
            "  0.78637159 0.26548169 0.14944453 0.75143963 0.49575693 0.10107559\n",
            "  0.20682907 0.50557087 0.34277117 0.30209285 0.71436499 0.20509218\n",
            "  0.52808447 0.30997739 0.66835357 0.7392942  0.50805196 0.43014608\n",
            "  0.39496947 0.26483801 0.72885538 0.68226521 0.75341543 0.54375488\n",
            "  0.29764016 0.56567015 0.71293844 0.55744091 0.18434385 0.76005253\n",
            "  0.25901041 0.65095244 0.23628409 0.46600852 0.56643337 0.79481389\n",
            "  0.73815419 0.46123346 0.50999801 0.73239228 0.6535993  0.27017659\n",
            "  0.57859667 0.62534572 0.79977574 0.11130387 0.15697547 0.76193939\n",
            "  0.28225856 0.1499059  0.65602023 0.80836975 0.6305093  0.9023444\n",
            "  0.72896945 0.56427943 0.79122376 0.10147633 0.45146813 0.55168305\n",
            "  0.43326697 0.29610006 0.51106566 0.72759367]\n",
            " [0.17252937 0.06734129 0.68035414 0.20190495 0.14220593 0.59843179\n",
            "  0.14113163 0.27397436 0.65213265 0.26827215 0.5087266  0.65996388\n",
            "  0.11219976 0.15884707 0.         0.76626837 0.39978187 0.26576638\n",
            "  0.43179299 0.24756929 0.04425845 0.81824683 0.30688479 0.54899833\n",
            "  0.83876468 0.26403506 0.10826815 0.4673632  0.64536209 0.71465562\n",
            "  0.40427947 0.22291939 0.7985446  0.6261342  0.71335678 0.73825417\n",
            "  0.74626753 0.32089767 0.18959163 0.59568189 0.33726631 0.21012914\n",
            "  0.15167952 0.5773409  0.32780509 0.38104141 0.72744984 0.35779633\n",
            "  0.53999723 0.15113095 0.69513417 0.62876943 0.3502001  0.40327308\n",
            "  0.46281908 0.39126694 0.57509412 0.57407261 0.59457368 0.57134995\n",
            "  0.21960433 0.41808969 0.55479034 0.53410707 0.10986915 0.73656007\n",
            "  0.34743867 0.55856295 0.30265509 0.35333662 0.40856446 0.73441103\n",
            "  0.72677033 0.32545807 0.52657347 0.57568046 0.67961234 0.14333478\n",
            "  0.47519914 0.61250227 0.6479242  0.26107793 0.28334657 0.62358837\n",
            "  0.14142714 0.28002243 0.52193146 0.6504972  0.47169081 0.78687059\n",
            "  0.75265101 0.57669436 0.63361423 0.06430114 0.52932091 0.60228714\n",
            "  0.46350116 0.33045079 0.35331962 0.75125262]\n",
            " [0.87578324 0.7042693  0.56812803 0.72847716 0.90025116 0.30795189\n",
            "  0.68544207 0.50184421 0.73087604 0.5033001  0.31726953 0.68078998\n",
            "  0.87673582 0.86169866 0.76626837 0.         0.38673922 0.51205341\n",
            "  1.18226191 0.58015806 0.79155054 0.09532053 0.79218476 0.28546475\n",
            "  0.17543991 0.54980571 0.65870915 0.72866346 0.45399136 0.22708698\n",
            "  0.46440856 0.97659626 0.09654317 0.73989017 0.06087091 0.79157987\n",
            "  0.30891056 1.08700279 0.95443603 0.79752996 0.62456928 0.9538903\n",
            "  0.65502769 0.75304825 0.56015306 0.75041034 0.55241324 1.04795071\n",
            "  0.54272575 0.69671537 0.60427752 0.16016921 0.697557   0.48467277\n",
            "  0.72311969 0.87728259 0.50555228 0.20090711 0.66823858 0.59505704\n",
            "  0.93490303 0.46914889 0.72068252 0.42430766 0.68274593 0.38850963\n",
            "  1.10729076 0.21076331 0.73010482 0.41484906 0.7009227  0.2059511\n",
            "  0.4435535  0.47301853 0.56041659 0.56361099 0.59820343 0.62345181\n",
            "  0.29142743 0.44043152 0.88243277 0.96791776 0.84549148 0.32993059\n",
            "  0.79751981 1.01158    0.33483024 0.76509708 0.6608713  0.14333757\n",
            "  0.60486561 0.54023773 0.60033296 0.81874155 0.76351562 0.68110862\n",
            "  0.61306543 0.65856366 0.6006651  0.60437584]\n",
            " [0.49065973 0.34661004 0.58237177 0.34224115 0.5408404  0.21348214\n",
            "  0.30096095 0.12585601 0.66582513 0.13310328 0.25677942 0.63904107\n",
            "  0.50459884 0.52446261 0.39978187 0.38673922 0.         0.13412485\n",
            "  0.83019925 0.19353541 0.41746819 0.45746239 0.41543065 0.27953712\n",
            "  0.43920291 0.26776469 0.29940602 0.40248969 0.32078507 0.31750567\n",
            "  0.12231511 0.59662013 0.40333525 0.65677794 0.34371326 0.75149038\n",
            "  0.48585985 0.717615   0.58889053 0.5094136  0.26012484 0.60365166\n",
            "  0.3279525  0.63812624 0.33381573 0.53252288 0.60399311 0.72670214\n",
            "  0.4711981  0.310951   0.61371343 0.23497823 0.33531529 0.31632602\n",
            "  0.55482887 0.63019704 0.29383451 0.18594569 0.4163886  0.52872208\n",
            "  0.54955079 0.13926985 0.43393121 0.37862438 0.3407613  0.51912092\n",
            "  0.74721419 0.20590184 0.47774754 0.07214992 0.35679378 0.42737927\n",
            "  0.54180692 0.08629398 0.47475299 0.3328502  0.60017272 0.25884298\n",
            "  0.11505386 0.45440848 0.59303276 0.6356944  0.56050577 0.2470955\n",
            "  0.41189895 0.66906599 0.13793623 0.51230172 0.3477895  0.38776067\n",
            "  0.65039442 0.49491032 0.39499571 0.45932364 0.61905058 0.60507457\n",
            "  0.47287605 0.43069152 0.24147086 0.64923219]\n",
            " [0.36467156 0.21473746 0.59175034 0.23322745 0.40717353 0.3375371\n",
            "  0.1746955  0.01100547 0.63813128 0.02132397 0.31183705 0.62236189\n",
            "  0.37076254 0.39582538 0.26576638 0.51205341 0.13412485 0.\n",
            "  0.69676109 0.09502832 0.28377882 0.57472068 0.32883744 0.34607402\n",
            "  0.57331916 0.19229935 0.16799738 0.37676508 0.412534   0.44964313\n",
            "  0.16755191 0.46533572 0.53582062 0.62284778 0.46389911 0.72722527\n",
            "  0.55852408 0.58369379 0.45476789 0.50142341 0.21352314 0.47113027\n",
            "  0.21130873 0.59315951 0.27717267 0.45269367 0.62422444 0.60004811\n",
            "  0.46237731 0.18811623 0.6181932  0.36639848 0.27892407 0.29667842\n",
            "  0.49483063 0.53201278 0.36092177 0.31395802 0.44103294 0.51397293\n",
            "  0.42387484 0.18620888 0.43469173 0.39834342 0.21535389 0.57432278\n",
            "  0.6131998  0.31392342 0.38663003 0.10088535 0.31957547 0.51936879\n",
            "  0.58424579 0.06720272 0.45957224 0.38249442 0.60328743 0.12651444\n",
            "  0.2230413  0.481097   0.57774446 0.50704614 0.45000629 0.36636491\n",
            "  0.287458   0.53769148 0.26027491 0.52555659 0.3411721  0.52176241\n",
            "  0.66427315 0.49296851 0.44650104 0.32595763 0.56365032 0.57828588\n",
            "  0.43451541 0.35647984 0.20771727 0.66297751]\n",
            " [0.42097871 0.48437073 0.94654571 0.57784585 0.28970127 1.02997222\n",
            "  0.55732681 0.70444371 0.83760233 0.69745014 0.89359671 0.87258846\n",
            "  0.3395453  0.32247765 0.43179299 1.18226191 0.83019925 0.69676109\n",
            "  0.         0.67375856 0.42320879 1.22285831 0.62984429 0.93395349\n",
            "  1.2677995  0.63883938 0.53156847 0.82140982 1.06599554 1.14624605\n",
            "  0.83230319 0.30270707 1.2234173  0.80467084 1.12585282 0.90035354\n",
            "  1.10237256 0.15728216 0.2489668  0.93002779 0.73669843 0.22866718\n",
            "  0.5276571  0.74545235 0.65951958 0.5629634  1.00177286 0.19344358\n",
            "  0.82387911 0.55862962 0.94601593 1.05435505 0.7204988  0.7474712\n",
            "  0.65306057 0.4601896  0.98897542 0.99814451 0.97260038 0.8271211\n",
            "  0.39022017 0.84455054 0.91470604 0.87060849 0.49994108 1.06950402\n",
            "  0.09395619 0.9715706  0.52252217 0.77846097 0.77425162 1.11595056\n",
            "  1.04159682 0.75724715 0.80356724 0.97887156 0.93261519 0.57144208\n",
            "  0.8958045  0.93219407 0.95317463 0.22746221 0.40088272 1.05423065\n",
            "  0.48096697 0.1742009  0.95364911 1.00215278 0.8503498  1.21528086\n",
            "  1.00689892 0.85805285 1.02978481 0.37088063 0.68957094 0.81274291\n",
            "  0.72204389 0.5951119  0.75836132 1.00559651]\n",
            " [0.30142178 0.21797421 0.68446548 0.14893276 0.38729951 0.36109862\n",
            "  0.11832666 0.105022   0.72181375 0.11560142 0.40528621 0.70949223\n",
            "  0.33587839 0.39866777 0.24756929 0.58015806 0.19353541 0.09502832\n",
            "  0.67375856 0.         0.25056113 0.65018171 0.23498475 0.43828103\n",
            "  0.61912653 0.26962783 0.18007946 0.29166506 0.39793803 0.48435417\n",
            "  0.15859313 0.41430529 0.59161216 0.70451199 0.53689437 0.81133602\n",
            "  0.65091316 0.54609097 0.42541253 0.4202631  0.12848168 0.457331\n",
            "  0.25101566 0.67082203 0.35760342 0.514168   0.71815754 0.60268181\n",
            "  0.55279304 0.12295493 0.71001671 0.42611745 0.18667415 0.38739266\n",
            "  0.56706549 0.57651953 0.33036466 0.37926377 0.377776   0.60254656\n",
            "  0.35949167 0.17107905 0.35915463 0.4929508  0.23872689 0.66884263\n",
            "  0.58492938 0.393566   0.44182915 0.18742145 0.23206866 0.60694868\n",
            "  0.67926887 0.10727951 0.54862778 0.3380203  0.69494821 0.14342936\n",
            "  0.30090682 0.57585561 0.49261016 0.50648825 0.48330543 0.38203872\n",
            "  0.22234097 0.52756386 0.28774481 0.45349512 0.26609372 0.57024325\n",
            "  0.75734898 0.58442855 0.39960075 0.31184055 0.63696634 0.66283464\n",
            "  0.5172154  0.42473427 0.13048162 0.75603952]\n",
            " [0.12828168 0.10678902 0.72388447 0.1779726  0.13971905 0.60880882\n",
            "  0.13490454 0.29295557 0.69623966 0.28929159 0.54363273 0.70422229\n",
            "  0.08725637 0.18153423 0.04425845 0.79155054 0.41746819 0.28377882\n",
            "  0.42320879 0.25056113 0.         0.84695672 0.27449072 0.5835503\n",
            "  0.85636495 0.30391472 0.1406617  0.4441573  0.64474364 0.72831952\n",
            "  0.40913495 0.1881569  0.81946678 0.67010623 0.74013027 0.78220605\n",
            "  0.78376084 0.3002864  0.17504597 0.57018865 0.32514757 0.21216898\n",
            "  0.19431085 0.62098107 0.37058587 0.42363562 0.77060548 0.36969138\n",
            "  0.58344581 0.1391593  0.73899139 0.6498627  0.32894189 0.44436891\n",
            "  0.50641688 0.4277407  0.57078058 0.59641637 0.57822749 0.61536595\n",
            "  0.17648846 0.42137359 0.53383285 0.57473927 0.15244605 0.77637708\n",
            "  0.33474039 0.5860425  0.34556371 0.3768516  0.3871477  0.76839994\n",
            "  0.76796447 0.33868661 0.57027035 0.5669236  0.72345736 0.16933114\n",
            "  0.50013647 0.6538958  0.61845797 0.27357374 0.3186307  0.63175258\n",
            "  0.10340689 0.28353291 0.53336252 0.62865608 0.45442868 0.80520077\n",
            "  0.79632544 0.62008637 0.62272102 0.08006074 0.57253693 0.64652706\n",
            "  0.50768951 0.37467921 0.34370661 0.7949275 ]\n",
            " [0.93922731 0.75380942 0.52853263 0.7991137  0.94708374 0.40133607\n",
            "  0.74941049 0.56405346 0.70161291 0.56341625 0.3345028  0.64826623\n",
            "  0.93007002 0.90047968 0.81824683 0.09532053 0.45746239 0.57472068\n",
            "  1.22285831 0.65018171 0.84695672 0.         0.86996642 0.29649411\n",
            "  0.24890686 0.58441751 0.70998035 0.81692205 0.54922553 0.32166476\n",
            "  0.54616653 1.03422066 0.17643601 0.71458868 0.11454133 0.75398264\n",
            "  0.25146563 1.13692094 1.00349402 0.88987919 0.70533273 0.99612573\n",
            "  0.69601713 0.7349142  0.58061354 0.75813619 0.50458566 1.07806912\n",
            "  0.52667026 0.76224008 0.56354292 0.24609066 0.77944966 0.49835166\n",
            "  0.71950407 0.88846278 0.59932724 0.276383   0.76187849 0.57363725\n",
            "  0.99841511 0.55267448 0.8126478  0.41498612 0.72739199 0.3342319\n",
            "  1.15222401 0.26156035 0.7476187  0.47458387 0.78639374 0.15678842\n",
            "  0.39243099 0.54312741 0.54641806 0.6572957  0.5596733  0.67764161\n",
            "  0.35176475 0.41275804 0.97508958 1.00309392 0.86817224 0.42465101\n",
            "  0.86215816 1.04998188 0.42246718 0.85922474 0.74999084 0.22918262\n",
            "  0.5553359  0.51778776 0.69515581 0.86677333 0.75220651 0.65688468\n",
            "  0.60865564 0.6731134  0.68234641 0.55503486]\n",
            " [0.21024649 0.33119884 0.90609559 0.11669708 0.39393543 0.5260886\n",
            "  0.20323086 0.3392921  0.9201609  0.34835764 0.6402182  0.9161945\n",
            "  0.3188968  0.45522367 0.30688479 0.79218476 0.41543065 0.32883744\n",
            "  0.62984429 0.23498475 0.27449072 0.86996642 0.         0.67319694\n",
            "  0.79911589 0.47456032 0.32455463 0.19193299 0.49135176 0.65439021\n",
            "  0.32976816 0.3280095  0.78717007 0.89855065 0.75546271 1.00932606\n",
            "  0.88580962 0.47654516 0.3988592  0.30462141 0.17141796 0.46407149\n",
            "  0.40849084 0.85676252 0.56083509 0.67378347 0.94364942 0.62917329\n",
            "  0.7695587  0.18338628 0.92885509 0.63277805 0.11139059 0.6076414\n",
            "  0.74509543 0.69778144 0.40401081 0.59392169 0.34707855 0.8142269\n",
            "  0.24273573 0.32880058 0.28509933 0.72209908 0.37574812 0.90311331\n",
            "  0.5360147  0.62099602 0.59523335 0.4216776  0.1514975  0.83917742\n",
            "  0.91152888 0.33383047 0.76227472 0.37557561 0.91344361 0.31303997\n",
            "  0.52887589 0.80540955 0.34502655 0.53698087 0.59022933 0.53246783\n",
            "  0.17331031 0.53225944 0.4680293  0.37291238 0.23065739 0.7561416\n",
            "  0.97969113 0.80340682 0.41506562 0.35404862 0.81461529 0.86422043\n",
            "  0.71805272 0.60300612 0.19736868 0.97834329]\n",
            " [0.69164165 0.48201799 0.3364521  0.57861105 0.66720309 0.3801653\n",
            "  0.51071186 0.3352527  0.46939762 0.32832024 0.04072103 0.42661663\n",
            "  0.66074987 0.61189194 0.54899833 0.28546475 0.27953712 0.34607402\n",
            "  0.93395349 0.43828103 0.5835503  0.29649411 0.67319694 0.\n",
            "  0.43661341 0.29656727 0.44291169 0.68189924 0.53681506 0.39817165\n",
            "  0.4006021  0.77117903 0.36394902 0.47246621 0.22482499 0.54226398\n",
            "  0.21263476 0.85926488 0.72603948 0.78745523 0.5339724  0.71015054\n",
            "  0.4128384  0.47710658 0.28423402 0.46597787 0.34390077 0.78308039\n",
            "  0.26987438 0.52738487 0.37187917 0.24935679 0.60780823 0.20239677\n",
            "  0.43836497 0.59450038 0.54282519 0.21063183 0.68577974 0.32704541\n",
            "  0.74945294 0.4159525  0.71097685 0.14977359 0.44846409 0.23962395\n",
            "  0.86803793 0.12841388 0.45134563 0.25213032 0.63463423 0.18563741\n",
            "  0.26600415 0.34486472 0.28451321 0.59210207 0.36127162 0.41812366\n",
            "  0.17429724 0.19834982 0.87174627 0.71098321 0.57173636 0.41903604\n",
            "  0.62026367 0.760041   0.34315256 0.78425702 0.62687232 0.38733214\n",
            "  0.39484732 0.27665694 0.64884039 0.58986207 0.48200934 0.41385865\n",
            "  0.32910393 0.37739686 0.51797226 0.39388787]\n",
            " [0.92034806 0.78342878 0.74046736 0.75907456 0.97917534 0.2733324\n",
            "  0.73478299 0.56482714 0.897861   0.57078784 0.46083302 0.84970152\n",
            "  0.94358177 0.95552186 0.83876468 0.17543991 0.43920291 0.57331916\n",
            "  1.2677995  0.61912653 0.85636495 0.24890686 0.79911589 0.43661341\n",
            "  0.         0.65963115 0.73623883 0.69549843 0.37066707 0.14640556\n",
            "  0.47455561 1.03222171 0.07908441 0.90461436 0.22386629 0.9621831\n",
            "  0.48417976 1.15663382 1.02805273 0.73717938 0.62782231 1.04001367\n",
            "  0.75089866 0.91309539 0.68810103 0.88794554 0.72690461 1.15223224\n",
            "  0.70395662 0.74183155 0.77680241 0.21811184 0.69335676 0.62284682\n",
            "  0.87209809 1.00901695 0.44437344 0.27572781 0.60060302 0.75885726\n",
            "  0.97790006 0.47196739 0.66544128 0.58368772 0.77148325 0.56394253\n",
            "  1.18607544 0.3296151  0.85695313 0.49002087 0.68201791 0.38133615\n",
            "  0.61875387 0.5189065  0.7200099  0.50002112 0.77002725 0.69673274\n",
            "  0.38006395 0.6094121  0.81771849 1.06557356 0.96351229 0.27357438\n",
            "  0.84135412 1.103258   0.33494593 0.68922504 0.62571815 0.05363345\n",
            "  0.77953888 0.70530745 0.51987391 0.89734679 0.91841382 0.84567662\n",
            "  0.76452605 0.79050765 0.6017576  0.77901767]\n",
            " [0.42535805 0.1973336  0.43470734 0.36038003 0.37164155 0.47751216\n",
            "  0.27556383 0.18867316 0.45266939 0.17342796 0.25590303 0.44329552\n",
            "  0.37235761 0.31636496 0.26403506 0.54980571 0.26776469 0.19229935\n",
            "  0.63883938 0.26962783 0.30391472 0.58441751 0.47456032 0.29656727\n",
            "  0.65963115 0.         0.16940839 0.56126435 0.58521199 0.56411196\n",
            "  0.35145383 0.48608973 0.60327886 0.43489713 0.49129484 0.54227191\n",
            "  0.48396163 0.56389644 0.43126398 0.68915965 0.39768953 0.4137328\n",
            "  0.11766678 0.40209215 0.08825563 0.26651433 0.47645719 0.49824825\n",
            "  0.2959907  0.29553753 0.45545404 0.44162552 0.45383745 0.14187426\n",
            "  0.30256901 0.36367114 0.54495864 0.38408971 0.63332926 0.33971389\n",
            "  0.47894984 0.37101958 0.62507411 0.27100729 0.15645157 0.47259835\n",
            "  0.57148323 0.34036523 0.21028747 0.19598139 0.50162074 0.48116119\n",
            "  0.46473606 0.24887207 0.28781494 0.57174992 0.4399418  0.16407161\n",
            "  0.28032824 0.35122571 0.76223325 0.41916009 0.30440663 0.51322448\n",
            "  0.36618368 0.46560414 0.40459441 0.71710715 0.53141386 0.60600371\n",
            "  0.50839553 0.33083486 0.63591634 0.2965542  0.37136704 0.39427754\n",
            "  0.24806283 0.16651698 0.39612224 0.50702238]\n",
            " [0.25657358 0.0472475  0.60103293 0.20789405 0.24349549 0.50546338\n",
            "  0.12189309 0.17451358 0.59721867 0.1663131  0.40297124 0.59673186\n",
            "  0.22028174 0.22838007 0.10826815 0.65870915 0.29940602 0.16799738\n",
            "  0.53156847 0.18007946 0.1406617  0.70998035 0.32455463 0.44291169\n",
            "  0.73623883 0.16940839 0.         0.44884692 0.57001215 0.61667723\n",
            "  0.323551   0.3284003  0.6933573  0.5746977  0.60536158 0.68597306\n",
            "  0.6437951  0.42832574 0.29582708 0.58003987 0.29661484 0.30430128\n",
            "  0.08427276 0.53221376 0.24650785 0.35323009 0.64458456 0.43322091\n",
            "  0.46094032 0.14134805 0.61959695 0.52377422 0.33212132 0.31127864\n",
            "  0.42075698 0.39996802 0.50803905 0.46831066 0.55432112 0.49947153\n",
            "  0.31149556 0.33986424 0.52741139 0.43951999 0.05958121 0.63899467\n",
            "  0.45101216 0.45047239 0.27615064 0.247653   0.3875949  0.62788504\n",
            "  0.63358215 0.23287236 0.45037927 0.51804437 0.60400593 0.04179653\n",
            "  0.36811334 0.52044187 0.64336393 0.33938758 0.30365642 0.53362838\n",
            "  0.19747048 0.36992496 0.4282275  0.62342774 0.43713797 0.68379089\n",
            "  0.67447258 0.49676227 0.57965927 0.1614934  0.49048547 0.54262734\n",
            "  0.3977142  0.2784537  0.30558386 0.67308636]\n",
            " [0.4008252  0.47152032 0.96544498 0.26642418 0.57507918 0.4292851\n",
            "  0.33479155 0.38405852 1.01300422 0.39797315 0.65712485 0.99895198\n",
            "  0.50238041 0.62449045 0.4673632  0.72866346 0.40248969 0.37676508\n",
            "  0.82140982 0.29166506 0.4441573  0.81692205 0.19193299 0.68189924\n",
            "  0.69549843 0.56126435 0.44884692 0.         0.34484428 0.54968614\n",
            "  0.28403852 0.51991789 0.7012667  0.99609681 0.70491028 1.10242885\n",
            "  0.88724197 0.66847528 0.58654406 0.13119366 0.16388148 0.64709321\n",
            "  0.53024502 0.96229939 0.64912127 0.79929092 0.99432467 0.81059123\n",
            "  0.83878867 0.31960515 0.99321994 0.57084847 0.11803636 0.67319768\n",
            "  0.85730162 0.84602208 0.25829413 0.54712582 0.15851098 0.89073779\n",
            "  0.43450559 0.27181187 0.09330177 0.7666034  0.50741248 0.92131761\n",
            "  0.72750588 0.59739134 0.7238767  0.4400761  0.0612922  0.8213513\n",
            "  0.94157671 0.34568436 0.83632585 0.21313857 0.97853584 0.42221844\n",
            "  0.51395701 0.84713628 0.20121651 0.71594706 0.74360277 0.42218147\n",
            "  0.35238977 0.71697021 0.39447873 0.1849446  0.06978841 0.66083145\n",
            "  1.03695311 0.86863417 0.23639953 0.52364289 0.92738731 0.95369977\n",
            "  0.80853022 0.71421296 0.17021414 1.03569545]\n",
            " [0.66313202 0.61258502 0.87038643 0.49487431 0.78360571 0.16140343\n",
            "  0.50983911 0.41063573 0.97675021 0.42430779 0.53205421 0.9444471\n",
            "  0.72647208 0.79534536 0.64536209 0.45399136 0.32078507 0.412534\n",
            "  1.06599554 0.39793803 0.64474364 0.54922553 0.49135176 0.53681506\n",
            "  0.37066707 0.58521199 0.57001215 0.34484428 0.         0.2354111\n",
            "  0.24685343 0.78600625 0.39731948 0.97062752 0.45350277 1.059371\n",
            "  0.69896094 0.92872443 0.81711553 0.3676198  0.33682615 0.85457894\n",
            "  0.62375757 0.95593436 0.65457467 0.85153643 0.88071434 1.00003814\n",
            "  0.77669876 0.50741182 0.90467982 0.32447813 0.38004693 0.63221304\n",
            "  0.87549135 0.94224694 0.08827019 0.33502685 0.23042302 0.83570664\n",
            "  0.71316433 0.23014817 0.29880887 0.6700433  0.62413077 0.75788741\n",
            "  0.97472878 0.41387381 0.79275196 0.39245477 0.34910022 0.60845881\n",
            "  0.79655877 0.34580803 0.78354107 0.1343487  0.89275038 0.52906078\n",
            "  0.37305069 0.73375987 0.4471398  0.90413614 0.8625324  0.12792115\n",
            "  0.59085403 0.92516434 0.19854588 0.31917555 0.27799088 0.34794419\n",
            "  0.93144756 0.79525753 0.150015   0.70966166 0.93910802 0.91652285\n",
            "  0.79054452 0.75031017 0.31230602 0.93046216]\n",
            " [0.78371636 0.66380279 0.72904502 0.61959213 0.85655742 0.12845426\n",
            "  0.60190624 0.44235463 0.86701378 0.45051029 0.41051283 0.82476776\n",
            "  0.81544346 0.84178682 0.71465562 0.22708698 0.31750567 0.44964313\n",
            "  1.14624605 0.48435417 0.72831952 0.32166476 0.65439021 0.39817165\n",
            "  0.14640556 0.56411196 0.61667723 0.54968614 0.2354111  0.\n",
            "  0.33377109 0.8986558  0.1619138  0.86846061 0.24206781 0.9403207\n",
            "  0.50899776 1.02796989 0.90225847 0.59660573 0.4834527  0.92066418\n",
            "  0.64228089 0.86758667 0.60756401 0.81188058 0.72656535 1.04314575\n",
            "  0.66582665 0.60725014 0.76526506 0.14881487 0.54770384 0.55569745\n",
            "  0.81030387 0.92468242 0.3018225  0.19514627 0.46150791 0.72405664\n",
            "  0.84035693 0.3293875  0.52314159 0.54715883 0.65775134 0.57979827\n",
            "  1.06155253 0.27211667 0.77061837 0.37828451 0.53561666 0.40926938\n",
            "  0.62769819 0.3898099  0.67843049 0.35875998 0.75595348 0.57575348\n",
            "  0.28818325 0.59152073 0.67883965 0.95293779 0.86729873 0.127505\n",
            "  0.70516575 0.98651023 0.19665252 0.55383822 0.47989958 0.1136131\n",
            "  0.77941308 0.67473729 0.38522082 0.77556963 0.86422472 0.81037124\n",
            "  0.70885724 0.71079182 0.45724178 0.77865819]\n",
            " [0.45123798 0.3669592  0.70279064 0.28585657 0.54518568 0.20685135\n",
            "  0.27629956 0.16713157 0.77746742 0.18170283 0.37900924 0.75404016\n",
            "  0.49437133 0.55019601 0.40427947 0.46440856 0.12231511 0.16755191\n",
            "  0.83230319 0.15859313 0.40913495 0.54616653 0.32976816 0.4006021\n",
            "  0.47455561 0.35145383 0.323551   0.28403852 0.24685343 0.33377109\n",
            "  0.         0.56876696 0.45781308 0.76610336 0.43194788 0.86462739\n",
            "  0.60346463 0.70373825 0.58400402 0.38724547 0.16022808 0.61440781\n",
            "  0.37780462 0.74276548 0.42967401 0.61669546 0.72572801 0.75523681\n",
            "  0.58731816 0.27848528 0.73345308 0.304332   0.23340969 0.42722592\n",
            "  0.65149229 0.69952401 0.19414272 0.27047523 0.29677646 0.64366099\n",
            "  0.50715893 0.01967732 0.3116161  0.499518   0.37727743 0.64017064\n",
            "  0.74349425 0.31390728 0.55306632 0.17697049 0.24366927 0.53803128\n",
            "  0.66395819 0.10312732 0.58916374 0.2217445  0.71962377 0.28237894\n",
            "  0.23015949 0.57631667 0.47119042 0.65994479 0.61661974 0.2244431\n",
            "  0.37338086 0.68403836 0.13986461 0.39110955 0.22632216 0.42902449\n",
            "  0.77158752 0.61283788 0.28572696 0.4682375  0.71854446 0.71672045\n",
            "  0.57916413 0.51792921 0.13634843 0.77040736]\n",
            " [0.12369058 0.29026068 0.88884716 0.29114658 0.15402754 0.77458301\n",
            "  0.29744684 0.47522539 0.8363185  0.47329616 0.73108444 0.85309494\n",
            "  0.11490712 0.24936014 0.22291939 0.97659626 0.59662013 0.46533572\n",
            "  0.30270707 0.41430529 0.1881569  1.03422066 0.3280095  0.77117903\n",
            "  1.03222171 0.48608973 0.3284003  0.51991789 0.78600625 0.8986558\n",
            "  0.56876696 0.         0.99995522 0.80709992 0.92637058 0.91715698\n",
            "  0.96912192 0.14863412 0.11082095 0.62735835 0.44990937 0.19035798\n",
            "  0.37069209 0.75270466 0.54363101 0.5489222  0.93856682 0.34208021\n",
            "  0.75010411 0.2914236  0.90000504 0.8311834  0.42368066 0.62323514\n",
            "  0.64027769 0.50987263 0.70422158 0.77929294 0.67328844 0.77481377\n",
            "  0.08788219 0.5775229  0.61310869 0.75449393 0.32998664 0.95783905\n",
            "  0.20946677 0.77292509 0.47800162 0.56189428 0.4751266  0.95627877\n",
            "  0.94564301 0.51372269 0.73460825 0.6877679  0.8847487  0.35708232\n",
            "  0.68561513 0.83114642 0.65271604 0.26980349 0.40510994 0.79302407\n",
            "  0.1963445  0.23948905 0.70202623 0.69961634 0.55270671 0.9823336\n",
            "  0.9593487  0.78696745 0.73497247 0.1972299  0.69943377 0.79303079\n",
            "  0.6643058  0.52615522 0.47380405 0.95795294]\n",
            " [0.89242448 0.74014709 0.66195296 0.73636116 0.93683289 0.27198173\n",
            "  0.70377207 0.52651425 0.82103994 0.53067263 0.39078892 0.77223651\n",
            "  0.90620093 0.90691331 0.7985446  0.09654317 0.40333525 0.53582062\n",
            "  1.2234173  0.59161216 0.81946678 0.17643601 0.78717007 0.36394902\n",
            "  0.07908441 0.60327886 0.6933573  0.7012667  0.39731948 0.1619138\n",
            "  0.45781308 0.99995522 0.         0.82855351 0.14589481 0.88422581\n",
            "  0.40544712 1.1187391  0.98810385 0.75613948 0.61621248 0.99485232\n",
            "  0.70060618 0.83866091 0.62495257 0.82177813 0.64788961 1.09982903\n",
            "  0.62888631 0.71268634 0.69824681 0.16978128 0.6857121  0.55562768\n",
            "  0.80161246 0.94532332 0.46097194 0.2252781  0.62215283 0.68299427\n",
            "  0.95089604 0.45850141 0.68147737 0.50900773 0.72419666 0.48494577\n",
            "  1.14436921 0.26572989 0.79481822 0.44570961 0.68103509 0.30249226\n",
            "  0.53967157 0.48720126 0.64551509 0.51857476 0.69166165 0.65534731\n",
            "  0.32831834 0.53178202 0.83919343 1.01570103 0.90512901 0.28345024\n",
            "  0.81336459 1.05595219 0.31928271 0.71543506 0.63185393 0.05401956\n",
            "  0.70049747 0.62897533 0.54705792 0.85483235 0.84582688 0.76962953\n",
            "  0.69295084 0.7262212  0.59085955 0.69998096]\n",
            " [0.79739903 0.57724512 0.20570226 0.78192466 0.65512116 0.82943888\n",
            "  0.69532579 0.61725775 0.03318257 0.60238523 0.45808764 0.08369097\n",
            "  0.7001636  0.56123448 0.6261342  0.73989017 0.65677794 0.62284778\n",
            "  0.80467084 0.70451199 0.67010623 0.71458868 0.89855065 0.47246621\n",
            "  0.90461436 0.43489713 0.5746977  0.99609681 0.97062752 0.86846061\n",
            "  0.76610336 0.80709992 0.82855351 0.         0.68324972 0.11214469\n",
            "  0.47992128 0.81368011 0.71054504 1.12340392 0.83238388 0.64865223\n",
            "  0.49206381 0.05922477 0.34698937 0.25916672 0.25477762 0.61200335\n",
            "  0.20277574 0.71522729 0.18246554 0.72017547 0.8881271  0.34046205\n",
            "  0.16682746 0.34480372 0.95056887 0.67526003 1.05950274 0.14584524\n",
            "  0.83736668 0.78558221 1.05753164 0.32274447 0.52907386 0.40537718\n",
            "  0.78358145 0.59634529 0.32975019 0.59043146 0.93651633 0.5586513\n",
            "  0.35054085 0.66976203 0.19049261 0.98685595 0.17672585 0.58680838\n",
            "  0.60240514 0.30201107 1.19712213 0.59687324 0.41806218 0.86899725\n",
            "  0.76119224 0.6549638  0.77294245 1.14761681 0.96401653 0.8574999\n",
            "  0.23249418 0.19969912 1.05015983 0.61829456 0.11520906 0.0589382\n",
            "  0.18837822 0.29783305 0.82975477 0.23155161]\n",
            " [0.82853894 0.65032721 0.51667678 0.68579056 0.84556886 0.29821206\n",
            "  0.63832418 0.45340448 0.67530572 0.45371001 0.25640056 0.62634338\n",
            "  0.82450128 0.80458379 0.71335678 0.06087091 0.34371326 0.46389911\n",
            "  1.12585282 0.53689437 0.74013027 0.11454133 0.75546271 0.22482499\n",
            "  0.22386629 0.49129484 0.60536158 0.70491028 0.45350277 0.24206781\n",
            "  0.43194788 0.92637058 0.14589481 0.68324972 0.         0.73842075\n",
            "  0.27030359 1.03356913 0.900588   0.78212027 0.59088539 0.89780072\n",
            "  0.59824506 0.69479317 0.49966226 0.68954298 0.50451703 0.9890918\n",
            "  0.48461015 0.65055315 0.5530392  0.13597081 0.66511115 0.42381429\n",
            "  0.66282883 0.81645276 0.49554778 0.1618699  0.6570843  0.53791576\n",
            "  0.88773956 0.4388624  0.70442583 0.36544956 0.62708733 0.34595311\n",
            "  1.05213359 0.15504512 0.66951866 0.36479849 0.6729661  0.16841291\n",
            "  0.39840861 0.42967768 0.50184354 0.55298975 0.54616971 0.57125563\n",
            "  0.24111233 0.38588792 0.86772612 0.91002597 0.78543228 0.32608151\n",
            "  0.75091341 0.95448766 0.31112795 0.75559214 0.63871749 0.18265118\n",
            "  0.55736753 0.48357402 0.59500102 0.76439526 0.70408923 0.62435957\n",
            "  0.5529779  0.59778957 0.56801814 0.55679301]\n",
            " [0.90940922 0.68925166 0.22545008 0.89279992 0.76450257 0.91260996\n",
            "  0.80617537 0.72105594 0.08961909 0.70642776 0.53453812 0.11595416\n",
            "  0.8112189  0.67003447 0.73825417 0.79157987 0.75149038 0.72722527\n",
            "  0.90035354 0.81133602 0.78220605 0.75398264 1.00932606 0.54226398\n",
            "  0.9621831  0.54227191 0.68597306 1.10242885 1.059371   0.9403207\n",
            "  0.86462739 0.91715698 0.88422581 0.11214469 0.73842075 0.\n",
            "  0.50701137 0.9184068  0.81896228 1.22860016 0.93855272 0.75490793\n",
            "  0.60370451 0.16450524 0.45402473 0.36828955 0.25656198 0.7069208\n",
            "  0.28267279 0.82613474 0.19081375 0.79153598 0.99610274 0.43743177\n",
            "  0.27764394 0.44108364 1.04488171 0.75107656 1.16001981 0.22373864\n",
            "  0.94895853 0.88388279 1.16127343 0.39486546 0.64101291 0.42598124\n",
            "  0.88508505 0.66984596 0.44085401 0.68783946 1.04337544 0.59745199\n",
            "  0.36724729 0.77095097 0.27688474 1.08372637 0.19438928 0.69697725\n",
            "  0.68731986 0.35301942 1.30362919 0.69953849 0.5231462  0.95221201\n",
            "  0.87326639 0.75703607 0.86085435 1.24999124 1.06804057 0.91800923\n",
            "  0.21483994 0.26680045 1.1463779  0.72969324 0.21900523 0.14895514\n",
            "  0.29421919 0.409809   0.93480625 0.21451069]\n",
            " [0.89738379 0.67895328 0.28276959 0.79057304 0.85306066 0.53760416\n",
            "  0.72058171 0.5477433  0.46263631 0.54045535 0.2474644  0.40684632\n",
            "  0.85606632 0.78637159 0.74626753 0.30891056 0.48585985 0.55852408\n",
            "  1.10237256 0.65091316 0.78376084 0.25146563 0.88580962 0.21263476\n",
            "  0.48417976 0.48396163 0.6437951  0.88724197 0.69896094 0.50899776\n",
            "  0.60346463 0.96912192 0.40544712 0.47992128 0.27030359 0.50701137\n",
            "  0.         1.04473404 0.91349605 0.98632908 0.744049   0.88716169\n",
            "  0.60129544 0.50929372 0.44378404 0.57771016 0.2539384  0.93511849\n",
            "  0.31465237 0.7378218  0.31627464 0.37689908 0.81848776 0.35622674\n",
            "  0.51856206 0.70954216 0.7226459  0.36611678 0.87563404 0.34919641\n",
            "  0.95419306 0.61704438 0.908735   0.23282292 0.64035048 0.08281826\n",
            "  1.04538158 0.29573368 0.58927505 0.4644693  0.84264782 0.10309831\n",
            "  0.14142668 0.55617697 0.33664244 0.77639057 0.3142334  0.62323528\n",
            "  0.37332216 0.19071871 1.07166558 0.87520469 0.71537619 0.57228856\n",
            "  0.82836418 0.92877029 0.52205185 0.97524647 0.82891594 0.44995601\n",
            "  0.30405434 0.2950462  0.82774693 0.78022497 0.53652474 0.42505766\n",
            "  0.4127     0.51310179 0.72685342 0.30378679]\n",
            " [0.27093694 0.38333675 0.92645679 0.43487029 0.19225512 0.90689144\n",
            "  0.42777381 0.59260866 0.845243   0.58806647 0.8185559  0.87129395\n",
            "  0.21305234 0.26548169 0.32089767 1.08700279 0.717615   0.58369379\n",
            "  0.15728216 0.54609097 0.3002864  1.13692094 0.47654516 0.85926488\n",
            "  1.15663382 0.56389644 0.42832574 0.66847528 0.92872443 1.02796989\n",
            "  0.70373825 0.14863412 1.1187391  0.81368011 1.03356913 0.9184068\n",
            "  1.04473404 0.         0.13355323 0.77429159 0.59444767 0.16726717\n",
            "  0.44660452 0.75583592 0.60381953 0.55686819 0.97951939 0.2539062\n",
            "  0.7935543  0.42551394 0.93199094 0.94898013 0.57165768 0.68966379\n",
            "  0.65063961 0.4839921  0.84860075 0.89471025 0.82186311 0.80798917\n",
            "  0.23474753 0.71412342 0.7616244  0.8191796  0.41122236 1.02280716\n",
            "  0.06987428 0.87858551 0.49854672 0.67410909 0.62363158 1.04460501\n",
            "  1.00278334 0.63874348 0.77536337 0.83434369 0.91744377 0.46415821\n",
            "  0.79607789 0.8894337  0.79604378 0.22090294 0.39567293 0.92796564\n",
            "  0.33810204 0.16709644 0.83229591 0.84752298 0.70097956 1.10537567\n",
            "  0.99283838 0.8297072  0.88267919 0.27036817 0.70005887 0.81032455\n",
            "  0.69792782 0.56142869 0.61752463 0.99147212]\n",
            " [0.19048188 0.25026754 0.80737282 0.33237011 0.06101628 0.78365245\n",
            "  0.30846573 0.46324141 0.74081458 0.45783189 0.68534577 0.76164693\n",
            "  0.09066672 0.14944453 0.18959163 0.95443603 0.58889053 0.45476789\n",
            "  0.2489668  0.42541253 0.17504597 1.00349402 0.3988592  0.72603948\n",
            "  1.02805273 0.43126398 0.29582708 0.58654406 0.81711553 0.90225847\n",
            "  0.58400402 0.11082095 0.98810385 0.71054504 0.900588   0.81896228\n",
            "  0.91349605 0.13355323 0.         0.70343716 0.48972266 0.07975112\n",
            "  0.31372205 0.65459269 0.47506244 0.45137833 0.85914171 0.23839089\n",
            "  0.67151907 0.30970857 0.81550091 0.81833606 0.47935736 0.55966963\n",
            "  0.5443953  0.40200402 0.74071351 0.76349536 0.73241994 0.69048984\n",
            "  0.1835535  0.59590948 0.67938043 0.69005859 0.27776851 0.89407352\n",
            "  0.15971511 0.74555912 0.3852102  0.5427035  0.53523793 0.91148785\n",
            "  0.87637085 0.51245326 0.65436318 0.73243421 0.80057268 0.33277832\n",
            "  0.66392581 0.76237555 0.73779793 0.15968047 0.30005305 0.80679813\n",
            "  0.23690996 0.13664563 0.7079442  0.77052393 0.60889765 0.97630066\n",
            "  0.87582046 0.70810385 0.78511476 0.13681907 0.60014219 0.70093713\n",
            "  0.57968516 0.4414712  0.51066835 0.87443669]\n",
            " [0.51405437 0.60226176 1.08418814 0.39385104 0.69708006 0.48986526\n",
            "  0.46536494 0.50789195 1.1394082  0.52233408 0.76619243 1.12335772\n",
            "  0.62277824 0.75143963 0.59568189 0.79752996 0.5094136  0.50142341\n",
            "  0.93002779 0.4202631  0.57018865 0.88987919 0.30462141 0.78745523\n",
            "  0.73717938 0.68915965 0.58003987 0.13119366 0.3676198  0.59660573\n",
            "  0.38724547 0.62735835 0.75613948 1.12340392 0.78212027 1.22860016\n",
            "  0.98632908 0.77429159 0.70343716 0.         0.29178282 0.76803914\n",
            "  0.66135037 1.09095926 0.77654454 0.93020709 1.11031665 0.93275912\n",
            "  0.96100523 0.44968214 1.11316433 0.64615452 0.24868964 0.79604666\n",
            "  0.98705459 0.97684929 0.29517279 0.63188458 0.1374176  1.01430601\n",
            "  0.53984441 0.37150307 0.07808223 0.88287282 0.63856896 1.02676792\n",
            "  0.83676881 0.69167379 0.85498217 0.55558632 0.1924672  0.9128413\n",
            "  1.05119267 0.46351499 0.95968316 0.23784592 1.09876466 0.55316507\n",
            "  0.61498307 0.96164561 0.08588165 0.83939002 0.87385253 0.47286581\n",
            "  0.47437029 0.83671134 0.47321667 0.08227195 0.16310937 0.71020825\n",
            "  1.1546309  0.98964062 0.22432678 0.65013193 1.05705278 1.07968012\n",
            "  0.93535155 0.84423652 0.29379986 1.15340748]\n",
            " [0.32661619 0.32638996 0.8042831  0.15960365 0.46426929 0.35503669\n",
            "  0.1963513  0.22128383 0.84913935 0.23481648 0.5057106  0.83524679\n",
            "  0.39965498 0.49575693 0.33726631 0.62456928 0.26012484 0.21352314\n",
            "  0.73669843 0.12848168 0.32514757 0.70533273 0.17141796 0.5339724\n",
            "  0.62782231 0.39768953 0.29661484 0.16388148 0.33682615 0.4834527\n",
            "  0.16022808 0.44990937 0.61621248 0.83238388 0.59088539 0.93855272\n",
            "  0.744049   0.59444767 0.48972266 0.29178282 0.         0.53707204\n",
            "  0.37424632 0.79923728 0.48539478 0.64084895 0.83495877 0.6936387\n",
            "  0.67589647 0.1869494  0.83131765 0.46454086 0.07529505 0.51020083\n",
            "  0.69544689 0.69658153 0.25434619 0.42904141 0.259321   0.72728887\n",
            "  0.37641895 0.15771678 0.23213826 0.60767849 0.35617338 0.7713437\n",
            "  0.64393758 0.46471286 0.56712744 0.28481418 0.10610297 0.68740286\n",
            "  0.78758209 0.1899515  0.67297597 0.24278122 0.81649385 0.26533489\n",
            "  0.37513771 0.68932141 0.36509618 0.59699771 0.59864303 0.36309849\n",
            "  0.2566136  0.60845199 0.29693794 0.32754914 0.14057925 0.58472991\n",
            "  0.87635888 0.70630182 0.29757472 0.39937554 0.76538815 0.78981832\n",
            "  0.64469846 0.55289251 0.0263505  0.87508099]\n",
            " [0.26127988 0.25706389 0.75946933 0.38522411 0.07293675 0.80699776\n",
            "  0.34587103 0.47831271 0.67983585 0.47059349 0.66954549 0.70459297\n",
            "  0.14526275 0.10107559 0.21012914 0.9538903  0.60365166 0.47113027\n",
            "  0.22866718 0.457331   0.21216898 0.99612573 0.46407149 0.71015054\n",
            "  1.04001367 0.4137328  0.30430128 0.64709321 0.85457894 0.92066418\n",
            "  0.61440781 0.19035798 0.99485232 0.64865223 0.89780072 0.75490793\n",
            "  0.88716169 0.16726717 0.07975112 0.76803914 0.53707204 0.\n",
            "  0.30013635 0.59138535 0.44372754 0.39066208 0.81275986 0.16533202\n",
            "  0.62746809 0.35129693 0.76474257 0.8259297  0.53561713 0.53095019\n",
            "  0.48444104 0.32847159 0.78230023 0.7695966  0.78753227 0.64084301\n",
            "  0.26154955 0.62812065 0.73889754 0.65850579 0.2713172  0.86110702\n",
            "  0.15843511 0.74328927 0.33128484 0.5502569  0.59295722 0.89391876\n",
            "  0.83882993 0.5335153  0.60894671 0.77908438 0.75021614 0.34492356\n",
            "  0.66714363 0.72623181 0.80687383 0.08012833 0.23198936 0.83305656\n",
            "  0.29471313 0.07138335 0.7301095  0.83195999 0.66354765 0.9873183\n",
            "  0.8256073  0.66341919 0.83456954 0.1464348  0.53600092 0.64362806\n",
            "  0.53095151 0.3950974  0.55587341 0.82424222]\n",
            " [0.32082634 0.08938479 0.53010817 0.29192889 0.25441654 0.54088826\n",
            "  0.20615164 0.21399521 0.5153955  0.20139775 0.37211752 0.51743412\n",
            "  0.25620377 0.20682907 0.15167952 0.65502769 0.3279525  0.21130873\n",
            "  0.5276571  0.25101566 0.19431085 0.69601713 0.40849084 0.4128384\n",
            "  0.75089866 0.11766678 0.08427276 0.53024502 0.62375757 0.64228089\n",
            "  0.37780462 0.37069209 0.70060618 0.49206381 0.59824506 0.60370451\n",
            "  0.60129544 0.44660452 0.31372205 0.66135037 0.37424632 0.30013635\n",
            "  0.         0.44852357 0.17627806 0.26971674 0.57635902 0.40175365\n",
            "  0.38957957 0.22551793 0.54623812 0.53377006 0.41446615 0.252607\n",
            "  0.33662526 0.32605254 0.56898683 0.47647763 0.62873849 0.42377019\n",
            "  0.37078894 0.39581069 0.60623874 0.38382346 0.04187691 0.58719559\n",
            "  0.45657271 0.44426439 0.19363294 0.26405569 0.46895708 0.59802858\n",
            "  0.5756512  0.27837127 0.37705527 0.58471467 0.53066226 0.1089115\n",
            "  0.37242392 0.46125591 0.72630315 0.31513683 0.23883582 0.57268292\n",
            "  0.27224132 0.35660965 0.4641945  0.70179535 0.5146153  0.6975053\n",
            "  0.60286575 0.42610763 0.64765675 0.17896193 0.4062728  0.46198581\n",
            "  0.31874617 0.19485505 0.38054665 0.60146975]\n",
            " [0.74740933 0.53139708 0.24750559 0.7400812  0.59999758 0.82013058\n",
            "  0.6537564  0.58839538 0.092275   0.57328836 0.45801876 0.13588351\n",
            "  0.64728704 0.50557087 0.5773409  0.75304825 0.63812624 0.59315951\n",
            "  0.74545235 0.67082203 0.62098107 0.7349142  0.85676252 0.47710658\n",
            "  0.91309539 0.40209215 0.53221376 0.96229939 0.95593436 0.86758667\n",
            "  0.74276548 0.75270466 0.83866091 0.05922477 0.69479317 0.16450524\n",
            "  0.50929372 0.75583592 0.65459269 1.09095926 0.79923728 0.59138535\n",
            "  0.44852357 0.         0.31602247 0.20379812 0.30023907 0.5527823\n",
            "  0.2103291  0.67344606 0.2297157  0.72065631 0.85200485 0.32385508\n",
            "  0.11458621 0.28559142 0.93079698 0.67283882 1.03293087 0.16171203\n",
            "  0.78567315 0.76239343 1.02711743 0.32965321 0.48383993 0.43914919\n",
            "  0.72489205 0.59646383 0.27732385 0.56947509 0.90206275 0.58095508\n",
            "  0.38732258 0.6438925  0.19315229 0.96440386 0.22139725 0.54734068\n",
            "  0.59335913 0.32371184 1.16272563 0.53836306 0.36017052 0.85944246\n",
            "  0.71441529 0.59634698 0.75993021 1.11870218 0.93345763 0.86438434\n",
            "  0.28417772 0.21751416 1.0281853  0.5662045  0.0561638  0.08822624\n",
            "  0.16541868 0.25376147 0.79820876 0.28312442]\n",
            " [0.49661147 0.26491415 0.35501476 0.44567902 0.41407576 0.5343492\n",
            "  0.35985379 0.27238745 0.36442805 0.25726906 0.24639726 0.35571279\n",
            "  0.42872579 0.34277117 0.32780509 0.56015306 0.33381573 0.27717267\n",
            "  0.65951958 0.35760342 0.37058587 0.58061354 0.56083509 0.28423402\n",
            "  0.68810103 0.08825563 0.24650785 0.64912127 0.65457467 0.60756401\n",
            "  0.42967401 0.54363101 0.62495257 0.34698937 0.49966226 0.45402473\n",
            "  0.44378404 0.60381953 0.47506244 0.77654454 0.48539478 0.44372754\n",
            "  0.17627806 0.31602247 0.         0.20454978 0.40026307 0.50022227\n",
            "  0.21462764 0.37994489 0.37309093 0.47354292 0.54209203 0.08795166\n",
            "  0.2221694  0.32091601 0.62097621 0.41765315 0.71714623 0.25404408\n",
            "  0.54706694 0.44935116 0.7115092  0.21536133 0.21815202 0.41912856\n",
            "  0.60174423 0.35943428 0.17015274 0.26222019 0.58966156 0.45917904\n",
            "  0.40251793 0.32902473 0.20393934 0.65129693 0.35750072 0.24832645\n",
            "  0.31940074 0.28809241 0.85018949 0.43313966 0.28756864 0.57195415\n",
            "  0.44356288 0.48553142 0.46572669 0.80272899 0.61787794 0.63502378\n",
            "  0.42825189 0.25075761 0.71536143 0.34756751 0.28889411 0.30605429\n",
            "  0.15980967 0.10332309 0.4830803  0.42686184]\n",
            " [0.54789986 0.34286535 0.384285   0.55833989 0.39625731 0.73764404\n",
            "  0.47422076 0.45096058 0.28964139 0.43591727 0.43322529 0.31474418\n",
            "  0.44434908 0.30209285 0.38104141 0.75041034 0.53252288 0.45269367\n",
            "  0.5629634  0.514168   0.42363562 0.75813619 0.67378347 0.46597787\n",
            "  0.88794554 0.26651433 0.35323009 0.79929092 0.85153643 0.81188058\n",
            "  0.61669546 0.5489222  0.82177813 0.25916672 0.68954298 0.36828955\n",
            "  0.57771016 0.55686819 0.45137833 0.93020709 0.64084895 0.39066208\n",
            "  0.26971674 0.20379812 0.20454978 0.         0.43988824 0.37637844\n",
            "  0.27135545 0.49294943 0.38308373 0.67588542 0.68406724 0.26632256\n",
            "  0.09379131 0.1322008  0.81068782 0.62077283 0.88986349 0.26541516\n",
            "  0.58373951 0.63611259 0.8728619  0.35057518 0.29832491 0.52821674\n",
            "  0.53137062 0.55833071 0.07886414 0.46037413 0.73805259 0.61997052\n",
            "  0.49116494 0.5136263  0.2495328  0.83512072 0.36965408 0.37707248\n",
            "  0.52380982 0.39113252 0.9960015  0.34441665 0.16394759 0.77474524\n",
            "  0.52114206 0.4028986  0.66739281 0.96762144 0.78017318 0.83538488\n",
            "  0.44402043 0.30208861 0.89917098 0.36428815 0.15105144 0.25383723\n",
            "  0.16774758 0.10229907 0.64463637 0.44271084]\n",
            " [0.89687114 0.66517713 0.05594568 0.83310448 0.79883831 0.72345426\n",
            "  0.75043233 0.61529339 0.22936846 0.60309003 0.35234049 0.17209381\n",
            "  0.82426578 0.71436499 0.72744984 0.55241324 0.60399311 0.62422444\n",
            "  1.00177286 0.71815754 0.77060548 0.50458566 0.94364942 0.34390077\n",
            "  0.72690461 0.47645719 0.64458456 0.99432467 0.88071434 0.72656535\n",
            "  0.72572801 0.93856682 0.64788961 0.25477762 0.50451703 0.25656198\n",
            "  0.2539384  0.97951939 0.85914171 1.11031665 0.83495877 0.81275986\n",
            "  0.57635902 0.30023907 0.40026307 0.43988824 0.         0.81623568\n",
            "  0.1884635  0.7701337  0.07255843 0.5811206  0.90303498 0.33694779\n",
            "  0.355264   0.55904813 0.88378892 0.55125565 1.01976975 0.17467578\n",
            "  0.94699436 0.743211   1.03647702 0.22774446 0.61818503 0.17144693\n",
            "  0.96341817 0.46934221 0.48307865 0.55502704 0.94057325 0.35029844\n",
            "  0.11253811 0.6487126  0.20478445 0.93067817 0.07885955 0.63984262\n",
            "  0.51326035 0.14978895 1.19189718 0.77889503 0.60093011 0.76196352\n",
            "  0.84203111 0.83684088 0.68609251 1.11627637 0.94729498 0.68710048\n",
            "  0.05300361 0.15160458 0.98937905 0.74133916 0.34375841 0.21258484\n",
            "  0.28205447 0.41829774 0.82450433 0.05235146]\n",
            " [0.42612514 0.3884144  0.76056292 0.54649423 0.23573317 0.93713369\n",
            "  0.49855524 0.60547057 0.64502571 0.59528134 0.74394381 0.68145224\n",
            "  0.31027939 0.20509218 0.35779633 1.04795071 0.72670214 0.60004811\n",
            "  0.19344358 0.60268181 0.36969138 1.07806912 0.62917329 0.78308039\n",
            "  1.15223224 0.49824825 0.43322091 0.81059123 1.00003814 1.04314575\n",
            "  0.75523681 0.34208021 1.09982903 0.61200335 0.9890918  0.7069208\n",
            "  0.93511849 0.2539062  0.23839089 0.93275912 0.6936387  0.16533202\n",
            "  0.40175365 0.5527823  0.50022227 0.37637844 0.81623568 0.\n",
            "  0.6436664  0.50669091 0.75791926 0.93460914 0.6975294  0.5868219\n",
            "  0.46375722 0.26722512 0.93223677 0.87710897 0.94790068 0.64178964\n",
            "  0.42154465 0.77058884 0.90176749 0.70231436 0.38605475 0.89546317\n",
            "  0.19704814 0.83854302 0.34641896 0.66543504 0.755351   0.95911572\n",
            "  0.86335092 0.66590084 0.62257709 0.93341316 0.74497623 0.47499693\n",
            "  0.77273202 0.75736332 0.97220543 0.09674348 0.22048375 0.96639483\n",
            "  0.45867318 0.10268097 0.85987011 0.99553576 0.82405137 1.09874239\n",
            "  0.81848453 0.67642569 0.99085522 0.29446254 0.49709363 0.62215573\n",
            "  0.54032436 0.42214264 0.71071033 0.81720834]\n",
            " [0.71040549 0.47879624 0.14053975 0.65619837 0.61101863 0.63084549\n",
            "  0.57154763 0.4547692  0.20232767 0.44107999 0.25576131 0.16822681\n",
            "  0.63583347 0.52808447 0.53999723 0.54272575 0.4711981  0.46237731\n",
            "  0.82387911 0.55279304 0.58344581 0.52667026 0.7695587  0.26987438\n",
            "  0.70395662 0.2959907  0.46094032 0.83878867 0.77669876 0.66582665\n",
            "  0.58731816 0.75010411 0.62888631 0.20277574 0.48461015 0.28267279\n",
            "  0.31465237 0.7935543  0.67151907 0.96100523 0.67589647 0.62746809\n",
            "  0.38957957 0.2103291  0.21462764 0.27135545 0.1884635  0.6436664\n",
            "  0.         0.59152797 0.15947176 0.51743994 0.73945679 0.16570535\n",
            "  0.20412603 0.40045604 0.76358948 0.47316621 0.88397365 0.05925737\n",
            "  0.7596     0.60621777 0.89065846 0.12045516 0.43125164 0.25790636\n",
            "  0.78040925 0.39372242 0.30152638 0.41051553 0.78195025 0.37505229\n",
            "  0.22006114 0.49827978 0.02223373 0.80403551 0.1439804  0.45998326\n",
            "  0.40486729 0.12398722 1.03931414 0.59826152 0.42428807 0.67046447\n",
            "  0.65816271 0.65546596 0.5781823  0.97645144 0.79854124 0.65600739\n",
            "  0.21362534 0.03686864 0.8660795  0.5528774  0.22605825 0.1445514\n",
            "  0.10379197 0.23240108 0.66889338 0.21223497]\n",
            " [0.17981583 0.15375656 0.72991722 0.06670276 0.27886217 0.48338021\n",
            "  0.02010213 0.19899795 0.73707311 0.20199369 0.4905194  0.73428372\n",
            "  0.21908443 0.30997739 0.15113095 0.69671537 0.310951   0.18811623\n",
            "  0.55862962 0.12295493 0.1391593  0.76224008 0.18338628 0.52738487\n",
            "  0.74183155 0.29553753 0.14134805 0.31960515 0.50741182 0.60725014\n",
            "  0.27848528 0.2914236  0.71268634 0.71522729 0.65055315 0.82613474\n",
            "  0.7378218  0.42551394 0.30970857 0.44968214 0.1869494  0.35129693\n",
            "  0.22551793 0.67344606 0.37994489 0.49294943 0.7701337  0.50669091\n",
            "  0.59152797 0.         0.75098796 0.54565752 0.20161873 0.4332142\n",
            "  0.56209899 0.5278463  0.43200172 0.49651334 0.44344543 0.63395523\n",
            "  0.23860608 0.28861075 0.40492355 0.5542845  0.19477574 0.74499422\n",
            "  0.46784614 0.50192173 0.41496146 0.28898983 0.25960246 0.70531132\n",
            "  0.74718619 0.22561337 0.58296683 0.42789481 0.73547062 0.13171571\n",
            "  0.41050119 0.63728458 0.50769693 0.41004985 0.42417063 0.50291107\n",
            "  0.10094808 0.42263793 0.41060974 0.50096537 0.32063491 0.69262001\n",
            "  0.80363042 0.62626769 0.484302   0.21247713 0.63179032 0.6815369\n",
            "  0.5356735  0.41971372 0.20467513 0.80226315]\n",
            " [0.86666981 0.63562247 0.03645411 0.81566004 0.75602646 0.75100543\n",
            "  0.73100032 0.61007634 0.15682836 0.59687162 0.37262973 0.09953929\n",
            "  0.78684537 0.66835357 0.69513417 0.60427752 0.61371343 0.6181932\n",
            "  0.94601593 0.71001671 0.73899139 0.56354292 0.92885509 0.37187917\n",
            "  0.77680241 0.45545404 0.61959695 0.99321994 0.90467982 0.76526506\n",
            "  0.73345308 0.90000504 0.69824681 0.18246554 0.5530392  0.19081375\n",
            "  0.31627464 0.93199094 0.81550091 1.11316433 0.83131765 0.76474257\n",
            "  0.54623812 0.2297157  0.37309093 0.38308373 0.07255843 0.75791926\n",
            "  0.15947176 0.75098796 0.         0.61752577 0.89646893 0.32280981\n",
            "  0.2943405  0.49670531 0.90087173 0.58242068 1.02981984 0.12524578\n",
            "  0.9143886  0.75173336 1.04120334 0.23629897 0.58756207 0.2357737\n",
            "  0.91210195 0.50009176 0.43347125 0.55856104 0.93741018 0.40727654\n",
            "  0.17747538 0.64965616 0.16935295 0.94496569 0.01559505 0.61941327\n",
            "  0.53259608 0.17410111 1.19289308 0.72604326 0.54632759 0.79018755\n",
            "  0.81646051 0.78437632 0.70737107 1.12442818 0.95017158 0.73445922\n",
            "  0.06106547 0.12573037 1.00540866 0.7034134  0.27576255 0.14332491\n",
            "  0.23604538 0.37452473 0.8230184  0.05972977]\n",
            " [0.72545618 0.57065393 0.58143262 0.57305918 0.76726958 0.16502481\n",
            "  0.53593623 0.35696151 0.71833295 0.36091932 0.26276612 0.67595803\n",
            "  0.73651131 0.7392942  0.62876943 0.16016921 0.23497823 0.36639848\n",
            "  1.05435505 0.42611745 0.6498627  0.24609066 0.63277805 0.24935679\n",
            "  0.21811184 0.44162552 0.52377422 0.57084847 0.32447813 0.14881487\n",
            "  0.304332   0.8311834  0.16978128 0.72017547 0.13597081 0.79153598\n",
            "  0.37689908 0.94898013 0.81833606 0.64615452 0.46454086 0.8259297\n",
            "  0.53377006 0.72065631 0.47354292 0.67588542 0.5811206  0.93460914\n",
            "  0.51743994 0.54565752 0.61752577 0.         0.53739467 0.41422165\n",
            "  0.66775165 0.79399563 0.36062398 0.05761929 0.5215538  0.57548572\n",
            "  0.78423739 0.30900146 0.56848327 0.39845267 0.55585188 0.44146368\n",
            "  0.97476815 0.12420281 0.64102165 0.27613764 0.54134068 0.28404648\n",
            "  0.48589719 0.32012855 0.53045874 0.41773521 0.60791425 0.48559612\n",
            "  0.16201514 0.44353596 0.73175533 0.84880645 0.74572458 0.19670106\n",
            "  0.64656902 0.88781566 0.17637831 0.62034528 0.50394361 0.16448283\n",
            "  0.63372718 0.52593978 0.46167727 0.68526701 0.71934216 0.66194073\n",
            "  0.56395217 0.57663249 0.44053149 0.6329223 ]\n",
            " [0.30075283 0.35359773 0.87051776 0.15111003 0.46297878 0.42004124\n",
            "  0.21678204 0.28774164 0.90649363 0.30015524 0.57867904 0.89562564\n",
            "  0.39237205 0.50805196 0.3502001  0.697557   0.33531529 0.27892407\n",
            "  0.7204988  0.18667415 0.32894189 0.77944966 0.11139059 0.60780823\n",
            "  0.69335676 0.45383745 0.33212132 0.11803636 0.38004693 0.54770384\n",
            "  0.23340969 0.42368066 0.6857121  0.8881271  0.66511115 0.99610274\n",
            "  0.81848776 0.57165768 0.47935736 0.24868964 0.07529505 0.53561713\n",
            "  0.41446615 0.85200485 0.54209203 0.68406724 0.90303498 0.6975294\n",
            "  0.73945679 0.20161873 0.89646893 0.53739467 0.         0.57399433\n",
            "  0.74500404 0.72816805 0.29292693 0.50337541 0.25306393 0.78908544\n",
            "  0.34293256 0.22873961 0.20497754 0.67656377 0.39022558 0.84430084\n",
            "  0.62666825 0.54000635 0.60791214 0.35726703 0.05838574 0.76264927\n",
            "  0.85906206 0.2630428  0.73524944 0.26711916 0.88144513 0.30750108\n",
            "  0.45035429 0.758855   0.31211372 0.60206031 0.62556662 0.42395602\n",
            "  0.2425914  0.60628464 0.36689757 0.30034637 0.1298818  0.65209888\n",
            "  0.94315947 0.77095612 0.31137921 0.40775026 0.81517669 0.848025\n",
            "  0.70190025 0.60155421 0.0971045  0.94186072]\n",
            " [0.56706292 0.33758114 0.2985791  0.49624576 0.49884931 0.49778496\n",
            "  0.41355308 0.28914155 0.35037785 0.27538646 0.16746633 0.32812658\n",
            "  0.50857426 0.43014608 0.40327308 0.48467277 0.31632602 0.29667842\n",
            "  0.7474712  0.38739266 0.44436891 0.49835166 0.6076414  0.20239677\n",
            "  0.62284682 0.14187426 0.31127864 0.67319768 0.63221304 0.55569745\n",
            "  0.42722592 0.62323514 0.55562768 0.34046205 0.42381429 0.43743177\n",
            "  0.35622674 0.68966379 0.55966963 0.79604666 0.51020083 0.53095019\n",
            "  0.252607   0.32385508 0.08795166 0.26632256 0.33694779 0.5868219\n",
            "  0.16570535 0.4332142  0.32280981 0.41422165 0.57399433 0.\n",
            "  0.2546531  0.39275796 0.61010711 0.36127495 0.7227329  0.21838553\n",
            "  0.62013574 0.44652318 0.72649056 0.13128921 0.2938075  0.33513919\n",
            "  0.68915539 0.29366782 0.24931993 0.25061757 0.61624749 0.37231256\n",
            "  0.32359817 0.33452119 0.16369828 0.64698987 0.3076561  0.303388\n",
            "  0.27258438 0.20962323 0.87386638 0.52103163 0.37155316 0.53683389\n",
            "  0.50775742 0.57347324 0.43612875 0.81361313 0.63394225 0.57073727\n",
            "  0.37209133 0.19711316 0.71005377 0.42928358 0.31140331 0.28959724\n",
            "  0.15871142 0.17500104 0.50343316 0.37074812]\n",
            " [0.63283675 0.41784156 0.29931837 0.62855402 0.48848628 0.74922801\n",
            "  0.54261337 0.49119254 0.19644938 0.47595047 0.41129897 0.22136434\n",
            "  0.53359779 0.39496947 0.46281908 0.72311969 0.55482887 0.49483063\n",
            "  0.65306057 0.56706549 0.50641688 0.71950407 0.74509543 0.43836497\n",
            "  0.87209809 0.30256901 0.42075698 0.85730162 0.87549135 0.81030387\n",
            "  0.65149229 0.64027769 0.80161246 0.16682746 0.66282883 0.27764394\n",
            "  0.51856206 0.65063961 0.5443953  0.98705459 0.69544689 0.48444104\n",
            "  0.33662526 0.11458621 0.2221694  0.09379131 0.355264   0.46375722\n",
            "  0.20412603 0.56209899 0.2943405  0.66775165 0.74500404 0.2546531\n",
            "  0.         0.20386864 0.84314341 0.61565379 0.93585461 0.18390841\n",
            "  0.67144565 0.67116221 0.92555915 0.30459162 0.37070383 0.46069887\n",
            "  0.62435984 0.54545546 0.16321074 0.48376996 0.79656072 0.57312739\n",
            "  0.41796812 0.55009066 0.18200287 0.87289407 0.28173026 0.43836213\n",
            "  0.52636303 0.32806261 1.05673505 0.4372588  0.25680929 0.78774565\n",
            "  0.60031277 0.49572416 0.68378434 1.01859393 0.83202815 0.82100205\n",
            "  0.35475647 0.22885957 0.93701759 0.45208683 0.0701741  0.16062524\n",
            "  0.11087491 0.14349906 0.69619912 0.35348615]\n",
            " [0.53863693 0.37459948 0.50310699 0.58830105 0.35759955 0.8411584\n",
            "  0.51155828 0.53262989 0.37785575 0.51846096 0.56021153 0.41572684\n",
            "  0.42175006 0.26483801 0.39126694 0.87728259 0.63019704 0.53201278\n",
            "  0.4601896  0.57651953 0.4277407  0.88846278 0.69778144 0.59450038\n",
            "  1.00901695 0.36367114 0.39996802 0.84602208 0.94224694 0.92468242\n",
            "  0.69952401 0.50987263 0.94532332 0.34480372 0.81645276 0.44108364\n",
            "  0.70954216 0.4839921  0.40200402 0.97684929 0.69658153 0.32847159\n",
            "  0.32605254 0.28559142 0.32091601 0.1322008  0.55904813 0.26722512\n",
            "  0.40045604 0.5278463  0.49670531 0.79399563 0.72816805 0.39275796\n",
            "  0.20386864 0.         0.89271568 0.73764173 0.95363192 0.38732621\n",
            "  0.56247022 0.71821457 0.92698256 0.48273015 0.34042769 0.65824078\n",
            "  0.44546479 0.68014384 0.15413163 0.55907727 0.78513087 0.75186917\n",
            "  0.61890487 0.5973607  0.37833575 0.9104757  0.48465729 0.43323976\n",
            "  0.63718224 0.52197346 1.03511052 0.26309204 0.10977682 0.87662761\n",
            "  0.5309645  0.31882147 0.76774418 1.02312552 0.83710075 0.955923\n",
            "  0.55639817 0.42913132 0.97359475 0.35387919 0.23005504 0.35747621\n",
            "  0.29790233 0.2191605  0.70490734 0.55517023]\n",
            " [0.58080913 0.54809687 0.86797814 0.41376086 0.71039696 0.19806545\n",
            "  0.43642927 0.36108227 0.9595822  0.3757717  0.53149185 0.9317534\n",
            "  0.65011178 0.72885538 0.57509412 0.50555228 0.29383451 0.36092177\n",
            "  0.98897542 0.33036466 0.57078058 0.59932724 0.40401081 0.54282519\n",
            "  0.44437344 0.54495864 0.50803905 0.25829413 0.08827019 0.3018225\n",
            "  0.19414272 0.70422158 0.46097194 0.95056887 0.49554778 1.04488171\n",
            "  0.7226459  0.84860075 0.74071351 0.29517279 0.25434619 0.78230023\n",
            "  0.56898683 0.93079698 0.62097621 0.81068782 0.88378892 0.93223677\n",
            "  0.76358948 0.43200172 0.90087173 0.36062398 0.29292693 0.61010711\n",
            "  0.84314341 0.89271568 0.         0.35725394 0.1627068  0.82165347\n",
            "  0.62932832 0.17494804 0.22136733 0.66457577 0.56462951 0.77440589\n",
            "  0.89682999 0.42874934 0.74712268 0.36132815 0.26083193 0.63908122\n",
            "  0.80789621 0.29726298 0.76800821 0.05809826 0.88801339 0.46842002\n",
            "  0.3705396  0.73454254 0.37852731 0.83573485 0.80714628 0.17787248\n",
            "  0.51054054 0.85339607 0.2014178  0.26015378 0.1904464  0.41532985\n",
            "  0.93279036 0.78559995 0.10607375 0.63920841 0.90922971 0.89885133\n",
            "  0.76591028 0.71147068 0.23113236 0.93171541]\n",
            " [0.6759704  0.51499677 0.5468434  0.52758884 0.71172009 0.17420987\n",
            "  0.48580943 0.30414722 0.67518567 0.30712588 0.21742687 0.63515332\n",
            "  0.68269565 0.68226521 0.57407261 0.20090711 0.18594569 0.31395802\n",
            "  0.99814451 0.37926377 0.59641637 0.276383   0.59392169 0.21063183\n",
            "  0.27572781 0.38408971 0.46831066 0.54712582 0.33502685 0.19514627\n",
            "  0.27047523 0.77929294 0.2252781  0.67526003 0.1618699  0.75107656\n",
            "  0.36611678 0.89471025 0.76349536 0.63188458 0.42904141 0.7695966\n",
            "  0.47647763 0.67283882 0.41765315 0.62077283 0.55125565 0.87710897\n",
            "  0.47316621 0.49651334 0.58242068 0.05761929 0.50337541 0.36127495\n",
            "  0.61565379 0.73764173 0.35725394 0.         0.51357594 0.53191369\n",
            "  0.73499032 0.27821388 0.55380585 0.35629424 0.49911543 0.42286249\n",
            "  0.91928021 0.08234953 0.58437768 0.22079864 0.51267597 0.28259476\n",
            "  0.46239801 0.27217844 0.48485497 0.4121495  0.57190147 0.43075059\n",
            "  0.10442327 0.40858106 0.71776616 0.7915777  0.68827636 0.21155937\n",
            "  0.59742738 0.83100953 0.15924122 0.6132179  0.4825648  0.22210061\n",
            "  0.60314481 0.48439736 0.46184677 0.62973196 0.66908752 0.61760743\n",
            "  0.51371227 0.5209007  0.40631036 0.60225211]\n",
            " [0.55181894 0.58562323 0.99872709 0.40231655 0.71468437 0.36054254\n",
            "  0.45464815 0.44499016 1.07221807 0.46019603 0.6692346  1.05031313\n",
            "  0.64513062 0.75341543 0.59457368 0.66823858 0.4163886  0.44103294\n",
            "  0.97260038 0.377776   0.57822749 0.76187849 0.34707855 0.68577974\n",
            "  0.60060302 0.63332926 0.55432112 0.15851098 0.23042302 0.46150791\n",
            "  0.29677646 0.67328844 0.62215283 1.05950274 0.6570843  1.16001981\n",
            "  0.87563404 0.82186311 0.73241994 0.1374176  0.259321   0.78753227\n",
            "  0.62873849 1.03293087 0.71714623 0.88986349 1.01976975 0.94790068\n",
            "  0.88397365 0.44344543 1.02981984 0.5215538  0.25306393 0.7227329\n",
            "  0.93585461 0.95363192 0.1627068  0.51357594 0.         0.94000991\n",
            "  0.58945643 0.27817846 0.07738739 0.79501264 0.61385702 0.92239824\n",
            "  0.87866911 0.57995854 0.81907229 0.47346405 0.1983819  0.79616652\n",
            "  0.95172314 0.38974368 0.88541872 0.10462792 1.01611225 0.52050799\n",
            "  0.51148297 0.87000484 0.21739019 0.8517569  0.85740984 0.34006405\n",
            "  0.49560589 0.85849236 0.35461573 0.09969925 0.12398523 0.57507128\n",
            "  1.06667184 0.90960565 0.08902335 0.65519517 1.00464659 1.01160347\n",
            "  0.87150832 0.79653727 0.24877882 1.06551851]\n",
            " [0.74334667 0.51305834 0.11954243 0.6995322  0.63089469 0.69010252\n",
            "  0.61387028 0.50684987 0.14329503 0.49278007 0.31449144 0.11041231\n",
            "  0.661794   0.54375488 0.57134995 0.59505704 0.52872208 0.51397293\n",
            "  0.8271211  0.60254656 0.61536595 0.57363725 0.8142269  0.32704541\n",
            "  0.75885726 0.33971389 0.49947153 0.89073779 0.83570664 0.72405664\n",
            "  0.64366099 0.77481377 0.68299427 0.14584524 0.53791576 0.22373864\n",
            "  0.34919641 0.80798917 0.69048984 1.01430601 0.72728887 0.64084301\n",
            "  0.42377019 0.16171203 0.25404408 0.26541516 0.17467578 0.64178964\n",
            "  0.05925737 0.63395523 0.12524578 0.57548572 0.78908544 0.21838553\n",
            "  0.18390841 0.38732621 0.82165347 0.53191369 0.94000991 0.\n",
            "  0.79023814 0.66271162 0.94487034 0.17727773 0.46469983 0.28300899\n",
            "  0.78985927 0.45205706 0.30993047 0.46669575 0.83313265 0.41928532\n",
            "  0.23605087 0.55277425 0.05470928 0.86140922 0.11013664 0.5022821\n",
            "  0.46408019 0.1620118  1.09166558 0.60471691 0.42631591 0.7297215\n",
            "  0.69527007 0.66280723 0.63722149 1.03167273 0.85231421 0.71165532\n",
            "  0.18533241 0.05587014 0.92371588 0.57833804 0.18812436 0.08697001\n",
            "  0.1108485  0.2493112  0.72133084 0.18394954]\n",
            " [0.05920328 0.28286678 0.89993641 0.22225454 0.20777925 0.71401029\n",
            "  0.24951663 0.43444841 0.86488625 0.43515321 0.71044302 0.87619984\n",
            "  0.14136212 0.29764016 0.21960433 0.93490303 0.54955079 0.42387484\n",
            "  0.39022017 0.35949167 0.17648846 0.99841511 0.24273573 0.74945294\n",
            "  0.97790006 0.47894984 0.31149556 0.43450559 0.71316433 0.84035693\n",
            "  0.50715893 0.08788219 0.95089604 0.83736668 0.88773956 0.94895853\n",
            "  0.95419306 0.23474753 0.1835535  0.53984441 0.37641895 0.26154955\n",
            "  0.37078894 0.78567315 0.54706694 0.58373951 0.94699436 0.42154465\n",
            "  0.7596     0.23860608 0.9143886  0.78423739 0.34293256 0.62013574\n",
            "  0.67144565 0.56247022 0.62932832 0.73499032 0.58945643 0.79023814\n",
            "  0.         0.5138534  0.52744988 0.74995052 0.32891677 0.95041548\n",
            "  0.2972443  0.73713968 0.5083519  0.52385446 0.39206411 0.93221228\n",
            "  0.94359875 0.46413253 0.74606758 0.6092792  0.89889187 0.33148009\n",
            "  0.64689549 0.82975576 0.56492938 0.34150188 0.45398501 0.72949011\n",
            "  0.13766964 0.31914048 0.64420042 0.61277811 0.47049094 0.92953736\n",
            "  0.97214272 0.7962984  0.65401982 0.21952801 0.73465742 0.81750493\n",
            "  0.68154408 0.54616673 0.40143705 0.97074403]\n",
            " [0.45871332 0.38264379 0.72086843 0.29181464 0.55835541 0.20135947\n",
            "  0.28759478 0.18614196 0.79681946 0.20082672 0.39537855 0.77310688\n",
            "  0.50591755 0.56567015 0.41808969 0.46914889 0.13926985 0.18620888\n",
            "  0.84455054 0.17107905 0.42137359 0.55267448 0.32880058 0.4159525\n",
            "  0.47196739 0.37101958 0.33986424 0.27181187 0.23014817 0.3293875\n",
            "  0.01967732 0.5775229  0.45850141 0.78558221 0.4388624  0.88388279\n",
            "  0.61704438 0.71412342 0.59590948 0.37150307 0.15771678 0.62812065\n",
            "  0.39581069 0.76239343 0.44935116 0.63611259 0.743211   0.77058884\n",
            "  0.60621777 0.28861075 0.75173336 0.30900146 0.22873961 0.44652318\n",
            "  0.67116221 0.71821457 0.17494804 0.27821388 0.27817846 0.66271162\n",
            "  0.5138534  0.         0.29526489 0.51739617 0.3943187  0.65532649\n",
            "  0.7551541  0.32560551 0.57217517 0.19609521 0.23447227 0.5495403\n",
            "  0.68008519 0.1224878  0.60825332 0.20208158 0.73797518 0.29896735\n",
            "  0.24412575 0.59366574 0.45593716 0.67501943 0.63454264 0.21581333\n",
            "  0.38153933 0.69807023 0.13924818 0.37319927 0.21189832 0.42771169\n",
            "  0.78937374 0.63147903 0.26605277 0.48222499 0.73822172 0.73606247\n",
            "  0.59872836 0.53747423 0.13257097 0.78820174]\n",
            " [0.49411147 0.55389534 1.01162247 0.35588189 0.66660157 0.41345929\n",
            "  0.41861127 0.44038179 1.07243812 0.45517662 0.69054632 1.0544613\n",
            "  0.59455092 0.71293844 0.55479034 0.72068252 0.43393121 0.43469173\n",
            "  0.91470604 0.35915463 0.53383285 0.8126478  0.28509933 0.71097685\n",
            "  0.66544128 0.62507411 0.52741139 0.09330177 0.29880887 0.52314159\n",
            "  0.3116161  0.61310869 0.68147737 1.05753164 0.70442583 1.16127343\n",
            "  0.908735   0.7616244  0.67938043 0.07808223 0.23213826 0.73889754\n",
            "  0.60623874 1.02711743 0.7115092  0.8728619  1.03647702 0.90176749\n",
            "  0.89065846 0.40492355 1.04120334 0.56848327 0.20497754 0.72649056\n",
            "  0.92555915 0.92698256 0.22136733 0.55380585 0.07738739 0.94487034\n",
            "  0.52744988 0.29526489 0.         0.80943657 0.58675997 0.95003803\n",
            "  0.82080536 0.61385107 0.79926027 0.48275614 0.1466865  0.83480047\n",
            "  0.9753458  0.39238208 0.89017067 0.16562432 1.02698036 0.49734933\n",
            "  0.53799454 0.88739741 0.16396177 0.80663622 0.82680827 0.39803088\n",
            "  0.44440588 0.80907507 0.39518707 0.0962615  0.09366085 0.63657386\n",
            "  1.08147818 0.91846047 0.16550709 0.61272765 0.99523521 1.01233219\n",
            "  0.86917991 0.78373079 0.22936014 1.08027174]\n",
            " [0.69602116 0.46799617 0.20393061 0.61473166 0.62912925 0.51919812\n",
            "  0.53516709 0.38906638 0.31988179 0.37742236 0.13988721 0.27891544\n",
            "  0.6398579  0.55744091 0.53410707 0.42430766 0.37862438 0.39834342\n",
            "  0.87060849 0.4929508  0.57473927 0.41498612 0.72209908 0.14977359\n",
            "  0.58368772 0.27100729 0.43951999 0.7666034  0.6700433  0.54715883\n",
            "  0.499518   0.75449393 0.50900773 0.32274447 0.36544956 0.39486546\n",
            "  0.23282292 0.8191796  0.69005859 0.88287282 0.60767849 0.65850579\n",
            "  0.38382346 0.32965321 0.21536133 0.35057518 0.22774446 0.70231436\n",
            "  0.12045516 0.5542845  0.23629897 0.39845267 0.67656377 0.13128921\n",
            "  0.30459162 0.48273015 0.66457577 0.35629424 0.79501264 0.17727773\n",
            "  0.74995052 0.51739617 0.80943657 0.         0.42488348 0.20408218\n",
            "  0.81611195 0.27551028 0.35672842 0.32738198 0.71310637 0.27016021\n",
            "  0.19414783 0.42097058 0.13651405 0.70887842 0.22352906 0.42771056\n",
            "  0.29714909 0.08332816 0.9642239  0.64322551 0.48274229 0.55870215\n",
            "  0.63415315 0.69746756 0.47205274 0.89057143 0.7197976  0.53556945\n",
            "  0.27211857 0.12810678 0.76914244 0.56046846 0.33962099 0.26409192\n",
            "  0.19383473 0.28042173 0.59686065 0.27092769]\n",
            " [0.2792211  0.04865838 0.57175882 0.26002326 0.21990648 0.55131723\n",
            "  0.17639099 0.22004271 0.55323871 0.20935752 0.40780771 0.55698067\n",
            "  0.21594257 0.18434385 0.10986915 0.68274593 0.3407613  0.21535389\n",
            "  0.49994108 0.23872689 0.15244605 0.72739199 0.37574812 0.44846409\n",
            "  0.77148325 0.15645157 0.05958121 0.50741248 0.62413077 0.65775134\n",
            "  0.37727743 0.32998664 0.72419666 0.52907386 0.62708733 0.64101291\n",
            "  0.64035048 0.41122236 0.27776851 0.63856896 0.35617338 0.2713172\n",
            "  0.04187691 0.48383993 0.21815202 0.29832491 0.61818503 0.38605475\n",
            "  0.43125164 0.19477574 0.58756207 0.55585188 0.39022558 0.2938075\n",
            "  0.37070383 0.34042769 0.56462951 0.49911543 0.61385702 0.46469983\n",
            "  0.32891677 0.3943187  0.58675997 0.42488348 0.         0.62791243\n",
            "  0.42517233 0.47231401 0.22018983 0.2817157  0.4462319  0.63403248\n",
            "  0.61712047 0.2821785  0.41849704 0.57628386 0.5719967  0.09628697\n",
            "  0.39610683 0.50278284 0.70062375 0.29525124 0.24458253 0.58131189\n",
            "  0.23283101 0.33197195 0.4741069  0.68282939 0.49667455 0.71840662\n",
            "  0.64441746 0.46782378 0.63824961 0.14140202 0.43965707 0.50082098\n",
            "  0.35874116 0.23124263 0.36509743 0.64302073]\n",
            " [0.89532561 0.66992329 0.20362082 0.80180978 0.8331215  0.59683939\n",
            "  0.72670034 0.56397464 0.38593673 0.55479575 0.26565405 0.32924105\n",
            "  0.84338833 0.76005253 0.73656007 0.38850963 0.51912092 0.57432278\n",
            "  1.06950402 0.66884263 0.77637708 0.3342319  0.90311331 0.23962395\n",
            "  0.56394253 0.47259835 0.63899467 0.92131761 0.75788741 0.57979827\n",
            "  0.64017064 0.95783905 0.48494577 0.40537718 0.34595311 0.42598124\n",
            "  0.08281826 1.02280716 0.89407352 1.02676792 0.7713437  0.86110702\n",
            "  0.58719559 0.43914919 0.41912856 0.52821674 0.17144693 0.89546317\n",
            "  0.25790636 0.74499422 0.2357737  0.44146368 0.84430084 0.33513919\n",
            "  0.46069887 0.65824078 0.77440589 0.42286249 0.92239824 0.28300899\n",
            "  0.95041548 0.65532649 0.95003803 0.20408218 0.62791243 0.\n",
            "  1.01810646 0.34601463 0.54936538 0.48704793 0.87325381 0.18299795\n",
            "  0.05896834 0.58146869 0.28010467 0.82609398 0.23497197 0.62336547\n",
            "  0.41217536 0.1381174  1.11123196 0.84212989 0.67498821 0.63322513\n",
            "  0.83033231 0.89751809 0.5730006  1.02144896 0.86646969 0.52767902\n",
            "  0.2212428  0.23222386 0.88031915 0.7644227  0.47102204 0.35273866\n",
            "  0.36059743 0.47482225 0.75631078 0.220982  ]\n",
            " [0.3270226  0.40430014 0.90921942 0.48477126 0.20756503 0.9433407\n",
            "  0.46756525 0.62138591 0.81584371 0.61532959 0.82738515 0.84571773\n",
            "  0.24923917 0.25901041 0.34743867 1.10729076 0.74721419 0.6131998\n",
            "  0.09395619 0.58492938 0.33474039 1.15222401 0.5360147  0.86803793\n",
            "  1.18607544 0.57148323 0.45101216 0.72750588 0.97472878 1.06155253\n",
            "  0.74349425 0.20946677 1.14436921 0.78358145 1.05213359 0.88508505\n",
            "  1.04538158 0.06987428 0.15971511 0.83676881 0.64393758 0.15843511\n",
            "  0.45657271 0.72489205 0.60174423 0.53137062 0.96341817 0.19704814\n",
            "  0.78040925 0.46784614 0.91210195 0.97476815 0.62666825 0.68915539\n",
            "  0.62435984 0.44546479 0.89682999 0.91928021 0.87866911 0.78985927\n",
            "  0.2972443  0.7551541  0.82080536 0.81611195 0.42517233 1.01810646\n",
            "  0.         0.8972242  0.48034529 0.69866394 0.68031221 1.0521197\n",
            "  0.99431026 0.67181702 0.76116342 0.88577825 0.89800551 0.48955271\n",
            "  0.81830299 0.88246428 0.86136575 0.18712379 0.36756552 0.9664857\n",
            "  0.38776116 0.1287269  0.86755002 0.90848485 0.75649873 1.13402057\n",
            "  0.97316133 0.81581557 0.93624771 0.28954857 0.66875267 0.78496144\n",
            "  0.68145717 0.54836245 0.66593615 0.9718188 ]\n",
            " [0.67797905 0.49530676 0.46449601 0.54191837 0.69055137 0.25453463\n",
            "  0.48853874 0.3031434  0.59514821 0.30200421 0.13858382 0.5540057\n",
            "  0.66992897 0.65095244 0.55856295 0.21076331 0.20590184 0.31392342\n",
            "  0.9715706  0.393566   0.5860425  0.26156035 0.62099602 0.12841388\n",
            "  0.3296151  0.34036523 0.45047239 0.59739134 0.41387381 0.27211667\n",
            "  0.31390728 0.77292509 0.26572989 0.59634529 0.15504512 0.66984596\n",
            "  0.29573368 0.87858551 0.74555912 0.69167379 0.46471286 0.74328927\n",
            "  0.44426439 0.59646383 0.35943428 0.55833071 0.46934221 0.83854302\n",
            "  0.39372242 0.50192173 0.50009176 0.12420281 0.54000635 0.29366782\n",
            "  0.54545546 0.68014384 0.42874934 0.08234953 0.57995854 0.45205706\n",
            "  0.73713968 0.32560551 0.61385107 0.27551028 0.47231401 0.34601463\n",
            "  0.8972242  0.         0.52914098 0.21333939 0.5570298  0.22412506\n",
            "  0.38272029 0.28814846 0.40640374 0.48141397 0.48963152 0.41688676\n",
            "  0.09267933 0.3262316  0.77726658 0.75745811 0.63998646 0.29271861\n",
            "  0.60130279 0.80082556 0.22739119 0.67954155 0.53641102 0.2771712\n",
            "  0.52107211 0.40346061 0.53450893 0.60935079 0.59574314 0.53827215\n",
            "  0.44046504 0.46126232 0.44454961 0.52016666]\n",
            " [0.4707635  0.264159   0.42904442 0.48004775 0.32763849 0.68768678\n",
            "  0.3964444  0.38604776 0.35842972 0.37136688 0.41487825 0.37649977\n",
            "  0.37043126 0.23628409 0.30265509 0.73010482 0.47774754 0.38663003\n",
            "  0.52252217 0.44182915 0.34556371 0.7476187  0.59523335 0.45134563\n",
            "  0.85695313 0.21028747 0.27615064 0.7238767  0.79275196 0.77061837\n",
            "  0.55306632 0.47800162 0.79481822 0.32975019 0.66951866 0.44085401\n",
            "  0.58927505 0.49854672 0.3852102  0.85498217 0.56712744 0.33128484\n",
            "  0.19363294 0.27732385 0.17015274 0.07886414 0.48307865 0.34641896\n",
            "  0.30152638 0.41496146 0.43347125 0.64102165 0.60791214 0.24931993\n",
            "  0.16321074 0.15413163 0.74712268 0.58437768 0.81907229 0.30993047\n",
            "  0.5083519  0.57217517 0.79926027 0.35672842 0.22018983 0.54936538\n",
            "  0.48034529 0.52914098 0.         0.40618685 0.66258782 0.61889115\n",
            "  0.51926732 0.45009207 0.28156983 0.76854702 0.41899187 0.30212638\n",
            "  0.48333458 0.411367   0.91948089 0.2967989  0.12613965 0.72351033\n",
            "  0.44241707 0.35426044 0.61485706 0.89452517 0.70713056 0.80367225\n",
            "  0.4943694  0.33620818 0.83232033 0.28891433 0.22719235 0.31590523\n",
            "  0.20113643 0.07645873 0.57218508 0.49300709]\n",
            " [0.46467861 0.29451914 0.5288772  0.33246935 0.49114282 0.2825795\n",
            "  0.27525148 0.08999303 0.60099473 0.08893569 0.22148702 0.5770705\n",
            "  0.46255602 0.46600852 0.35333662 0.41484906 0.07214992 0.10088535\n",
            "  0.77846097 0.18742145 0.3768516  0.47458387 0.4216776  0.25213032\n",
            "  0.49002087 0.19598139 0.247653   0.4400761  0.39245477 0.37828451\n",
            "  0.17697049 0.56189428 0.44570961 0.59043146 0.36479849 0.68783946\n",
            "  0.4644693  0.67410909 0.5427035  0.55558632 0.28481418 0.5502569\n",
            "  0.26405569 0.56947509 0.26222019 0.46037413 0.55502704 0.66543504\n",
            "  0.41051553 0.28898983 0.55856104 0.27613764 0.35726703 0.25061757\n",
            "  0.48376996 0.55907727 0.36132815 0.22079864 0.47346405 0.46669575\n",
            "  0.52385446 0.19609521 0.48275614 0.32738198 0.2817157  0.48704793\n",
            "  0.69866394 0.21333939 0.40618685 0.         0.38845469 0.42005195\n",
            "  0.50290522 0.0950173  0.41219345 0.39646833 0.54444647 0.21000185\n",
            "  0.12375659 0.4071518  0.63687016 0.57660871 0.49209148 0.31756211\n",
            "  0.3879988  0.61325888 0.20869897 0.56639885 0.39248291 0.43714228\n",
            "  0.59904815 0.43667781 0.45973285 0.40913995 0.54870447 0.5402148\n",
            "  0.40472307 0.35855145 0.27142633 0.59782654]\n",
            " [0.3534373  0.41076679 0.91029201 0.20920791 0.52046647 0.41060841\n",
            "  0.27428168 0.32738668 0.95386856 0.34088039 0.60800622 0.94083568\n",
            "  0.44914736 0.56643337 0.40856446 0.7009227  0.35679378 0.31957547\n",
            "  0.77425162 0.23206866 0.3871477  0.78639374 0.1514975  0.63463423\n",
            "  0.68201791 0.50162074 0.3875949  0.0612922  0.34910022 0.53561666\n",
            "  0.24366927 0.4751266  0.68103509 0.93651633 0.6729661  1.04337544\n",
            "  0.84264782 0.62363158 0.53523793 0.1924672  0.10610297 0.59295722\n",
            "  0.46895708 0.90206275 0.58966156 0.73805259 0.94057325 0.755351\n",
            "  0.78195025 0.25960246 0.93741018 0.54134068 0.05838574 0.61624749\n",
            "  0.79656072 0.78513087 0.26083193 0.51267597 0.1983819  0.83313265\n",
            "  0.39206411 0.23447227 0.1466865  0.71310637 0.4462319  0.87325381\n",
            "  0.68031221 0.5570298  0.66258782 0.38845469 0.         0.78105714\n",
            "  0.89126471 0.29346715 0.77888276 0.22636847 0.92259301 0.36098466\n",
            "  0.47050556 0.79441761 0.26070706 0.66005896 0.68316383 0.40908558\n",
            "  0.29904686 0.66341738 0.36639684 0.24196138 0.07916748 0.64386558\n",
            "  0.98227283 0.81240448 0.26357327 0.46608034 0.86667716 0.89480485\n",
            "  0.74928093 0.65336726 0.11710818 0.98099884]\n",
            " [0.87391591 0.66752927 0.37203113 0.75232933 0.85244512 0.44808318\n",
            "  0.68965309 0.50836633 0.54506665 0.50363447 0.22623451 0.49150807\n",
            "  0.84626968 0.79481389 0.73441103 0.2059511  0.42737927 0.51936879\n",
            "  1.11595056 0.60694868 0.76839994 0.15678842 0.83917742 0.18563741\n",
            "  0.38133615 0.48116119 0.62788504 0.8213513  0.60845881 0.40926938\n",
            "  0.53803128 0.95627877 0.30249226 0.5586513  0.16841291 0.59745199\n",
            "  0.10309831 1.04460501 0.91148785 0.9128413  0.68740286 0.89391876\n",
            "  0.59802858 0.58095508 0.45917904 0.61997052 0.35029844 0.95911572\n",
            "  0.37505229 0.70531132 0.40727654 0.28404648 0.76264927 0.37231256\n",
            "  0.57312739 0.75186917 0.63908122 0.28259476 0.79616652 0.41928532\n",
            "  0.93221228 0.5495403  0.83480047 0.27016021 0.63403248 0.18299795\n",
            "  1.0521197  0.22412506 0.61889115 0.42005195 0.78105714 0.\n",
            "  0.23935773 0.50544499 0.39564911 0.69454251 0.40308116 0.6017035\n",
            "  0.31232628 0.25753039 0.99865599 0.89118092 0.74312416 0.48074581\n",
            "  0.80083593 0.94177632 0.44167553 0.89581261 0.75966539 0.34690332\n",
            "  0.4019686  0.36344481 0.74267161 0.77543446 0.60110529 0.50133121\n",
            "  0.46304711 0.54273309 0.6679226  0.40157474]\n",
            " [0.89000353 0.6611757  0.14645071 0.80649169 0.81536671 0.63651878\n",
            "  0.72828479 0.57432917 0.32968427 0.56394605 0.28506225 0.27256249\n",
            "  0.83077054 0.73815419 0.72677033 0.4435535  0.54180692 0.58424579\n",
            "  1.04159682 0.67926887 0.76796447 0.39243099 0.91152888 0.26600415\n",
            "  0.61875387 0.46473606 0.63358215 0.94157671 0.79655877 0.62769819\n",
            "  0.66395819 0.94564301 0.53967157 0.35054085 0.39840861 0.36724729\n",
            "  0.14142668 1.00278334 0.87637085 1.05119267 0.78758209 0.83882993\n",
            "  0.5756512  0.38732258 0.40251793 0.49116494 0.11253811 0.86335092\n",
            "  0.22006114 0.74718619 0.17747538 0.48589719 0.85906206 0.32359817\n",
            "  0.41796812 0.61890487 0.80789621 0.46239801 0.95172314 0.23605087\n",
            "  0.94359875 0.68008519 0.9753458  0.19414783 0.61712047 0.05896834\n",
            "  0.99431026 0.38272029 0.51926732 0.50290522 0.89126471 0.23935773\n",
            "  0.         0.59792014 0.24167155 0.85789509 0.17751886 0.62164275\n",
            "  0.44027311 0.11450021 1.13477686 0.81492885 0.6434732  0.67388615\n",
            "  0.8282447  0.87136545 0.60715329 1.05004738 0.88944657 0.58089132\n",
            "  0.16294801 0.18977789 0.91396961 0.7500589  0.42243321 0.29983217\n",
            "  0.32384226 0.44688104 0.77417018 0.16262463]\n",
            " [0.40542793 0.2788502  0.62091172 0.25611567 0.46762969 0.27349871\n",
            "  0.21669509 0.06485711 0.6827852  0.07892426 0.31581574 0.66264774\n",
            "  0.42590131 0.46123346 0.32545807 0.47301853 0.08629398 0.06720272\n",
            "  0.75724715 0.10727951 0.33868661 0.54312741 0.33383047 0.34486472\n",
            "  0.5189065  0.24887207 0.23287236 0.34568436 0.34580803 0.3898099\n",
            "  0.10312732 0.51372269 0.48720126 0.66976203 0.42967768 0.77095097\n",
            "  0.55617697 0.63874348 0.51245326 0.46351499 0.1899515  0.5335153\n",
            "  0.27837127 0.6438925  0.32902473 0.5136263  0.6487126  0.66590084\n",
            "  0.49827978 0.22561337 0.64965616 0.32012855 0.2630428  0.33452119\n",
            "  0.55009066 0.5973607  0.29726298 0.27217844 0.38974368 0.55277425\n",
            "  0.46413253 0.1224878  0.39238208 0.42097058 0.2821785  0.58146869\n",
            "  0.67181702 0.28814846 0.45009207 0.0950173  0.29346715 0.50544499\n",
            "  0.59792014 0.         0.49806516 0.32297163 0.63525031 0.19108373\n",
            "  0.19558318 0.50150722 0.54367352 0.57225156 0.51691382 0.30078215\n",
            "  0.32647338 0.60114952 0.19662542 0.47917168 0.30059773 0.46865149\n",
            "  0.69185438 0.52627003 0.38713427 0.38743528 0.61777515 0.62227692\n",
            "  0.48179577 0.41519134 0.17649889 0.69061174]\n",
            " [0.69770003 0.4664255  0.15431396 0.64814578 0.59405676 0.63979155\n",
            "  0.56292061 0.4523569  0.1933244  0.43835271 0.26791911 0.16489724\n",
            "  0.62065402 0.50999801 0.52657347 0.56041659 0.47475299 0.45957224\n",
            "  0.80356724 0.54862778 0.57027035 0.54641806 0.76227472 0.28451321\n",
            "  0.7200099  0.28781494 0.45037927 0.83632585 0.78354107 0.67843049\n",
            "  0.58916374 0.73460825 0.64551509 0.19049261 0.50184354 0.27688474\n",
            "  0.33664244 0.77536337 0.65436318 0.95968316 0.67297597 0.60894671\n",
            "  0.37705527 0.19315229 0.20393934 0.2495328  0.20478445 0.62257709\n",
            "  0.02223373 0.58296683 0.16935295 0.53045874 0.73524944 0.16369828\n",
            "  0.18200287 0.37833575 0.76800821 0.48485497 0.88541872 0.05470928\n",
            "  0.74606758 0.60825332 0.89017067 0.13651405 0.41849704 0.28010467\n",
            "  0.76116342 0.40640374 0.28156983 0.41219345 0.77888276 0.39564911\n",
            "  0.24167155 0.49806516 0.         0.8072757  0.15375908 0.45125961\n",
            "  0.41308058 0.14606073 1.03719005 0.57836731 0.40354677 0.67939141\n",
            "  0.64712378 0.63576372 0.58522935 0.97698002 0.79763908 0.6715259\n",
            "  0.22607905 0.05466598 0.86972821 0.53747203 0.20581703 0.13370088\n",
            "  0.08230901 0.21393511 0.66681278 0.22468054]\n",
            " [0.56410506 0.5551659  0.91274904 0.40103425 0.70644641 0.25597188\n",
            "  0.43490578 0.38423525 0.99732834 0.39935044 0.57852422 0.97177817\n",
            "  0.64243368 0.73239228 0.57568046 0.56361099 0.3328502  0.38249442\n",
            "  0.97887156 0.3380203  0.5669236  0.6572957  0.37557561 0.59210207\n",
            "  0.50002112 0.57174992 0.51804437 0.21313857 0.1343487  0.35875998\n",
            "  0.2217445  0.6877679  0.51857476 0.98685595 0.55298975 1.08372637\n",
            "  0.77639057 0.83434369 0.73243421 0.23784592 0.24278122 0.77908438\n",
            "  0.58471467 0.96440386 0.65129693 0.83512072 0.93067817 0.93341316\n",
            "  0.80403551 0.42789481 0.94496569 0.41773521 0.26711916 0.64698987\n",
            "  0.87289407 0.9104757  0.05809826 0.4121495  0.10462792 0.86140922\n",
            "  0.6092792  0.20208158 0.16562432 0.70887842 0.57628386 0.82609398\n",
            "  0.88577825 0.48141397 0.76854702 0.39646833 0.22636847 0.69454251\n",
            "  0.85789509 0.32297163 0.8072757  0.         0.93175214 0.48022822\n",
            "  0.41842923 0.78103039 0.32067332 0.83667084 0.82059881 0.2357957\n",
            "  0.49801808 0.85045534 0.25433874 0.2026215  0.14979463 0.47236271\n",
            "  0.97888938 0.82754055 0.06416678 0.63903176 0.94019033 0.93653977\n",
            "  0.80048681 0.73781647 0.22322604 0.977782  ]\n",
            " [0.85111593 0.62004617 0.03146525 0.80017874 0.74102237 0.73971589\n",
            "  0.71547854 0.5952281  0.15306401 0.58196403 0.3608198  0.09558182\n",
            "  0.77151673 0.6535993  0.67961234 0.59820343 0.60017272 0.60328743\n",
            "  0.93261519 0.69494821 0.72345736 0.5596733  0.91344361 0.36127162\n",
            "  0.77002725 0.4399418  0.60400593 0.97853584 0.89275038 0.75595348\n",
            "  0.71962377 0.8847487  0.69166165 0.17672585 0.54616971 0.19438928\n",
            "  0.3142334  0.91744377 0.80057268 1.09876466 0.81649385 0.75021614\n",
            "  0.53066226 0.22139725 0.35750072 0.36965408 0.07885955 0.74497623\n",
            "  0.1439804  0.73547062 0.01559505 0.60791425 0.88144513 0.3076561\n",
            "  0.28173026 0.48465729 0.88801339 0.57190147 1.01611225 0.11013664\n",
            "  0.89889187 0.73797518 1.02698036 0.22352906 0.5719967  0.23497197\n",
            "  0.89800551 0.48963152 0.41899187 0.54444647 0.92259301 0.40308116\n",
            "  0.17751886 0.63525031 0.15375908 0.93175214 0.         0.60388281\n",
            "  0.52032094 0.16443277 1.17833111 0.71212285 0.53261558 0.77897696\n",
            "  0.80086547 0.77041418 0.69518134 1.11050567 0.9358112  0.72708284\n",
            "  0.07539772 0.11054294 0.99238034 0.68809653 0.26574487 0.1339353\n",
            "  0.22098343 0.35944686 0.80834942 0.07402941]\n",
            " [0.2741866  0.08822329 0.59874404 0.19738678 0.28244276 0.46382185\n",
            "  0.11166111 0.13340064 0.60761967 0.12602303 0.37897615 0.60322034\n",
            "  0.25332743 0.27017659 0.14333478 0.62345181 0.25884298 0.12651444\n",
            "  0.57144208 0.14342936 0.16933114 0.67764161 0.31303997 0.41812366\n",
            "  0.69673274 0.16407161 0.04179653 0.42221844 0.52906078 0.57575348\n",
            "  0.28237894 0.35708232 0.65534731 0.58680838 0.57125563 0.69697725\n",
            "  0.62323528 0.46415821 0.33277832 0.55316507 0.26533489 0.34492356\n",
            "  0.1089115  0.54734068 0.24832645 0.37707248 0.63984262 0.47499693\n",
            "  0.45998326 0.13171571 0.61941327 0.48559612 0.30750108 0.303388\n",
            "  0.43836213 0.43323976 0.46842002 0.43075059 0.52050799 0.5022821\n",
            "  0.33148009 0.29896735 0.49734933 0.42771056 0.09628697 0.62336547\n",
            "  0.48955271 0.41688676 0.30212638 0.21000185 0.36098466 0.6017035\n",
            "  0.62164275 0.19108373 0.45125961 0.48022822 0.60388281 0.\n",
            "  0.3321499  0.51003167 0.61961458 0.38116886 0.34037963 0.49185073\n",
            "  0.20700635 0.41118291 0.38661132 0.59288385 0.40572271 0.64452297\n",
            "  0.67244211 0.49490647 0.54242911 0.20065839 0.50850233 0.5512708\n",
            "  0.40502421 0.29489268 0.27197565 0.67107028]\n",
            " [0.58769332 0.41423055 0.49889404 0.4493608  0.61082227 0.22712159\n",
            "  0.39769017 0.21244823 0.60630688 0.21261843 0.16107125 0.57198027\n",
            "  0.58535801 0.57859667 0.47519914 0.29142743 0.11505386 0.2230413\n",
            "  0.8958045  0.30090682 0.50013647 0.35176475 0.52887589 0.17429724\n",
            "  0.38006395 0.28032824 0.36811334 0.51395701 0.37305069 0.28818325\n",
            "  0.23015949 0.68561513 0.32831834 0.60240514 0.24111233 0.68731986\n",
            "  0.37332216 0.79607789 0.66392581 0.61498307 0.37513771 0.66714363\n",
            "  0.37242392 0.59335913 0.31940074 0.52380982 0.51326035 0.77273202\n",
            "  0.40486729 0.41050119 0.53259608 0.16201514 0.45035429 0.27258438\n",
            "  0.52636303 0.63718224 0.3705396  0.10442327 0.51148297 0.46408019\n",
            "  0.64689549 0.24412575 0.53799454 0.29714909 0.39610683 0.41217536\n",
            "  0.81830299 0.09267933 0.48333458 0.12375659 0.47050556 0.31232628\n",
            "  0.44027311 0.19558318 0.41308058 0.41842923 0.52032094 0.3321499\n",
            "  0.         0.36417875 0.69981818 0.68756065 0.58471817 0.26663177\n",
            "  0.51041665 0.72767977 0.17490555 0.61002019 0.45598485 0.32645305\n",
            "  0.56249396 0.42231813 0.47623971 0.52898238 0.58391585 0.54671925\n",
            "  0.42997962 0.42260935 0.3560843  0.56143609]\n",
            " [0.7765766  0.54712313 0.13828652 0.6979792  0.70136051 0.57833043\n",
            "  0.61808578 0.47168146 0.29079677 0.46027122 0.20310826 0.24049626\n",
            "  0.71627154 0.62534572 0.61250227 0.44043152 0.45440848 0.481097\n",
            "  0.93219407 0.57585561 0.6538958  0.41275804 0.80540955 0.19834982\n",
            "  0.6094121  0.35122571 0.52044187 0.84713628 0.73375987 0.59152073\n",
            "  0.57631667 0.83114642 0.53178202 0.30201107 0.38588792 0.35301942\n",
            "  0.19071871 0.8894337  0.76237555 0.96164561 0.68932141 0.72623181\n",
            "  0.46125591 0.32371184 0.28809241 0.39113252 0.14978895 0.75736332\n",
            "  0.12398722 0.63728458 0.17410111 0.44353596 0.758855   0.20962323\n",
            "  0.32806261 0.52197346 0.73454254 0.40858106 0.87000484 0.1620118\n",
            "  0.82975576 0.59366574 0.88739741 0.08332816 0.50278284 0.1381174\n",
            "  0.88246428 0.3262316  0.411367   0.4071518  0.79441761 0.25753039\n",
            "  0.11450021 0.50150722 0.14606073 0.78103039 0.16443277 0.51003167\n",
            "  0.36417875 0.         1.04371359 0.70496805 0.53689647 0.61730788\n",
            "  0.71602081 0.76076078 0.53784699 0.96662584 0.79876214 0.56499162\n",
            "  0.19831958 0.10637761 0.83998346 0.63559363 0.34701646 0.24412826\n",
            "  0.22409107 0.33717103 0.6778268  0.197268  ]\n",
            " [0.54735533 0.66144666 1.16453284 0.44714621 0.7379838  0.57456122\n",
            "  0.52486689 0.58483335 1.21418923 0.59889978 0.84971462 1.2000595\n",
            "  0.6623728  0.79977574 0.6479242  0.88243277 0.59303276 0.57774446\n",
            "  0.95317463 0.49261016 0.61845797 0.97508958 0.34502655 0.87174627\n",
            "  0.81771849 0.76223325 0.64336393 0.20121651 0.4471398  0.67883965\n",
            "  0.47119042 0.65271604 0.83919343 1.19712213 0.86772612 1.30362919\n",
            "  1.07166558 0.79604378 0.73779793 0.08588165 0.36509618 0.80687383\n",
            "  0.72630315 1.16272563 0.85018949 0.9960015  1.19189718 0.97220543\n",
            "  1.03931414 0.50769693 1.19289308 0.73175533 0.31211372 0.87386638\n",
            "  1.05673505 1.03511052 0.37852731 0.71776616 0.21739019 1.09166558\n",
            "  0.56492938 0.45593716 0.16396177 0.9642239  0.70062375 1.11123196\n",
            "  0.86136575 0.77726658 0.91948089 0.63687016 0.26070706 0.99865599\n",
            "  1.13477686 0.54367352 1.03719005 0.32067332 1.17833111 0.61961458\n",
            "  0.69981818 1.04371359 0.         0.88127752 0.92979001 0.55639828\n",
            "  0.51831414 0.87341242 0.55907843 0.13505822 0.24535842 0.79242467\n",
            "  1.23550765 1.06872052 0.29973632 0.6983832  1.12688999 1.15491349\n",
            "  1.00968207 0.9133752  0.37043535 1.23426815]\n",
            " [0.33860832 0.29375675 0.72423945 0.45095166 0.14333425 0.84455616\n",
            "  0.40181316 0.51293573 0.6290049  0.50335993 0.67100776 0.65860775\n",
            "  0.21920255 0.11130387 0.26107793 0.96791776 0.6356944  0.50704614\n",
            "  0.22746221 0.50648825 0.27357374 1.00309392 0.53698087 0.71098321\n",
            "  1.06557356 0.41916009 0.33938758 0.71594706 0.90413614 0.95293779\n",
            "  0.65994479 0.26980349 1.01570103 0.59687324 0.91002597 0.69953849\n",
            "  0.87520469 0.22090294 0.15968047 0.83939002 0.59699771 0.08012833\n",
            "  0.31513683 0.53836306 0.43313966 0.34441665 0.77889503 0.09674348\n",
            "  0.59826152 0.41004985 0.72604326 0.84880645 0.60206031 0.52103163\n",
            "  0.4372588  0.26309204 0.83573485 0.7915777  0.8517569  0.60471691\n",
            "  0.34150188 0.67501943 0.80663622 0.64322551 0.29525124 0.84212989\n",
            "  0.18712379 0.75745811 0.2967989  0.57660871 0.66005896 0.89118092\n",
            "  0.81492885 0.57225156 0.57836731 0.83667084 0.71212285 0.38116886\n",
            "  0.68756065 0.70496805 0.88127752 0.         0.18050932 0.87301596\n",
            "  0.36503004 0.05848347 0.76727815 0.9008368  0.72799611 1.01228317\n",
            "  0.78710596 0.63299905 0.8941455  0.1977348  0.48228463 0.59787308\n",
            "  0.49757185 0.36810995 0.613978   0.78577278]\n",
            " [0.42896671 0.2729289  0.54580366 0.48264609 0.25144639 0.7738928\n",
            "  0.40888359 0.4522684  0.44978964 0.43914451 0.53391956 0.47817361\n",
            "  0.31287209 0.15697547 0.28334657 0.84549148 0.56050577 0.45000629\n",
            "  0.40088272 0.48330543 0.3186307  0.86817224 0.59022933 0.57173636\n",
            "  0.96351229 0.30440663 0.30365642 0.74360277 0.8625324  0.86729873\n",
            "  0.61661974 0.40510994 0.90512901 0.41806218 0.78543228 0.5231462\n",
            "  0.71537619 0.39567293 0.30005305 0.87385253 0.59864303 0.23198936\n",
            "  0.23883582 0.36017052 0.28756864 0.16394759 0.60093011 0.22048375\n",
            "  0.42428807 0.42417063 0.54632759 0.74572458 0.62556662 0.37155316\n",
            "  0.25680929 0.10977682 0.80714628 0.68827636 0.85740984 0.42631591\n",
            "  0.45398501 0.63454264 0.82680827 0.48274229 0.24458253 0.67498821\n",
            "  0.36756552 0.63998646 0.12613965 0.49209148 0.68316383 0.74312416\n",
            "  0.6434732  0.51691382 0.40354677 0.82059881 0.53261558 0.34037963\n",
            "  0.58471817 0.53689647 0.92979001 0.18050932 0.         0.80732985\n",
            "  0.42199355 0.23899178 0.69824346 0.92306974 0.73854823 0.90991725\n",
            "  0.60735594 0.45780556 0.88276105 0.24412198 0.30446647 0.41739711\n",
            "  0.32160979 0.20232149 0.60891825 0.60603333]\n",
            " [0.67452559 0.57959494 0.75513342 0.50729291 0.76557063 0.03961898\n",
            "  0.50025504 0.36127083 0.87241446 0.37232506 0.41899395 0.83646734\n",
            "  0.71775364 0.76193939 0.62358837 0.32993059 0.2470955  0.36636491\n",
            "  1.05423065 0.38203872 0.63175258 0.42465101 0.53246783 0.41903604\n",
            "  0.27357438 0.51322448 0.53362838 0.42218147 0.12792115 0.127505\n",
            "  0.2244431  0.79302407 0.28345024 0.86899725 0.32608151 0.95221201\n",
            "  0.57228856 0.92796564 0.80679813 0.47286581 0.36309849 0.83305656\n",
            "  0.57268292 0.85944246 0.57195415 0.77474524 0.76196352 0.96639483\n",
            "  0.67046447 0.50291107 0.79018755 0.19670106 0.42395602 0.53683389\n",
            "  0.78774565 0.87662761 0.17787248 0.21155937 0.34006405 0.7297215\n",
            "  0.72949011 0.21581333 0.39803088 0.55870215 0.58131189 0.63322513\n",
            "  0.9664857  0.29271861 0.72351033 0.31756211 0.40908558 0.48074581\n",
            "  0.67388615 0.30078215 0.67939141 0.2357957  0.77897696 0.49185073\n",
            "  0.26663177 0.61730788 0.55639828 0.87301596 0.80732985 0.\n",
            "  0.59725475 0.90139327 0.10916133 0.43564129 0.35239535 0.23951366\n",
            "  0.81349465 0.68593904 0.2705132  0.68665174 0.84786382 0.81308624\n",
            "  0.69525333 0.67245202 0.336748   0.81256742]\n",
            " [0.07910289 0.18426249 0.79839251 0.09708564 0.22295054 0.57985975\n",
            "  0.11276906 0.2981804  0.78584933 0.29983213 0.58222093 0.78959335\n",
            "  0.15016399 0.28225856 0.14142714 0.79751981 0.41189895 0.287458\n",
            "  0.48096697 0.22234097 0.10340689 0.86215816 0.17331031 0.62026367\n",
            "  0.84135412 0.36618368 0.19747048 0.35238977 0.59085403 0.70516575\n",
            "  0.37338086 0.1963445  0.81336459 0.76119224 0.75091341 0.87326639\n",
            "  0.82836418 0.33810204 0.23690996 0.47437029 0.2566136  0.29471313\n",
            "  0.27224132 0.71441529 0.44356288 0.52114206 0.84203111 0.45867318\n",
            "  0.65816271 0.10094808 0.81646051 0.64656902 0.2425914  0.50775742\n",
            "  0.60031277 0.5309645  0.51054054 0.59742738 0.49560589 0.69527007\n",
            "  0.13766964 0.38153933 0.44440588 0.63415315 0.23283101 0.83033231\n",
            "  0.38776116 0.60130279 0.44241707 0.3879988  0.29904686 0.80083593\n",
            "  0.8282447  0.32647338 0.64712378 0.49801808 0.80086547 0.20700635\n",
            "  0.51041665 0.71602081 0.51831414 0.36503004 0.42199355 0.59725475\n",
            "  0.         0.36467374 0.50862318 0.53724726 0.37199824 0.79258421\n",
            "  0.87176265 0.69410999 0.54906499 0.18154792 0.667939   0.7336485\n",
            "  0.59098721 0.46352932 0.27943253 0.87037443]\n",
            " [0.3262173  0.32296307 0.78230207 0.45618499 0.14423974 0.87458019\n",
            "  0.41699684 0.5444308  0.68717656 0.53600285 0.71975782 0.71706481\n",
            "  0.21459024 0.1499059  0.28002243 1.01158    0.66906599 0.53769148\n",
            "  0.1742009  0.52756386 0.28353291 1.04998188 0.53225944 0.760041\n",
            "  1.103258   0.46560414 0.36992496 0.71697021 0.92516434 0.98651023\n",
            "  0.68403836 0.23948905 1.05595219 0.6549638  0.95448766 0.75703607\n",
            "  0.92877029 0.16709644 0.13664563 0.83671134 0.60845199 0.07138335\n",
            "  0.35660965 0.59634698 0.48553142 0.4028986  0.83684088 0.10268097\n",
            "  0.65546596 0.42263793 0.78437632 0.88781566 0.60628464 0.57347324\n",
            "  0.49572416 0.31882147 0.85339607 0.83100953 0.85849236 0.66280723\n",
            "  0.31914048 0.69807023 0.80907507 0.69746756 0.33197195 0.89751809\n",
            "  0.1287269  0.80082556 0.35426044 0.61325888 0.66341738 0.94177632\n",
            "  0.87136545 0.60114952 0.63576372 0.85045534 0.77041418 0.41118291\n",
            "  0.72767977 0.76076078 0.87341242 0.05848347 0.23899178 0.90139327\n",
            "  0.36467374 0.         0.79749787 0.90169798 0.73451812 1.05027039\n",
            "  0.84544125 0.69042107 0.90593906 0.21584658 0.54022967 0.65634267\n",
            "  0.55527097 0.42450684 0.62723944 0.84410592]\n",
            " [0.58728391 0.47475628 0.6734687  0.42431373 0.66413418 0.07728256\n",
            "  0.40550131 0.25443024 0.77851077 0.26476268 0.33512611 0.74590122\n",
            "  0.62024674 0.65602023 0.52193146 0.33483024 0.13793623 0.26027491\n",
            "  0.95364911 0.28774481 0.53336252 0.42246718 0.4680293  0.34315256\n",
            "  0.33494593 0.40459441 0.4282275  0.39447873 0.19854588 0.19665252\n",
            "  0.13986461 0.70202623 0.31928271 0.77294245 0.31112795 0.86085435\n",
            "  0.52205185 0.83229591 0.7079442  0.47321667 0.29693794 0.7301095\n",
            "  0.4641945  0.75993021 0.46572669 0.66739281 0.68609251 0.85987011\n",
            "  0.5781823  0.41060974 0.70737107 0.17637831 0.36689757 0.43612875\n",
            "  0.68378434 0.76774418 0.2014178  0.15924122 0.35461573 0.63722149\n",
            "  0.64420042 0.13924818 0.39518707 0.47205274 0.4741069  0.5730006\n",
            "  0.86755002 0.22739119 0.61485706 0.20869897 0.36639684 0.44167553\n",
            "  0.60715329 0.19662542 0.58522935 0.25433874 0.69518134 0.38661132\n",
            "  0.17490555 0.53784699 0.55907843 0.76727815 0.69824346 0.10916133\n",
            "  0.50862318 0.79749787 0.         0.45430636 0.32767801 0.2891751\n",
            "  0.73605818 0.59679892 0.30732974 0.58406055 0.74552581 0.71840765\n",
            "  0.59482124 0.56517859 0.27159355 0.7350315 ]\n",
            " [0.58312679 0.65015573 1.09389705 0.45071479 0.76001019 0.45816609\n",
            "  0.51481199 0.53059329 1.16157655 0.54560347 0.76678946 1.14170933\n",
            "  0.68712023 0.80836975 0.6504972  0.76509708 0.51230172 0.52555659\n",
            "  1.00215278 0.45349512 0.62865608 0.85922474 0.37291238 0.78425702\n",
            "  0.68922504 0.71710715 0.62342774 0.1849446  0.31917555 0.55383822\n",
            "  0.39110955 0.69961634 0.71543506 1.14761681 0.75559214 1.24999124\n",
            "  0.97524647 0.84752298 0.77052393 0.08227195 0.32754914 0.83195999\n",
            "  0.70179535 1.11870218 0.80272899 0.96762144 1.11627637 0.99553576\n",
            "  0.97645144 0.50096537 1.12442818 0.62034528 0.30034637 0.81361313\n",
            "  1.01859393 1.02312552 0.26015378 0.6132179  0.09969925 1.03167273\n",
            "  0.61277811 0.37319927 0.0962615  0.89057143 0.68282939 1.02144896\n",
            "  0.90848485 0.67954155 0.89452517 0.56639885 0.24196138 0.89581261\n",
            "  1.05004738 0.47917168 0.97698002 0.2026215  1.11050567 0.59288385\n",
            "  0.61002019 0.96662584 0.13505822 0.9008368  0.92306974 0.43564129\n",
            "  0.53724726 0.90169798 0.45430636 0.         0.18745732 0.66690739\n",
            "  1.16257283 1.00307654 0.16936673 0.70786968 1.08803948 1.10119801\n",
            "  0.95926597 0.87738551 0.32312285 1.16140043]\n",
            " [0.43024387 0.46583082 0.9210998  0.27833621 0.59069941 0.35990449\n",
            "  0.33267918 0.34701366 0.97911457 0.36174202 0.6043876  0.96170087\n",
            "  0.5212881  0.6305093  0.47169081 0.6608713  0.3477895  0.3411721\n",
            "  0.8503498  0.26609372 0.45442868 0.74999084 0.23065739 0.62687232\n",
            "  0.62571815 0.53141386 0.43713797 0.06978841 0.27799088 0.47989958\n",
            "  0.22632216 0.55270671 0.63185393 0.96401653 0.63871749 1.06804057\n",
            "  0.82891594 0.70097956 0.60889765 0.16310937 0.14057925 0.66354765\n",
            "  0.5146153  0.93345763 0.61787794 0.78017318 0.94729498 0.82405137\n",
            "  0.79854124 0.32063491 0.95017158 0.50394361 0.1298818  0.63394225\n",
            "  0.83202815 0.83710075 0.1904464  0.4825648  0.12398523 0.85231421\n",
            "  0.47049094 0.21189832 0.09366085 0.7197976  0.49667455 0.86646969\n",
            "  0.75649873 0.53641102 0.70713056 0.39248291 0.07916748 0.75966539\n",
            "  0.88944657 0.30059773 0.79763908 0.14979463 0.9358112  0.40572271\n",
            "  0.45598485 0.79876214 0.24535842 0.72799611 0.73854823 0.35239535\n",
            "  0.37199824 0.73451812 0.32767801 0.18745732 0.         0.59112517\n",
            "  0.99152355 0.82685151 0.18440836 0.53175428 0.90166224 0.91908736\n",
            "  0.77568692 0.69037343 0.13590343 0.99029965]\n",
            " [0.87165976 0.73094003 0.69802907 0.71193784 0.92693721 0.23326754\n",
            "  0.6850286  0.51308696 0.85173043 0.51869717 0.41003996 0.80464117\n",
            "  0.89235486 0.9023444  0.78687059 0.14333757 0.38776067 0.52176241\n",
            "  1.21528086 0.57024325 0.80520077 0.22918262 0.7561416  0.38733214\n",
            "  0.05363345 0.60600371 0.68379089 0.66083145 0.34794419 0.1136131\n",
            "  0.42902449 0.9823336  0.05401956 0.8574999  0.18265118 0.91800923\n",
            "  0.44995601 1.10537567 0.97630066 0.71020825 0.58472991 0.9873183\n",
            "  0.6975053  0.86438434 0.63502378 0.83538488 0.68710048 1.09874239\n",
            "  0.65600739 0.69262001 0.73445922 0.16448283 0.65209888 0.57073727\n",
            "  0.82100205 0.955923   0.41532985 0.22210061 0.57507128 0.71165532\n",
            "  0.92953736 0.42771169 0.63657386 0.53556945 0.71840662 0.52767902\n",
            "  1.13402057 0.2771712  0.80367225 0.43714228 0.64386558 0.34690332\n",
            "  0.58089132 0.46865149 0.6715259  0.47236271 0.72708284 0.64452297\n",
            "  0.32645305 0.56499162 0.79242467 1.01228317 0.90991725 0.23951366\n",
            "  0.79258421 1.05027039 0.2891751  0.66690739 0.59112517 0.\n",
            "  0.73997845 0.65872762 0.49795122 0.84504527 0.86838926 0.79859605\n",
            "  0.7140399  0.73758196 0.5589129  0.73939597]\n",
            " [0.9236383  0.69217797 0.07371366 0.86761665 0.81618311 0.77483655\n",
            "  0.78374517 0.65570199 0.20325646 0.64301482 0.40142276 0.14912784\n",
            "  0.84586099 0.72896945 0.75265101 0.60486561 0.65039442 0.66427315\n",
            "  1.00689892 0.75734898 0.79632544 0.5553359  0.97969113 0.39484732\n",
            "  0.77953888 0.50839553 0.67447258 1.03695311 0.93144756 0.77941308\n",
            "  0.77158752 0.9593487  0.70049747 0.23249418 0.55736753 0.21483994\n",
            "  0.30405434 0.99283838 0.87582046 1.1546309  0.87635888 0.8256073\n",
            "  0.60286575 0.28417772 0.42825189 0.44402043 0.05300361 0.81848453\n",
            "  0.21362534 0.80363042 0.06106547 0.63372718 0.94315947 0.37209133\n",
            "  0.35475647 0.55639817 0.93279036 0.60314481 1.06667184 0.18533241\n",
            "  0.97214272 0.78937374 1.08147818 0.27211857 0.64441746 0.2212428\n",
            "  0.97316133 0.52107211 0.4943694  0.59904815 0.98227283 0.4019686\n",
            "  0.16294801 0.69185438 0.22607905 0.97888938 0.07539772 0.67244211\n",
            "  0.56249396 0.19831958 1.23550765 0.78710596 0.60735594 0.81349465\n",
            "  0.87176265 0.84544125 0.73605818 1.16257283 0.99152355 0.73997845\n",
            "  0.         0.17775544 1.03814028 0.76250271 0.33288858 0.20049792\n",
            "  0.29614821 0.43454222 0.86683632 0.00139902]\n",
            " [0.7469149  0.51525438 0.10428401 0.69059824 0.6476569  0.64637129\n",
            "  0.60633687 0.48501805 0.19323592 0.47164491 0.26774992 0.1508472\n",
            "  0.67270211 0.56427943 0.57669436 0.54023773 0.49491032 0.49296851\n",
            "  0.85805285 0.58442855 0.62008637 0.51778776 0.80340682 0.27665694\n",
            "  0.70530745 0.33083486 0.49676227 0.86863417 0.79525753 0.67473729\n",
            "  0.61283788 0.78696745 0.62897533 0.19969912 0.48357402 0.26680045\n",
            "  0.2950462  0.8297072  0.70810385 0.98964062 0.70630182 0.66341919\n",
            "  0.42610763 0.21751416 0.25075761 0.30208861 0.15160458 0.67642569\n",
            "  0.03686864 0.62626769 0.12573037 0.52593978 0.77095612 0.19711316\n",
            "  0.22885957 0.42913132 0.78559995 0.48439736 0.90960565 0.05587014\n",
            "  0.7962984  0.63147903 0.91846047 0.12810678 0.46782378 0.23222386\n",
            "  0.81581557 0.40346061 0.33620818 0.43667781 0.81240448 0.36344481\n",
            "  0.18977789 0.52627003 0.05466598 0.82754055 0.11054294 0.49490647\n",
            "  0.42231813 0.10637761 1.06872052 0.63299905 0.45780556 0.68593904\n",
            "  0.69410999 0.69042107 0.59679892 1.00307654 0.82685151 0.65872762\n",
            "  0.17775544 0.         0.88899486 0.58974182 0.24148132 0.14087169\n",
            "  0.13621657 0.2683346  0.69851089 0.17637323]\n",
            " [0.61176119 0.61575009 0.97280781 0.452764   0.7617182  0.29695759\n",
            "  0.49250623 0.44833865 1.06027883 0.46346625 0.63703907 1.03401944\n",
            "  0.69578687 0.79122376 0.63361423 0.60033296 0.39499571 0.44650104\n",
            "  1.02978481 0.39960075 0.62272102 0.69515581 0.41506562 0.64884039\n",
            "  0.51987391 0.63591634 0.57965927 0.23639953 0.150015   0.38522082\n",
            "  0.28572696 0.73497247 0.54705792 1.05015983 0.59500102 1.1463779\n",
            "  0.82774693 0.88267919 0.78511476 0.22432678 0.29757472 0.83456954\n",
            "  0.64765675 1.0281853  0.71536143 0.89917098 0.98937905 0.99085522\n",
            "  0.8660795  0.484302   1.00540866 0.46167727 0.31137921 0.71005377\n",
            "  0.93701759 0.97359475 0.10607375 0.46184677 0.08902335 0.92371588\n",
            "  0.65401982 0.26605277 0.16550709 0.76914244 0.63824961 0.88031915\n",
            "  0.93624771 0.53450893 0.83232033 0.45973285 0.26357327 0.74267161\n",
            "  0.91396961 0.38713427 0.86972821 0.06416678 0.99238034 0.54242911\n",
            "  0.47623971 0.83998346 0.29973632 0.8941455  0.88276105 0.2705132\n",
            "  0.54906499 0.90593906 0.30732974 0.16936673 0.18440836 0.49795122\n",
            "  1.03814028 0.88899486 0.         0.69641496 1.004249   0.99949273\n",
            "  0.86408422 0.80196854 0.28029645 1.0370541 ]\n",
            " [0.18631275 0.11478442 0.6917496  0.25723188 0.08200294 0.66083118\n",
            "  0.20412842 0.33356594 0.64623307 0.32667893 0.54920916 0.65961154\n",
            "  0.08347978 0.10147633 0.06430114 0.81874155 0.45932364 0.32595763\n",
            "  0.37088063 0.31184055 0.08006074 0.86677333 0.35404862 0.58986207\n",
            "  0.89734679 0.2965542  0.1614934  0.52364289 0.70966166 0.77556963\n",
            "  0.4682375  0.1972299  0.85483235 0.61829456 0.76439526 0.72969324\n",
            "  0.78022497 0.27036817 0.13681907 0.65013193 0.39937554 0.1464348\n",
            "  0.17896193 0.5662045  0.34756751 0.36428815 0.74133916 0.29446254\n",
            "  0.5528774  0.21247713 0.7034134  0.68526701 0.40775026 0.42928358\n",
            "  0.45208683 0.35387919 0.63920841 0.62973196 0.65519517 0.57833804\n",
            "  0.21952801 0.48222499 0.61272765 0.56046846 0.14140202 0.7644227\n",
            "  0.28954857 0.60935079 0.28891433 0.40913995 0.46608034 0.77543446\n",
            "  0.7500589  0.38743528 0.53747203 0.63903176 0.68809653 0.20065839\n",
            "  0.52898238 0.63559363 0.6983832  0.1977348  0.24412198 0.68665174\n",
            "  0.18154792 0.21584658 0.58406055 0.70786968 0.53175428 0.84504527\n",
            "  0.76250271 0.58974182 0.69641496 0.         0.51514898 0.60022015\n",
            "  0.46815145 0.33061849 0.4162479  0.76110572]\n",
            " [0.69794336 0.48637117 0.28910649 0.69816093 0.54624795 0.80896201\n",
            "  0.61237319 0.55972947 0.14803749 0.54450291 0.45876242 0.18734833\n",
            "  0.59540047 0.45146813 0.52932091 0.76351562 0.61905058 0.56365032\n",
            "  0.68957094 0.63696634 0.57253693 0.75220651 0.81461529 0.48200934\n",
            "  0.91841382 0.37136704 0.49048547 0.92738731 0.93910802 0.86422472\n",
            "  0.71854446 0.69943377 0.84582688 0.11520906 0.70408923 0.21900523\n",
            "  0.53652474 0.70005887 0.60014219 1.05705278 0.76538815 0.53600092\n",
            "  0.4062728  0.0561638  0.28889411 0.15105144 0.34375841 0.49709363\n",
            "  0.22605825 0.63179032 0.27576255 0.71934216 0.81517669 0.31140331\n",
            "  0.0701741  0.23005504 0.90922971 0.66908752 1.00464659 0.18812436\n",
            "  0.73465742 0.73822172 0.99523521 0.33962099 0.43965707 0.47102204\n",
            "  0.66875267 0.59574314 0.22719235 0.54870447 0.86667716 0.60110529\n",
            "  0.42243321 0.61777515 0.20581703 0.94019033 0.26574487 0.50850233\n",
            "  0.58391585 0.34701646 1.12688999 0.48228463 0.30446647 0.84786382\n",
            "  0.667939   0.54022967 0.74552581 1.08803948 0.90166224 0.86838926\n",
            "  0.33288858 0.24148132 1.004249   0.51514898 0.         0.13256433\n",
            "  0.15542433 0.21366649 0.76588873 0.33175571]\n",
            " [0.77465554 0.54942946 0.15933019 0.74803266 0.64353295 0.7734884\n",
            "  0.66148568 0.57210081 0.06078883 0.55747648 0.40025376 0.0609702\n",
            "  0.68319503 0.55168305 0.60228714 0.68110862 0.60507457 0.57828588\n",
            "  0.81274291 0.66283464 0.64652706 0.65688468 0.86422043 0.41385865\n",
            "  0.84567662 0.39427754 0.54262734 0.95369977 0.91652285 0.81037124\n",
            "  0.71672045 0.79303079 0.76962953 0.0589382  0.62435957 0.14895514\n",
            "  0.42505766 0.81032455 0.70093713 1.07968012 0.78981832 0.64362806\n",
            "  0.46198581 0.08822624 0.30605429 0.25383723 0.21258484 0.62215573\n",
            "  0.1445514  0.6815369  0.14332491 0.66194073 0.848025   0.28959724\n",
            "  0.16062524 0.35747621 0.89885133 0.61760743 1.01160347 0.08697001\n",
            "  0.81750493 0.73606247 1.01233219 0.26409192 0.50082098 0.35273866\n",
            "  0.78496144 0.53827215 0.31590523 0.5402148  0.89480485 0.50133121\n",
            "  0.29983217 0.62227692 0.13370088 0.93653977 0.1339353  0.5512708\n",
            "  0.54671925 0.24412826 1.15491349 0.59787308 0.41739711 0.81308624\n",
            "  0.7336485  0.65634267 0.71840765 1.10119801 0.91908736 0.79859605\n",
            "  0.20049792 0.14087169 0.99949273 0.60022015 0.13256433 0.\n",
            "  0.14651303 0.27186767 0.78589437 0.19934447]\n",
            " [0.63593047 0.40737026 0.22853019 0.60204716 0.52004855 0.65609184\n",
            "  0.51559475 0.42888086 0.20463471 0.41401722 0.3040429  0.19902273\n",
            "  0.55163105 0.43326697 0.46350116 0.61306543 0.47287605 0.43451541\n",
            "  0.72204389 0.5172154  0.50768951 0.60865564 0.71805272 0.32910393\n",
            "  0.76452605 0.24806283 0.3977142  0.80853022 0.79054452 0.70885724\n",
            "  0.57916413 0.6643058  0.69295084 0.18837822 0.5529779  0.29421919\n",
            "  0.4127     0.69792782 0.57968516 0.93535155 0.64469846 0.53095151\n",
            "  0.31874617 0.16541868 0.15980967 0.16774758 0.28205447 0.54032436\n",
            "  0.10379197 0.5356735  0.23604538 0.56395217 0.70190025 0.15871142\n",
            "  0.11087491 0.29790233 0.76591028 0.51371227 0.87150832 0.1108485\n",
            "  0.68154408 0.59872836 0.86917991 0.19383473 0.35874116 0.36059743\n",
            "  0.68145717 0.44046504 0.20113643 0.40472307 0.74928093 0.46304711\n",
            "  0.32384226 0.48179577 0.08230901 0.80048681 0.22098343 0.40502421\n",
            "  0.42997962 0.22409107 1.00968207 0.49757185 0.32160979 0.69525333\n",
            "  0.59098721 0.55527097 0.59482124 0.95926597 0.77568692 0.7140399\n",
            "  0.29614821 0.13621657 0.86408422 0.46815145 0.15542433 0.14651303\n",
            "  0.         0.13847948 0.64161158 0.29476295]\n",
            " [0.5027879  0.27944357 0.36596846 0.48633121 0.38165707 0.63534919\n",
            "  0.40006263 0.35384586 0.32239823 0.33865114 0.3419569  0.3300582\n",
            "  0.41404817 0.29610006 0.33045079 0.65856366 0.43069152 0.35647984\n",
            "  0.5951119  0.42473427 0.37467921 0.6731134  0.60300612 0.37739686\n",
            "  0.79050765 0.16651698 0.2784537  0.71421296 0.75031017 0.71079182\n",
            "  0.51792921 0.52615522 0.7262212  0.29783305 0.59778957 0.409809\n",
            "  0.51310179 0.56142869 0.4414712  0.84423652 0.55289251 0.3950974\n",
            "  0.19485505 0.25376147 0.10332309 0.10229907 0.41829774 0.42214264\n",
            "  0.23240108 0.41971372 0.37452473 0.57663249 0.60155421 0.17500104\n",
            "  0.14349906 0.2191605  0.71147068 0.5209007  0.79653727 0.2493112\n",
            "  0.54616673 0.53747423 0.78373079 0.28042173 0.23124263 0.47482225\n",
            "  0.54836245 0.46126232 0.07645873 0.35855145 0.65336726 0.54273309\n",
            "  0.44688104 0.41519134 0.21393511 0.73781647 0.35944686 0.29489268\n",
            "  0.42260935 0.33717103 0.9133752  0.36810995 0.20232149 0.67245202\n",
            "  0.46352932 0.42450684 0.56517859 0.87738551 0.69037343 0.73758196\n",
            "  0.43454222 0.2683346  0.80196854 0.33061849 0.21366649 0.27186767\n",
            "  0.13847948 0.         0.55446999 0.43315441]\n",
            " [0.35082605 0.33808073 0.7952484  0.18282631 0.48327748 0.32885105\n",
            "  0.21222723 0.21449215 0.84560901 0.22873432 0.49096015 0.8299969\n",
            "  0.42028621 0.51106566 0.35331962 0.6006651  0.24147086 0.20771727\n",
            "  0.75836132 0.13048162 0.34370661 0.68234641 0.19736868 0.51797226\n",
            "  0.6017576  0.39612224 0.30558386 0.17021414 0.31230602 0.45724178\n",
            "  0.13634843 0.47380405 0.59085955 0.82975477 0.56801814 0.93480625\n",
            "  0.72685342 0.61752463 0.51066835 0.29379986 0.0263505  0.55587341\n",
            "  0.38054665 0.79820876 0.4830803  0.64463637 0.82450433 0.71071033\n",
            "  0.66889338 0.20467513 0.8230184  0.44053149 0.0971045  0.50343316\n",
            "  0.69619912 0.70490734 0.23113236 0.40631036 0.24877882 0.72133084\n",
            "  0.40143705 0.13257097 0.22936014 0.59686065 0.36509743 0.75631078\n",
            "  0.66593615 0.44454961 0.57218508 0.27142633 0.11710818 0.6679226\n",
            "  0.77417018 0.17649889 0.66681278 0.22322604 0.80834942 0.27197565\n",
            "  0.3560843  0.6778268  0.37043535 0.613978   0.60891825 0.336748\n",
            "  0.27943253 0.62723944 0.27159355 0.32312285 0.13590343 0.5589129\n",
            "  0.86683632 0.69851089 0.28029645 0.4162479  0.76588873 0.78589437\n",
            "  0.64161158 0.55446999 0.         0.865575  ]\n",
            " [0.92224161 0.6907825  0.07234798 0.86625642 0.81479636 0.77389796\n",
            "  0.78237681 0.65441196 0.20239145 0.64171784 0.40036541 0.14814624\n",
            "  0.84446359 0.72759367 0.75125262 0.60437584 0.64923219 0.66297751\n",
            "  1.00559651 0.75603952 0.7949275  0.55503486 0.97834329 0.39388787\n",
            "  0.77901767 0.50702238 0.67308636 1.03569545 0.93046216 0.77865819\n",
            "  0.77040736 0.95795294 0.69998096 0.23155161 0.55679301 0.21451069\n",
            "  0.30378679 0.99147212 0.87443669 1.15340748 0.87508099 0.82424222\n",
            "  0.60146975 0.28312442 0.42686184 0.44271084 0.05235146 0.81720834\n",
            "  0.21223497 0.80226315 0.05972977 0.6329223  0.94186072 0.37074812\n",
            "  0.35348615 0.55517023 0.93171541 0.60225211 1.06551851 0.18394954\n",
            "  0.97074403 0.78820174 1.08027174 0.27092769 0.64302073 0.220982\n",
            "  0.9718188  0.52016666 0.49300709 0.59782654 0.98099884 0.40157474\n",
            "  0.16262463 0.69061174 0.22468054 0.977782   0.07402941 0.67107028\n",
            "  0.56143609 0.197268   1.23426815 0.78577278 0.60603333 0.81256742\n",
            "  0.87037443 0.84410592 0.7350315  1.16140043 0.99029965 0.73939597\n",
            "  0.00139902 0.17637323 1.0370541  0.76110572 0.33175571 0.19934447\n",
            "  0.29476295 0.43315441 0.865575   0.        ]]\n"
          ]
        }
      ],
      "source": [
        "Z = np.random.random((100,2))\n",
        "X,Y = np.atleast_2d(Z[:,0]), np.atleast_2d(Z[:,1])\n",
        "D = np.sqrt( (X-X.T)**2 + (Y-Y.T)**2)\n",
        "print(D)"
      ]
    },
    {
      "cell_type": "markdown",
      "id": "f5c164f2",
      "metadata": {
        "id": "f5c164f2"
      },
      "source": [
        "#### 53. How to convert a float (32 bits) array into an integer (32 bits) in place?"
      ]
    },
    {
      "cell_type": "code",
      "execution_count": 78,
      "id": "ea262de8",
      "metadata": {
        "id": "ea262de8",
        "colab": {
          "base_uri": "https://localhost:8080/"
        },
        "outputId": "7e442183-3934-49b4-c607-8066ad3758ce"
      },
      "outputs": [
        {
          "output_type": "stream",
          "name": "stdout",
          "text": [
            "[0 1 2 3 4 5 6 7 8 9]\n",
            "[0. 1. 2. 3. 4. 5. 6. 7. 8. 9.]\n"
          ]
        }
      ],
      "source": [
        "Z = np.arange(10, dtype=np.int32)\n",
        "print(Z)\n",
        "Z = Z.astype(np.float32, copy=False)\n",
        "print(Z)"
      ]
    },
    {
      "cell_type": "markdown",
      "id": "a8b7e6f5",
      "metadata": {
        "id": "a8b7e6f5"
      },
      "source": [
        "#### 54. How to read the following file? (★★☆)\n",
        "```\n",
        "1, 2, 3, 4, 5\n",
        "6,  ,  , 7, 8\n",
        " ,  , 9,10,11\n",
        "```"
      ]
    },
    {
      "cell_type": "code",
      "execution_count": 87,
      "id": "bde0538a",
      "metadata": {
        "id": "bde0538a",
        "colab": {
          "base_uri": "https://localhost:8080/"
        },
        "outputId": "9e249e4f-cd61-4676-a8a7-a1cca84b538e"
      },
      "outputs": [
        {
          "output_type": "stream",
          "name": "stdout",
          "text": [
            "[[ 1.  2.  3.  4.  5.]\n",
            " [ 6. nan nan  7.  8.]\n",
            " [nan nan  9. 10. 11.]]\n"
          ]
        }
      ],
      "source": [
        "#please Create a txt file in your storage with upper data content Mr Baghbani jam\n",
        "Z = np.genfromtxt(\"/content/txt\", delimiter=\",\")\n",
        "print(Z)"
      ]
    },
    {
      "cell_type": "markdown",
      "id": "c6b32834",
      "metadata": {
        "id": "c6b32834"
      },
      "source": [
        "#### 55. What is the equivalent of enumerate for numpy arrays? (★★☆)"
      ]
    },
    {
      "cell_type": "code",
      "execution_count": 88,
      "id": "ab02472a",
      "metadata": {
        "id": "ab02472a",
        "colab": {
          "base_uri": "https://localhost:8080/"
        },
        "outputId": "c7bd21f6-b16c-47b7-d216-f694b36582f6"
      },
      "outputs": [
        {
          "output_type": "stream",
          "name": "stdout",
          "text": [
            "(0, 0) 0\n",
            "(0, 1) 1\n",
            "(0, 2) 2\n",
            "(1, 0) 3\n",
            "(1, 1) 4\n",
            "(1, 2) 5\n",
            "(2, 0) 6\n",
            "(2, 1) 7\n",
            "(2, 2) 8\n",
            "(0, 0) 0\n",
            "(0, 1) 1\n",
            "(0, 2) 2\n",
            "(1, 0) 3\n",
            "(1, 1) 4\n",
            "(1, 2) 5\n",
            "(2, 0) 6\n",
            "(2, 1) 7\n",
            "(2, 2) 8\n"
          ]
        }
      ],
      "source": [
        "Z = np.arange(9).reshape(3,3)\n",
        "for index, value in np.ndenumerate(Z):\n",
        "    print(index, value)\n",
        "for index in np.ndindex(Z.shape):\n",
        "    print(index, Z[index])"
      ]
    },
    {
      "cell_type": "markdown",
      "id": "a2121a05",
      "metadata": {
        "id": "a2121a05"
      },
      "source": [
        "#### 56. Generate a generic 2D Gaussian-like array (★★☆)"
      ]
    },
    {
      "cell_type": "code",
      "execution_count": 89,
      "id": "18507102",
      "metadata": {
        "id": "18507102",
        "colab": {
          "base_uri": "https://localhost:8080/"
        },
        "outputId": "66831298-ec6b-473c-cbb0-e6cf107a278f"
      },
      "outputs": [
        {
          "output_type": "stream",
          "name": "stdout",
          "text": [
            "[[0.36787944 0.44822088 0.51979489 0.57375342 0.60279818 0.60279818\n",
            "  0.57375342 0.51979489 0.44822088 0.36787944]\n",
            " [0.44822088 0.54610814 0.63331324 0.69905581 0.73444367 0.73444367\n",
            "  0.69905581 0.63331324 0.54610814 0.44822088]\n",
            " [0.51979489 0.63331324 0.73444367 0.81068432 0.85172308 0.85172308\n",
            "  0.81068432 0.73444367 0.63331324 0.51979489]\n",
            " [0.57375342 0.69905581 0.81068432 0.89483932 0.9401382  0.9401382\n",
            "  0.89483932 0.81068432 0.69905581 0.57375342]\n",
            " [0.60279818 0.73444367 0.85172308 0.9401382  0.98773022 0.98773022\n",
            "  0.9401382  0.85172308 0.73444367 0.60279818]\n",
            " [0.60279818 0.73444367 0.85172308 0.9401382  0.98773022 0.98773022\n",
            "  0.9401382  0.85172308 0.73444367 0.60279818]\n",
            " [0.57375342 0.69905581 0.81068432 0.89483932 0.9401382  0.9401382\n",
            "  0.89483932 0.81068432 0.69905581 0.57375342]\n",
            " [0.51979489 0.63331324 0.73444367 0.81068432 0.85172308 0.85172308\n",
            "  0.81068432 0.73444367 0.63331324 0.51979489]\n",
            " [0.44822088 0.54610814 0.63331324 0.69905581 0.73444367 0.73444367\n",
            "  0.69905581 0.63331324 0.54610814 0.44822088]\n",
            " [0.36787944 0.44822088 0.51979489 0.57375342 0.60279818 0.60279818\n",
            "  0.57375342 0.51979489 0.44822088 0.36787944]]\n"
          ]
        }
      ],
      "source": [
        "X, Y = np.meshgrid(np.linspace(-1,1,10), np.linspace(-1,1,10))\n",
        "D = np.sqrt(X*X+Y*Y)\n",
        "sigma, mu = 1.0, 0.0\n",
        "G = np.exp(-( (D-mu)**2 / ( 2.0 * sigma**2 ) ) )\n",
        "print(G)"
      ]
    },
    {
      "cell_type": "markdown",
      "id": "97055efa",
      "metadata": {
        "id": "97055efa"
      },
      "source": [
        "#### 57. How to randomly place p elements in a 2D array? (★★☆)"
      ]
    },
    {
      "cell_type": "code",
      "execution_count": 90,
      "id": "292e842f",
      "metadata": {
        "id": "292e842f",
        "colab": {
          "base_uri": "https://localhost:8080/"
        },
        "outputId": "0b2ac15a-b923-40d7-b172-8bf5871147f8"
      },
      "outputs": [
        {
          "output_type": "stream",
          "name": "stdout",
          "text": [
            "[[0. 1. 0. 0. 0.]\n",
            " [0. 0. 0. 0. 0.]\n",
            " [0. 0. 0. 0. 1.]\n",
            " [1. 0. 0. 0. 0.]\n",
            " [0. 0. 0. 0. 0.]]\n"
          ]
        }
      ],
      "source": [
        "n = 5\n",
        "p = 3\n",
        "Z = np.zeros((n,n))\n",
        "np.put(Z, np.random.choice(range(n*n), p, replace=False),1)\n",
        "print (Z)"
      ]
    },
    {
      "cell_type": "markdown",
      "id": "bfd2513c",
      "metadata": {
        "id": "bfd2513c"
      },
      "source": [
        "#### 58. Subtract the mean of each row of a matrix (★★☆)"
      ]
    },
    {
      "cell_type": "code",
      "execution_count": 93,
      "id": "f306ab72",
      "metadata": {
        "id": "f306ab72",
        "colab": {
          "base_uri": "https://localhost:8080/"
        },
        "outputId": "730fe0f2-bf47-403e-fa5f-87c90235afe0"
      },
      "outputs": [
        {
          "output_type": "stream",
          "name": "stdout",
          "text": [
            "[[0.97693988 0.62793404 0.8013532  0.42163369 0.80161152 0.80612151]\n",
            " [0.38079013 0.22167494 0.66612209 0.73113118 0.45243831 0.96823328]\n",
            " [0.00366314 0.31789965 0.44493866 0.74543485 0.04220958 0.32438646]\n",
            " [0.20715751 0.04644619 0.31963746 0.05327362 0.80814125 0.93844981]\n",
            " [0.8219164  0.51630512 0.977582   0.03603393 0.31221803 0.22036766]]\n",
            "[[ 0.23767424 -0.1113316   0.06208756 -0.31763195  0.06234588  0.06685587]\n",
            " [-0.18927486 -0.34839005  0.0960571   0.1610662  -0.11762668  0.39816829]\n",
            " [-0.30942559  0.00481092  0.13184994  0.43234613 -0.27087914  0.01129773]\n",
            " [-0.18836013 -0.34907145 -0.07588018 -0.34224402  0.41262361  0.54293217]\n",
            " [ 0.34117921  0.03556793  0.49684481 -0.44470326 -0.16851916 -0.26036953]]\n"
          ]
        }
      ],
      "source": [
        "X = np.random.rand(5, 6)\n",
        "Y = X - X.mean(axis=1, keepdims=True)\n",
        "print(X)\n",
        "print(Y)"
      ]
    },
    {
      "cell_type": "markdown",
      "id": "da9f2f9b",
      "metadata": {
        "id": "da9f2f9b"
      },
      "source": [
        "#### 59. How to sort an array by the nth column? (★★☆)"
      ]
    },
    {
      "cell_type": "code",
      "execution_count": 94,
      "id": "68cde57f",
      "metadata": {
        "id": "68cde57f",
        "colab": {
          "base_uri": "https://localhost:8080/"
        },
        "outputId": "9f7bba9d-2a96-4fbc-cd81-24b9e808ae39"
      },
      "outputs": [
        {
          "output_type": "stream",
          "name": "stdout",
          "text": [
            "[[7 7 0]\n",
            " [2 9 6]\n",
            " [3 5 4]]\n",
            "[[3 5 4]\n",
            " [7 7 0]\n",
            " [2 9 6]]\n"
          ]
        }
      ],
      "source": [
        "Z = np.random.randint(0,10,(3,3))\n",
        "print(Z)\n",
        "print(Z[Z[:,1].argsort()])"
      ]
    },
    {
      "cell_type": "markdown",
      "id": "5b7be45c",
      "metadata": {
        "id": "5b7be45c"
      },
      "source": [
        "#### 60. How to tell if a given 2D array has null columns? (★★☆)"
      ]
    },
    {
      "cell_type": "code",
      "execution_count": 95,
      "id": "7dbe2c27",
      "metadata": {
        "id": "7dbe2c27",
        "colab": {
          "base_uri": "https://localhost:8080/"
        },
        "outputId": "8cb05d31-11b6-4e04-d547-7fb766cc2456"
      },
      "outputs": [
        {
          "output_type": "stream",
          "name": "stdout",
          "text": [
            "False\n"
          ]
        }
      ],
      "source": [
        "Z = np.random.randint(0,3,(3,10))\n",
        "print((~Z.any(axis=0)).any())"
      ]
    },
    {
      "cell_type": "markdown",
      "id": "7c18c02e",
      "metadata": {
        "id": "7c18c02e"
      },
      "source": [
        "#### 61. Find the nearest value from a given value in an array (★★☆)"
      ]
    },
    {
      "cell_type": "code",
      "execution_count": 97,
      "id": "b78ae9c4",
      "metadata": {
        "id": "b78ae9c4",
        "colab": {
          "base_uri": "https://localhost:8080/"
        },
        "outputId": "448b5b9a-7a82-4353-927a-5dd4a3dcb929"
      },
      "outputs": [
        {
          "output_type": "stream",
          "name": "stdout",
          "text": [
            "0.6155077241040405\n"
          ]
        }
      ],
      "source": [
        "Z = np.random.uniform(0,1,10)\n",
        "z = 0.6\n",
        "m = Z.flat[np.abs(Z - z).argmin()]\n",
        "print(m)\n"
      ]
    },
    {
      "cell_type": "markdown",
      "id": "8174ba2c",
      "metadata": {
        "id": "8174ba2c"
      },
      "source": [
        "#### 62. Considering two arrays with shape (1,3) and (3,1), how to compute their sum using an iterator? (★★☆)"
      ]
    },
    {
      "cell_type": "code",
      "execution_count": null,
      "id": "8a18fe57",
      "metadata": {
        "id": "8a18fe57"
      },
      "outputs": [],
      "source": [
        ""
      ]
    },
    {
      "cell_type": "markdown",
      "id": "9189bd7c",
      "metadata": {
        "id": "9189bd7c"
      },
      "source": [
        "#### 63. Create an array class that has a name attribute (★★☆)"
      ]
    },
    {
      "cell_type": "code",
      "execution_count": null,
      "id": "1c01ed42",
      "metadata": {
        "id": "1c01ed42"
      },
      "outputs": [],
      "source": [
        ""
      ]
    },
    {
      "cell_type": "markdown",
      "id": "f30162d2",
      "metadata": {
        "id": "f30162d2"
      },
      "source": [
        "#### 64. Consider a given vector, how to add 1 to each element indexed by a second vector (be careful with repeated indices)? (★★★)"
      ]
    },
    {
      "cell_type": "code",
      "execution_count": 99,
      "id": "093ba36f",
      "metadata": {
        "id": "093ba36f",
        "colab": {
          "base_uri": "https://localhost:8080/"
        },
        "outputId": "38b309b8-d16c-44da-bc3d-70c8061ec176"
      },
      "outputs": [
        {
          "output_type": "stream",
          "name": "stdout",
          "text": [
            "[2. 2. 5. 4. 2. 1. 5. 4. 2. 3.]\n"
          ]
        }
      ],
      "source": [
        "Z = np.ones(10)\n",
        "I = np.random.randint(0,len(Z),20)\n",
        "Z += np.bincount(I, minlength=len(Z))\n",
        "print(Z)"
      ]
    },
    {
      "cell_type": "markdown",
      "id": "f5b1c584",
      "metadata": {
        "id": "f5b1c584"
      },
      "source": [
        "#### 65. How to accumulate elements of a vector (X) to an array (F) based on an index list (I)? (★★★)"
      ]
    },
    {
      "cell_type": "code",
      "execution_count": null,
      "id": "c9d92a75",
      "metadata": {
        "id": "c9d92a75"
      },
      "outputs": [],
      "source": [
        ""
      ]
    },
    {
      "cell_type": "markdown",
      "id": "994c452d",
      "metadata": {
        "id": "994c452d"
      },
      "source": [
        "#### 66. Considering a (w,h,3) image of (dtype=ubyte), compute the number of unique colors (★★☆)"
      ]
    },
    {
      "cell_type": "code",
      "execution_count": null,
      "id": "269cdaea",
      "metadata": {
        "id": "269cdaea"
      },
      "outputs": [],
      "source": [
        ""
      ]
    },
    {
      "cell_type": "markdown",
      "id": "4bddeb31",
      "metadata": {
        "id": "4bddeb31"
      },
      "source": [
        "#### 67. Considering a four dimensions array, how to get sum over the last two axis at once? (★★★)"
      ]
    },
    {
      "cell_type": "code",
      "execution_count": null,
      "id": "32af15f5",
      "metadata": {
        "id": "32af15f5"
      },
      "outputs": [],
      "source": [
        ""
      ]
    },
    {
      "cell_type": "markdown",
      "id": "c4cf083c",
      "metadata": {
        "id": "c4cf083c"
      },
      "source": [
        "#### 68. Considering a one-dimensional vector D, how to compute means of subsets of D using a vector S of same size describing subset  indices? (★★★)"
      ]
    },
    {
      "cell_type": "code",
      "execution_count": null,
      "id": "9600a2dd",
      "metadata": {
        "id": "9600a2dd"
      },
      "outputs": [],
      "source": [
        ""
      ]
    },
    {
      "cell_type": "markdown",
      "id": "a5e316db",
      "metadata": {
        "id": "a5e316db"
      },
      "source": [
        "#### 69. How to get the diagonal of a dot product? (★★★)"
      ]
    },
    {
      "cell_type": "code",
      "execution_count": null,
      "id": "94735dbd",
      "metadata": {
        "id": "94735dbd"
      },
      "outputs": [],
      "source": [
        ""
      ]
    },
    {
      "cell_type": "markdown",
      "id": "de727a7b",
      "metadata": {
        "id": "de727a7b"
      },
      "source": [
        "#### 70. Consider the vector [1, 2, 3, 4, 5], how to build a new vector with 3 consecutive zeros interleaved between each value? (★★★)"
      ]
    },
    {
      "cell_type": "code",
      "execution_count": null,
      "id": "982be812",
      "metadata": {
        "id": "982be812"
      },
      "outputs": [],
      "source": [
        ""
      ]
    },
    {
      "cell_type": "markdown",
      "id": "a9a73d6b",
      "metadata": {
        "id": "a9a73d6b"
      },
      "source": [
        "#### 71. Consider an array of dimension (5,5,3), how to mulitply it by an array with dimensions (5,5)? (★★★)"
      ]
    },
    {
      "cell_type": "code",
      "execution_count": null,
      "id": "282a90cc",
      "metadata": {
        "id": "282a90cc"
      },
      "outputs": [],
      "source": [
        ""
      ]
    },
    {
      "cell_type": "markdown",
      "id": "a951c78f",
      "metadata": {
        "id": "a951c78f"
      },
      "source": [
        "#### 72. How to swap two rows of an array? (★★★)"
      ]
    },
    {
      "cell_type": "code",
      "execution_count": null,
      "id": "e29b3fde",
      "metadata": {
        "id": "e29b3fde"
      },
      "outputs": [],
      "source": [
        ""
      ]
    },
    {
      "cell_type": "markdown",
      "id": "43b639e8",
      "metadata": {
        "id": "43b639e8"
      },
      "source": [
        "#### 73. Consider a set of 10 triplets describing 10 triangles (with shared vertices), find the set of unique line segments composing all the  triangles (★★★)"
      ]
    },
    {
      "cell_type": "code",
      "execution_count": null,
      "id": "147e1034",
      "metadata": {
        "id": "147e1034"
      },
      "outputs": [],
      "source": [
        ""
      ]
    },
    {
      "cell_type": "markdown",
      "id": "d41de585",
      "metadata": {
        "id": "d41de585"
      },
      "source": [
        "#### 74. Given a sorted array C that corresponds to a bincount, how to produce an array A such that np.bincount(A) == C? (★★★)"
      ]
    },
    {
      "cell_type": "code",
      "execution_count": null,
      "id": "5f5d6e36",
      "metadata": {
        "id": "5f5d6e36"
      },
      "outputs": [],
      "source": [
        ""
      ]
    },
    {
      "cell_type": "markdown",
      "id": "b50adf7c",
      "metadata": {
        "id": "b50adf7c"
      },
      "source": [
        "#### 75. How to compute averages using a sliding window over an array? (★★★)"
      ]
    },
    {
      "cell_type": "code",
      "execution_count": null,
      "id": "e631a9d2",
      "metadata": {
        "id": "e631a9d2"
      },
      "outputs": [],
      "source": [
        ""
      ]
    },
    {
      "cell_type": "markdown",
      "id": "1ab4c50d",
      "metadata": {
        "id": "1ab4c50d"
      },
      "source": [
        "#### 76. Consider a one-dimensional array Z, build a two-dimensional array whose first row is (Z[0],Z[1],Z[2]) and each subsequent row is  shifted by 1 (last row should be (Z[-3],Z[-2],Z[-1]) (★★★)"
      ]
    },
    {
      "cell_type": "code",
      "execution_count": null,
      "id": "3ccfe2c0",
      "metadata": {
        "id": "3ccfe2c0"
      },
      "outputs": [],
      "source": [
        ""
      ]
    },
    {
      "cell_type": "markdown",
      "id": "5b4fe59d",
      "metadata": {
        "id": "5b4fe59d"
      },
      "source": [
        "#### 77. How to negate a boolean, or to change the sign of a float inplace? (★★★)"
      ]
    },
    {
      "cell_type": "code",
      "execution_count": null,
      "id": "3c2373ff",
      "metadata": {
        "id": "3c2373ff"
      },
      "outputs": [],
      "source": [
        ""
      ]
    },
    {
      "cell_type": "markdown",
      "id": "119ab5af",
      "metadata": {
        "id": "119ab5af"
      },
      "source": [
        "#### 78. Consider 2 sets of points P0,P1 describing lines (2d) and a point p, how to compute distance from p to each line i (P0[i],P1[i])? (★★★)"
      ]
    },
    {
      "cell_type": "code",
      "execution_count": null,
      "id": "1d8d06dc",
      "metadata": {
        "id": "1d8d06dc"
      },
      "outputs": [],
      "source": [
        ""
      ]
    },
    {
      "cell_type": "markdown",
      "id": "e5e7f323",
      "metadata": {
        "id": "e5e7f323"
      },
      "source": [
        "#### 79. Consider 2 sets of points P0,P1 describing lines (2d) and a set of points P, how to compute distance from each point j (P[j]) to each line i (P0[i],P1[i])? (★★★)"
      ]
    },
    {
      "cell_type": "code",
      "execution_count": null,
      "id": "d0ce77e2",
      "metadata": {
        "id": "d0ce77e2"
      },
      "outputs": [],
      "source": [
        ""
      ]
    },
    {
      "cell_type": "markdown",
      "id": "9b9d03eb",
      "metadata": {
        "id": "9b9d03eb"
      },
      "source": [
        "#### 80. Consider an arbitrary array, write a function that extract a subpart with a fixed shape and centered on a given element (pad with a `fill` value when necessary) (★★★)"
      ]
    },
    {
      "cell_type": "code",
      "execution_count": null,
      "id": "ec2b7ae3",
      "metadata": {
        "id": "ec2b7ae3"
      },
      "outputs": [],
      "source": [
        ""
      ]
    },
    {
      "cell_type": "markdown",
      "id": "27794913",
      "metadata": {
        "id": "27794913"
      },
      "source": [
        "#### 81. Consider an array Z = [1,2,3,4,5,6,7,8,9,10,11,12,13,14], how to generate an array R = [[1,2,3,4], [2,3,4,5], [3,4,5,6], ..., [11,12,13,14]]? (★★★)"
      ]
    },
    {
      "cell_type": "code",
      "execution_count": null,
      "id": "f3e7878b",
      "metadata": {
        "id": "f3e7878b"
      },
      "outputs": [],
      "source": [
        ""
      ]
    },
    {
      "cell_type": "markdown",
      "id": "fae786f5",
      "metadata": {
        "id": "fae786f5"
      },
      "source": [
        "#### 82. Compute a matrix rank (★★★)"
      ]
    },
    {
      "cell_type": "code",
      "execution_count": null,
      "id": "64b9615b",
      "metadata": {
        "id": "64b9615b"
      },
      "outputs": [],
      "source": [
        ""
      ]
    },
    {
      "cell_type": "markdown",
      "id": "c85aa0b9",
      "metadata": {
        "id": "c85aa0b9"
      },
      "source": [
        "#### 83. How to find the most frequent value in an array?"
      ]
    },
    {
      "cell_type": "code",
      "execution_count": null,
      "id": "056be85b",
      "metadata": {
        "id": "056be85b"
      },
      "outputs": [],
      "source": [
        ""
      ]
    },
    {
      "cell_type": "markdown",
      "id": "0ff2344d",
      "metadata": {
        "id": "0ff2344d"
      },
      "source": [
        "#### 84. Extract all the contiguous 3x3 blocks from a random 10x10 matrix (★★★)"
      ]
    },
    {
      "cell_type": "code",
      "execution_count": null,
      "id": "d58b1318",
      "metadata": {
        "id": "d58b1318"
      },
      "outputs": [],
      "source": [
        ""
      ]
    },
    {
      "cell_type": "markdown",
      "id": "1a18b263",
      "metadata": {
        "id": "1a18b263"
      },
      "source": [
        "#### 85. Create a 2D array subclass such that Z[i,j] == Z[j,i] (★★★)"
      ]
    },
    {
      "cell_type": "code",
      "execution_count": null,
      "id": "87f17adc",
      "metadata": {
        "id": "87f17adc"
      },
      "outputs": [],
      "source": [
        ""
      ]
    },
    {
      "cell_type": "markdown",
      "id": "f85f2cad",
      "metadata": {
        "id": "f85f2cad"
      },
      "source": [
        "#### 86. Consider a set of p matrices wich shape (n,n) and a set of p vectors with shape (n,1). How to compute the sum of of the p matrix products at once? (result has shape (n,1)) (★★★)"
      ]
    },
    {
      "cell_type": "code",
      "execution_count": null,
      "id": "8d230557",
      "metadata": {
        "id": "8d230557"
      },
      "outputs": [],
      "source": [
        ""
      ]
    },
    {
      "cell_type": "markdown",
      "id": "5afb72c8",
      "metadata": {
        "id": "5afb72c8"
      },
      "source": [
        "#### 87. Consider a 16x16 array, how to get the block-sum (block size is 4x4)? (★★★)"
      ]
    },
    {
      "cell_type": "code",
      "execution_count": null,
      "id": "e86f47a9",
      "metadata": {
        "id": "e86f47a9"
      },
      "outputs": [],
      "source": [
        ""
      ]
    },
    {
      "cell_type": "markdown",
      "id": "6094d37c",
      "metadata": {
        "id": "6094d37c"
      },
      "source": [
        "#### 88. How to implement the Game of Life using numpy arrays? (★★★)"
      ]
    },
    {
      "cell_type": "code",
      "execution_count": null,
      "id": "a93e715f",
      "metadata": {
        "id": "a93e715f"
      },
      "outputs": [],
      "source": [
        ""
      ]
    },
    {
      "cell_type": "markdown",
      "id": "a173cf96",
      "metadata": {
        "id": "a173cf96"
      },
      "source": [
        "#### 89. How to get the n largest values of an array (★★★)"
      ]
    },
    {
      "cell_type": "code",
      "execution_count": null,
      "id": "b7c2ff35",
      "metadata": {
        "id": "b7c2ff35"
      },
      "outputs": [],
      "source": [
        ""
      ]
    },
    {
      "cell_type": "markdown",
      "id": "15db2d01",
      "metadata": {
        "id": "15db2d01"
      },
      "source": [
        "#### 90. Given an arbitrary number of vectors, build the cartesian product (every combinations of every item) (★★★)"
      ]
    },
    {
      "cell_type": "code",
      "execution_count": null,
      "id": "a9a4633d",
      "metadata": {
        "id": "a9a4633d"
      },
      "outputs": [],
      "source": [
        ""
      ]
    },
    {
      "cell_type": "markdown",
      "id": "5d94d1ef",
      "metadata": {
        "id": "5d94d1ef"
      },
      "source": [
        "#### 91. How to create a record array from a regular array? (★★★)"
      ]
    },
    {
      "cell_type": "code",
      "execution_count": null,
      "id": "b1dae380",
      "metadata": {
        "id": "b1dae380"
      },
      "outputs": [],
      "source": [
        ""
      ]
    },
    {
      "cell_type": "markdown",
      "id": "114ccc36",
      "metadata": {
        "id": "114ccc36"
      },
      "source": [
        "#### 92. Consider a large vector Z, compute Z to the power of 3 using 3 different methods (★★★)"
      ]
    },
    {
      "cell_type": "code",
      "execution_count": null,
      "id": "877c65d6",
      "metadata": {
        "id": "877c65d6"
      },
      "outputs": [],
      "source": [
        ""
      ]
    },
    {
      "cell_type": "markdown",
      "id": "d614fee4",
      "metadata": {
        "id": "d614fee4"
      },
      "source": [
        "#### 93. Consider two arrays A and B of shape (8,3) and (2,2). How to find rows of A that contain elements of each row of B regardless of the order of the elements in B? (★★★)"
      ]
    },
    {
      "cell_type": "code",
      "execution_count": null,
      "id": "e6807a84",
      "metadata": {
        "id": "e6807a84"
      },
      "outputs": [],
      "source": [
        ""
      ]
    },
    {
      "cell_type": "markdown",
      "id": "b0eedca6",
      "metadata": {
        "id": "b0eedca6"
      },
      "source": [
        "#### 94. Considering a 10x3 matrix, extract rows with unequal values (e.g. [2,2,3]) (★★★)"
      ]
    },
    {
      "cell_type": "code",
      "execution_count": null,
      "id": "fc136ce2",
      "metadata": {
        "id": "fc136ce2"
      },
      "outputs": [],
      "source": [
        ""
      ]
    },
    {
      "cell_type": "markdown",
      "id": "a65ec1cf",
      "metadata": {
        "id": "a65ec1cf"
      },
      "source": [
        "#### 95. Convert a vector of ints into a matrix binary representation (★★★)"
      ]
    },
    {
      "cell_type": "code",
      "execution_count": null,
      "id": "323cdf4c",
      "metadata": {
        "id": "323cdf4c"
      },
      "outputs": [],
      "source": [
        ""
      ]
    },
    {
      "cell_type": "markdown",
      "id": "75b9397f",
      "metadata": {
        "id": "75b9397f"
      },
      "source": [
        "#### 96. Given a two dimensional array, how to extract unique rows? (★★★)"
      ]
    },
    {
      "cell_type": "code",
      "execution_count": null,
      "id": "9bb56a47",
      "metadata": {
        "id": "9bb56a47"
      },
      "outputs": [],
      "source": [
        ""
      ]
    },
    {
      "cell_type": "markdown",
      "id": "82aaf21b",
      "metadata": {
        "id": "82aaf21b"
      },
      "source": [
        "#### 97. Considering 2 vectors A & B, write the einsum equivalent of inner, outer, sum, and mul function (★★★)"
      ]
    },
    {
      "cell_type": "code",
      "execution_count": null,
      "id": "cedcefd9",
      "metadata": {
        "id": "cedcefd9"
      },
      "outputs": [],
      "source": [
        ""
      ]
    },
    {
      "cell_type": "markdown",
      "id": "7741e17f",
      "metadata": {
        "id": "7741e17f"
      },
      "source": [
        "#### 98. Considering a path described by two vectors (X,Y), how to sample it using equidistant samples (★★★)?"
      ]
    },
    {
      "cell_type": "code",
      "execution_count": null,
      "id": "0b2432fe",
      "metadata": {
        "id": "0b2432fe"
      },
      "outputs": [],
      "source": [
        ""
      ]
    },
    {
      "cell_type": "markdown",
      "id": "340d6f36",
      "metadata": {
        "id": "340d6f36"
      },
      "source": [
        "#### 99. Given an integer n and a 2D array X, select from X the rows which can be interpreted as draws from a multinomial distribution with n degrees, i.e., the rows which only contain integers and which sum to n. (★★★)"
      ]
    },
    {
      "cell_type": "code",
      "execution_count": null,
      "id": "a75323ae",
      "metadata": {
        "id": "a75323ae"
      },
      "outputs": [],
      "source": [
        ""
      ]
    },
    {
      "cell_type": "markdown",
      "id": "19721849",
      "metadata": {
        "id": "19721849"
      },
      "source": [
        "#### 100. Compute bootstrapped 95% confidence intervals for the mean of a 1D array X (i.e., resample the elements of an array with replacement N times, compute the mean of each sample, and then compute percentiles over the means). (★★★)"
      ]
    },
    {
      "cell_type": "code",
      "execution_count": null,
      "id": "87309c6f",
      "metadata": {
        "id": "87309c6f"
      },
      "outputs": [],
      "source": [
        ""
      ]
    }
  ],
  "metadata": {
    "kernelspec": {
      "display_name": "Python 3 (ipykernel)",
      "language": "python",
      "name": "python3"
    },
    "language_info": {
      "codemirror_mode": {
        "name": "ipython",
        "version": 3
      },
      "file_extension": ".py",
      "mimetype": "text/x-python",
      "name": "python",
      "nbconvert_exporter": "python",
      "pygments_lexer": "ipython3",
      "version": "3.8.11"
    },
    "colab": {
      "name": "100_Numpy_exercises_Zarenejad.ipynb",
      "provenance": [],
      "collapsed_sections": [
        "cd0ce6b1",
        "c4c942d1",
        "9b3cb8d2",
        "2facfddc",
        "539cd2a5",
        "448f8274",
        "d7b7aaf3",
        "a556027a",
        "004f3da1",
        "1c0adc0d",
        "c8a2f65a",
        "11727a69",
        "e0e7d741",
        "c5611b9e",
        "d22b8574",
        "f5c164f2",
        "a8b7e6f5",
        "c6b32834",
        "a2121a05",
        "97055efa",
        "bfd2513c",
        "da9f2f9b",
        "5b7be45c",
        "7c18c02e",
        "8174ba2c",
        "9189bd7c",
        "f30162d2",
        "f5b1c584",
        "994c452d",
        "4bddeb31",
        "c4cf083c",
        "a5e316db",
        "de727a7b",
        "a9a73d6b",
        "a951c78f",
        "43b639e8",
        "d41de585",
        "b50adf7c",
        "1ab4c50d",
        "5b4fe59d",
        "119ab5af",
        "e5e7f323",
        "9b9d03eb",
        "27794913",
        "fae786f5",
        "c85aa0b9",
        "0ff2344d",
        "1a18b263",
        "f85f2cad",
        "5afb72c8",
        "6094d37c",
        "a173cf96",
        "15db2d01",
        "5d94d1ef",
        "114ccc36",
        "d614fee4",
        "b0eedca6",
        "a65ec1cf",
        "75b9397f",
        "82aaf21b",
        "7741e17f",
        "340d6f36",
        "19721849"
      ]
    }
  },
  "nbformat": 4,
  "nbformat_minor": 5
}