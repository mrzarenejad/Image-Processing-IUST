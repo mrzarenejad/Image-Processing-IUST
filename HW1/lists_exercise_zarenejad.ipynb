{
  "cells": [
    {
      "cell_type": "markdown",
      "metadata": {
        "id": "OImOnQ2uPwIA"
      },
      "source": [
        "# 1. Fill the missing pieces\n",
        "Fill the `____` parts of the code below."
      ]
    },
    {
      "cell_type": "code",
      "execution_count": 3,
      "metadata": {
        "colab": {
          "base_uri": "https://localhost:8080/"
        },
        "id": "uDFi4JRrPwIL",
        "outputId": "fe3f11e8-ed4b-416b-fd16-f3a4e30feda1"
      },
      "outputs": [
        {
          "output_type": "execute_result",
          "data": {
            "text/plain": [
              "['Python', 'is neat']"
            ]
          },
          "metadata": {},
          "execution_count": 3
        }
      ],
      "source": [
        "# Let's create an empty list\n",
        "my_list =[]\n",
        "\n",
        "# Let's add some values\n",
        "my_list.append('Python')\n",
        "my_list.append('is ok')\n",
        "my_list.append('sometimes')\n",
        "\n",
        "# Let's remove 'sometimes'\n",
        "my_list.remove('sometimes')\n",
        "\n",
        "# Let's change the second item\n",
        "my_list[1] = 'is neat'\n",
        "my_list"
      ]
    },
    {
      "cell_type": "code",
      "execution_count": 4,
      "metadata": {
        "editable": false,
        "id": "oUhvoNV9PwIS"
      },
      "outputs": [],
      "source": [
        "# Let's verify that it's correct\n",
        "assert my_list == ['Python', 'is neat']"
      ]
    },
    {
      "cell_type": "markdown",
      "metadata": {
        "id": "yfRDu64PPwIT"
      },
      "source": [
        "# 2. Create a new list without modifiying the original one\n"
      ]
    },
    {
      "cell_type": "code",
      "execution_count": 25,
      "metadata": {
        "editable": false,
        "id": "J7fCgj8sPwIV"
      },
      "outputs": [],
      "source": [
        "original = ['I', 'am', 'learning', 'hacking', 'in']"
      ]
    },
    {
      "cell_type": "code",
      "execution_count": 32,
      "metadata": {
        "colab": {
          "base_uri": "https://localhost:8080/"
        },
        "id": "29x-mwFhPwIW",
        "outputId": "a256046a-640d-45be-8ba4-443b64f28f07"
      },
      "outputs": [
        {
          "output_type": "stream",
          "name": "stdout",
          "text": [
            "['I', 'am', 'learning', 'lists', 'in', 'Python']\n"
          ]
        }
      ],
      "source": [
        "# Your implementation here\n",
        "modified =list(original)\n",
        "modified[3]='lists'\n",
        "modified.append('Python')\n",
        "print(modified)"
      ]
    },
    {
      "cell_type": "code",
      "execution_count": 33,
      "metadata": {
        "editable": false,
        "id": "VuQhCfGcPwIY"
      },
      "outputs": [],
      "source": [
        "assert original == ['I', 'am', 'learning', 'hacking', 'in']\n",
        "assert modified == ['I', 'am', 'learning', 'lists', 'in', 'Python']"
      ]
    },
    {
      "cell_type": "markdown",
      "metadata": {
        "id": "_ip3Zd7pPwIZ"
      },
      "source": [
        "# 3. Create a merged sorted list"
      ]
    },
    {
      "cell_type": "code",
      "execution_count": 35,
      "metadata": {
        "editable": false,
        "id": "H25vPK_LPwIa"
      },
      "outputs": [],
      "source": [
        "list1 = [6, 12, 5]\n",
        "list2 = [6.2, 0, 14, 1]\n",
        "list3 = [0.9]"
      ]
    },
    {
      "cell_type": "code",
      "execution_count": 42,
      "metadata": {
        "id": "P9e4g0SPPwIc"
      },
      "outputs": [],
      "source": [
        "# Your implementation here\n",
        "my_list =list1+list2+list3\n",
        "my_list.sort(reverse=True) "
      ]
    },
    {
      "cell_type": "code",
      "execution_count": 43,
      "metadata": {
        "editable": false,
        "scrolled": true,
        "colab": {
          "base_uri": "https://localhost:8080/"
        },
        "id": "KzJkfig_PwIe",
        "outputId": "62bb7526-0935-49cb-abf8-a40ef3dde8f8"
      },
      "outputs": [
        {
          "output_type": "stream",
          "name": "stdout",
          "text": [
            "[14, 12, 6.2, 6, 5, 1, 0.9, 0]\n"
          ]
        }
      ],
      "source": [
        "print(my_list)\n",
        "assert my_list == [14, 12, 6.2, 6, 5, 1, 0.9, 0]"
      ]
    }
  ],
  "metadata": {
    "kernelspec": {
      "display_name": "Python 3 (ipykernel)",
      "language": "python",
      "name": "python3"
    },
    "language_info": {
      "codemirror_mode": {
        "name": "ipython",
        "version": 3
      },
      "file_extension": ".py",
      "mimetype": "text/x-python",
      "name": "python",
      "nbconvert_exporter": "python",
      "pygments_lexer": "ipython3",
      "version": "3.8.11"
    },
    "colab": {
      "name": "lists_exercise_zarenejad.ipynb",
      "provenance": []
    }
  },
  "nbformat": 4,
  "nbformat_minor": 0
}