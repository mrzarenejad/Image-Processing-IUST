{
 "cells": [
  {
   "cell_type": "code",
   "execution_count": 1,
   "id": "29ea56f0",
   "metadata": {},
   "outputs": [],
   "source": [
    "import cv2\n",
    "import numpy as np "
   ]
  },
  {
   "cell_type": "code",
   "execution_count": 92,
   "id": "d9dc1306",
   "metadata": {},
   "outputs": [],
   "source": [
    "def position(solution_img_gray):\n",
    "    \n",
    "    for i in range(len(solution_img_gray[0:])):\n",
    "                    for j in range(len(solution_img_gray[0])):\n",
    "                                   if solution_img_gray[i][j] > 45 :\n",
    "                                                solution_img_gray[i][j]= 255\n",
    "                                   else:\n",
    "                                                solution_img_gray[i][j]=0\n",
    "                                    \n",
    "    solution_img_gray_slice1=255-solution_img_gray[60:460,155:160]\n",
    "    solution_img_gray_slice2=255-solution_img_gray[60:460,280:285]\n",
    "\n",
    "    solution_img_gray_slice=np.vstack((solution_img_gray_slice1,solution_img_gray_slice2))\n",
    "\n",
    "    solution_img_gray_slice_max=np.zeros(np.shape(solution_img_gray_slice))\n",
    "\n",
    "    for i in range(2,len(solution_img_gray_slice[0:])-3):\n",
    "        solution_img_gray_slice_max[i][:]=np.max(solution_img_gray_slice[i-2:i+3,0:5])\n",
    "    \n",
    "    count=0\n",
    "    k=0\n",
    "    key=[]\n",
    "    for i in range(6,len(solution_img_gray_slice_max[0:]),5):\n",
    "    \n",
    "            if k==1:\n",
    "                k=0\n",
    "                continue\n",
    "            \n",
    "            b = np.sum(solution_img_gray_slice_max[i-5:i+5,0:5])/50\n",
    "            if b >= 125:\n",
    "                c = np.sum(solution_img_gray_slice_max[(i+5)-5:(i+5)+5,0:5])/50\n",
    "                if c >= b :\n",
    "                    continue\n",
    "                count = count + 1\n",
    "                key.append(i)\n",
    "            \n",
    "                k=1\n",
    "    return key"
   ]
  },
  {
   "cell_type": "code",
   "execution_count": 115,
   "id": "f19bda13",
   "metadata": {},
   "outputs": [
    {
     "name": "stdout",
     "output_type": "stream",
     "text": [
      "Mark of student1 = 6\n",
      "Mark of student2 = 8\n"
     ]
    }
   ],
   "source": [
    "solution_img = cv2.imread('ref.jpg')\n",
    "solution_img_gray = cv2.cvtColor(solution_img, cv2.COLOR_BGR2GRAY)\n",
    "student1_img = cv2.imread('student1.jpg')\n",
    "student1_img_gray = cv2.cvtColor(student1_img, cv2.COLOR_BGR2GRAY)\n",
    "student2_img = cv2.imread('student2.jpg')\n",
    "student2_img_gray = cv2.cvtColor(student2_img, cv2.COLOR_BGR2GRAY)\n",
    "student1_correction=abs(np.subtract(position(solution_img_gray),position(student1_img_gray)))\n",
    "student2_correction=abs(np.subtract(position(solution_img_gray),position(student2_img_gray)))\n",
    "x = [i for i in student1_correction if i>5]\n",
    "y = [i for i in student2_correction if i>5]\n",
    "print('Mark of student1 = {}'.format(10-len(x)))\n",
    "print('Mark of student2 = {}'.format(10-len(y)))"
   ]
  },
  {
   "cell_type": "code",
   "execution_count": null,
   "id": "8bfe1075",
   "metadata": {},
   "outputs": [],
   "source": []
  }
 ],
 "metadata": {
  "kernelspec": {
   "display_name": "Python 3 (ipykernel)",
   "language": "python",
   "name": "python3"
  },
  "language_info": {
   "codemirror_mode": {
    "name": "ipython",
    "version": 3
   },
   "file_extension": ".py",
   "mimetype": "text/x-python",
   "name": "python",
   "nbconvert_exporter": "python",
   "pygments_lexer": "ipython3",
   "version": "3.9.7"
  }
 },
 "nbformat": 4,
 "nbformat_minor": 5
}
